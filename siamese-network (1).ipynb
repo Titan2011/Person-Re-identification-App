{
 "cells": [
  {
   "cell_type": "code",
   "execution_count": 1,
   "id": "ed7acad9",
   "metadata": {
    "_cell_guid": "b1076dfc-b9ad-4769-8c92-a6c4dae69d19",
    "_uuid": "8f2839f25d086af736a60e9eeb907d3b93b6e0e5",
    "execution": {
     "iopub.execute_input": "2023-06-02T20:03:57.751916Z",
     "iopub.status.busy": "2023-06-02T20:03:57.751571Z",
     "iopub.status.idle": "2023-06-02T20:04:01.151113Z",
     "shell.execute_reply": "2023-06-02T20:04:01.150040Z"
    },
    "papermill": {
     "duration": 3.41359,
     "end_time": "2023-06-02T20:04:01.153539",
     "exception": false,
     "start_time": "2023-06-02T20:03:57.739949",
     "status": "completed"
    },
    "tags": []
   },
   "outputs": [
    {
     "name": "stdout",
     "output_type": "stream",
     "text": [
      "Cloning into 'Person-Re-Id-Dataset'...\r\n",
      "remote: Enumerating objects: 12942, done.\u001b[K\r\n",
      "remote: Counting objects: 100% (12942/12942), done.\u001b[K\r\n",
      "remote: Compressing objects: 100% (12942/12942), done.\u001b[K\r\n",
      "remote: Total 12942 (delta 0), reused 12942 (delta 0), pack-reused 0\u001b[K\r\n",
      "Receiving objects: 100% (12942/12942), 27.68 MiB | 25.67 MiB/s, done.\r\n"
     ]
    }
   ],
   "source": [
    "!git clone https://github.com/parth1620/Person-Re-Id-Dataset "
   ]
  },
  {
   "cell_type": "code",
   "execution_count": 2,
   "id": "00a86fed",
   "metadata": {
    "execution": {
     "iopub.execute_input": "2023-06-02T20:04:01.178453Z",
     "iopub.status.busy": "2023-06-02T20:04:01.178112Z",
     "iopub.status.idle": "2023-06-02T20:04:09.367704Z",
     "shell.execute_reply": "2023-06-02T20:04:09.366648Z"
    },
    "papermill": {
     "duration": 8.209243,
     "end_time": "2023-06-02T20:04:09.374675",
     "exception": false,
     "start_time": "2023-06-02T20:04:01.165432",
     "status": "completed"
    },
    "tags": []
   },
   "outputs": [
    {
     "name": "stderr",
     "output_type": "stream",
     "text": [
      "/opt/conda/lib/python3.10/site-packages/tensorflow_io/python/ops/__init__.py:98: UserWarning: unable to load libtensorflow_io_plugins.so: unable to open file: libtensorflow_io_plugins.so, from paths: ['/opt/conda/lib/python3.10/site-packages/tensorflow_io/python/ops/libtensorflow_io_plugins.so']\n",
      "caused by: ['/opt/conda/lib/python3.10/site-packages/tensorflow_io/python/ops/libtensorflow_io_plugins.so: undefined symbol: _ZN3tsl6StatusC1EN10tensorflow5error4CodeESt17basic_string_viewIcSt11char_traitsIcEENS_14SourceLocationE']\n",
      "  warnings.warn(f\"unable to load libtensorflow_io_plugins.so: {e}\")\n",
      "/opt/conda/lib/python3.10/site-packages/tensorflow_io/python/ops/__init__.py:104: UserWarning: file system plugins are not loaded: unable to open file: libtensorflow_io.so, from paths: ['/opt/conda/lib/python3.10/site-packages/tensorflow_io/python/ops/libtensorflow_io.so']\n",
      "caused by: ['/opt/conda/lib/python3.10/site-packages/tensorflow_io/python/ops/libtensorflow_io.so: undefined symbol: _ZTVN10tensorflow13GcsFileSystemE']\n",
      "  warnings.warn(f\"file system plugins are not loaded: {e}\")\n"
     ]
    },
    {
     "name": "stdout",
     "output_type": "stream",
     "text": [
      "PhysicalDevice(name='/physical_device:GPU:0', device_type='GPU')\n"
     ]
    }
   ],
   "source": [
    "import tensorflow as tf\n",
    "gpus=tf.config.experimental.list_physical_devices('GPU')\n",
    "for gpu in gpus:\n",
    "    tf.config.experimental.set_memory_growth(gpu,True)\n",
    "print(gpu)"
   ]
  },
  {
   "cell_type": "code",
   "execution_count": 3,
   "id": "64fd6d99",
   "metadata": {
    "execution": {
     "iopub.execute_input": "2023-06-02T20:04:09.408790Z",
     "iopub.status.busy": "2023-06-02T20:04:09.406948Z",
     "iopub.status.idle": "2023-06-02T20:04:09.412843Z",
     "shell.execute_reply": "2023-06-02T20:04:09.411997Z"
    },
    "papermill": {
     "duration": 0.022678,
     "end_time": "2023-06-02T20:04:09.414734",
     "exception": false,
     "start_time": "2023-06-02T20:04:09.392056",
     "status": "completed"
    },
    "tags": []
   },
   "outputs": [],
   "source": [
    "import sys\n",
    "sys.path.append('/kaggle/working/Person-Re-Id-Dataset')"
   ]
  },
  {
   "cell_type": "code",
   "execution_count": 4,
   "id": "7f609cc6",
   "metadata": {
    "execution": {
     "iopub.execute_input": "2023-06-02T20:04:09.439474Z",
     "iopub.status.busy": "2023-06-02T20:04:09.438720Z",
     "iopub.status.idle": "2023-06-02T20:04:15.544404Z",
     "shell.execute_reply": "2023-06-02T20:04:15.543485Z"
    },
    "papermill": {
     "duration": 6.120441,
     "end_time": "2023-06-02T20:04:15.546773",
     "exception": false,
     "start_time": "2023-06-02T20:04:09.426332",
     "status": "completed"
    },
    "tags": []
   },
   "outputs": [],
   "source": [
    "import pandas as pd\n",
    "import numpy as np\n",
    "import matplotlib.pyplot as plt\n",
    "import torch\n",
    "import timm\n",
    "\n",
    "import torch.nn.functional as F\n",
    "from torch import nn\n",
    "from torch.utils.data import Dataset, DataLoader\n",
    "\n",
    "from skimage import io\n",
    "from sklearn.model_selection import train_test_split\n",
    "\n",
    "from tqdm import tqdm"
   ]
  },
  {
   "cell_type": "markdown",
   "id": "9a033466",
   "metadata": {
    "papermill": {
     "duration": 0.01148,
     "end_time": "2023-06-02T20:04:15.570181",
     "exception": false,
     "start_time": "2023-06-02T20:04:15.558701",
     "status": "completed"
    },
    "tags": []
   },
   "source": [
    "#  Setting Data paths and visualizing dataset"
   ]
  },
  {
   "cell_type": "code",
   "execution_count": 5,
   "id": "f8c00f92",
   "metadata": {
    "execution": {
     "iopub.execute_input": "2023-06-02T20:04:15.594938Z",
     "iopub.status.busy": "2023-06-02T20:04:15.594653Z",
     "iopub.status.idle": "2023-06-02T20:04:15.599306Z",
     "shell.execute_reply": "2023-06-02T20:04:15.598346Z"
    },
    "papermill": {
     "duration": 0.019306,
     "end_time": "2023-06-02T20:04:15.601323",
     "exception": false,
     "start_time": "2023-06-02T20:04:15.582017",
     "status": "completed"
    },
    "tags": []
   },
   "outputs": [],
   "source": [
    "d_dir='/kaggle/working/Person-Re-Id-Dataset/train/'\n",
    "csv='/kaggle/working/Person-Re-Id-Dataset/train.csv'\n",
    "batch_sz=128\n",
    "learning_rate=0.001\n",
    "epochs=400\n",
    "device='cuda'"
   ]
  },
  {
   "cell_type": "code",
   "execution_count": 6,
   "id": "811faf6d",
   "metadata": {
    "execution": {
     "iopub.execute_input": "2023-06-02T20:04:15.625474Z",
     "iopub.status.busy": "2023-06-02T20:04:15.625216Z",
     "iopub.status.idle": "2023-06-02T20:04:15.651823Z",
     "shell.execute_reply": "2023-06-02T20:04:15.650974Z"
    },
    "papermill": {
     "duration": 0.04079,
     "end_time": "2023-06-02T20:04:15.653642",
     "exception": false,
     "start_time": "2023-06-02T20:04:15.612852",
     "status": "completed"
    },
    "tags": []
   },
   "outputs": [
    {
     "data": {
      "text/html": [
       "<div>\n",
       "<style scoped>\n",
       "    .dataframe tbody tr th:only-of-type {\n",
       "        vertical-align: middle;\n",
       "    }\n",
       "\n",
       "    .dataframe tbody tr th {\n",
       "        vertical-align: top;\n",
       "    }\n",
       "\n",
       "    .dataframe thead th {\n",
       "        text-align: right;\n",
       "    }\n",
       "</style>\n",
       "<table border=\"1\" class=\"dataframe\">\n",
       "  <thead>\n",
       "    <tr style=\"text-align: right;\">\n",
       "      <th></th>\n",
       "      <th>Anchor</th>\n",
       "      <th>Negative</th>\n",
       "      <th>Positive</th>\n",
       "    </tr>\n",
       "  </thead>\n",
       "  <tbody>\n",
       "    <tr>\n",
       "      <th>0</th>\n",
       "      <td>1420_c5s3_052165_01.jpg</td>\n",
       "      <td>1334_c6s3_061492_05.jpg</td>\n",
       "      <td>1420_c3s3_051678_01.jpg</td>\n",
       "    </tr>\n",
       "    <tr>\n",
       "      <th>1</th>\n",
       "      <td>1420_c3s3_061978_03.jpg</td>\n",
       "      <td>0234_c3s3_079494_02.jpg</td>\n",
       "      <td>1420_c6s3_085567_02.jpg</td>\n",
       "    </tr>\n",
       "    <tr>\n",
       "      <th>2</th>\n",
       "      <td>1420_c5s3_062565_05.jpg</td>\n",
       "      <td>0475_c2s1_122816_08.jpg</td>\n",
       "      <td>1420_c3s3_051653_01.jpg</td>\n",
       "    </tr>\n",
       "    <tr>\n",
       "      <th>3</th>\n",
       "      <td>1420_c6s3_085592_04.jpg</td>\n",
       "      <td>0662_c2s2_036662_05.jpg</td>\n",
       "      <td>1420_c1s6_013446_04.jpg</td>\n",
       "    </tr>\n",
       "    <tr>\n",
       "      <th>4</th>\n",
       "      <td>0663_c5s3_085987_03.jpg</td>\n",
       "      <td>1463_c2s3_098102_02.jpg</td>\n",
       "      <td>0663_c3s3_085544_06.jpg</td>\n",
       "    </tr>\n",
       "    <tr>\n",
       "      <th>5</th>\n",
       "      <td>0663_c6s4_011877_01.jpg</td>\n",
       "      <td>0354_c6s1_081151_02.jpg</td>\n",
       "      <td>0663_c3s3_085469_02.jpg</td>\n",
       "    </tr>\n",
       "    <tr>\n",
       "      <th>6</th>\n",
       "      <td>0663_c1s6_036721_09.jpg</td>\n",
       "      <td>0151_c1s1_025076_01.jpg</td>\n",
       "      <td>0663_c6s4_011902_01.jpg</td>\n",
       "    </tr>\n",
       "  </tbody>\n",
       "</table>\n",
       "</div>"
      ],
      "text/plain": [
       "                    Anchor                 Negative                 Positive\n",
       "0  1420_c5s3_052165_01.jpg  1334_c6s3_061492_05.jpg  1420_c3s3_051678_01.jpg\n",
       "1  1420_c3s3_061978_03.jpg  0234_c3s3_079494_02.jpg  1420_c6s3_085567_02.jpg\n",
       "2  1420_c5s3_062565_05.jpg  0475_c2s1_122816_08.jpg  1420_c3s3_051653_01.jpg\n",
       "3  1420_c6s3_085592_04.jpg  0662_c2s2_036662_05.jpg  1420_c1s6_013446_04.jpg\n",
       "4  0663_c5s3_085987_03.jpg  1463_c2s3_098102_02.jpg  0663_c3s3_085544_06.jpg\n",
       "5  0663_c6s4_011877_01.jpg  0354_c6s1_081151_02.jpg  0663_c3s3_085469_02.jpg\n",
       "6  0663_c1s6_036721_09.jpg  0151_c1s1_025076_01.jpg  0663_c6s4_011902_01.jpg"
      ]
     },
     "execution_count": 6,
     "metadata": {},
     "output_type": "execute_result"
    }
   ],
   "source": [
    "df=pd.read_csv(csv)\n",
    "df.head(7)"
   ]
  },
  {
   "cell_type": "code",
   "execution_count": 7,
   "id": "83bc4046",
   "metadata": {
    "execution": {
     "iopub.execute_input": "2023-06-02T20:04:15.678392Z",
     "iopub.status.busy": "2023-06-02T20:04:15.677886Z",
     "iopub.status.idle": "2023-06-02T20:04:15.696604Z",
     "shell.execute_reply": "2023-06-02T20:04:15.695801Z"
    },
    "papermill": {
     "duration": 0.033203,
     "end_time": "2023-06-02T20:04:15.698566",
     "exception": false,
     "start_time": "2023-06-02T20:04:15.665363",
     "status": "completed"
    },
    "tags": []
   },
   "outputs": [],
   "source": [
    "row=df.iloc[18]\n",
    "\n",
    "A_img=io.imread(d_dir + row.Anchor)\n",
    "N_img=io.imread(d_dir+row.Negative)\n",
    "P_img=io.imread(d_dir+row.Positive)"
   ]
  },
  {
   "cell_type": "code",
   "execution_count": 8,
   "id": "15a58e01",
   "metadata": {
    "execution": {
     "iopub.execute_input": "2023-06-02T20:04:15.723135Z",
     "iopub.status.busy": "2023-06-02T20:04:15.722880Z",
     "iopub.status.idle": "2023-06-02T20:04:16.353338Z",
     "shell.execute_reply": "2023-06-02T20:04:16.352492Z"
    },
    "papermill": {
     "duration": 0.645231,
     "end_time": "2023-06-02T20:04:16.355603",
     "exception": false,
     "start_time": "2023-06-02T20:04:15.710372",
     "status": "completed"
    },
    "tags": []
   },
   "outputs": [
    {
     "data": {
      "text/plain": [
       "<matplotlib.image.AxesImage at 0x7d0b958102e0>"
      ]
     },
     "execution_count": 8,
     "metadata": {},
     "output_type": "execute_result"
    },
    {
     "data": {
      "image/png": "[encoded data removed]",
      "text/plain": [
       "<Figure size 1000x500 with 3 Axes>"
      ]
     },
     "metadata": {},
     "output_type": "display_data"
    }
   ],
   "source": [
    "f,(ax1,ax2,ax3)=plt.subplots(1,3,figsize=(10,5))\n",
    "ax1.set_title('Anchor')\n",
    "ax1.imshow(A_img)\n",
    "\n",
    "ax2.set_title('Positive')\n",
    "ax2.imshow(P_img)\n",
    "\n",
    "ax3.set_title('Negaitive')\n",
    "ax3.imshow(N_img)"
   ]
  },
  {
   "cell_type": "code",
   "execution_count": 9,
   "id": "5b3d15b0",
   "metadata": {
    "execution": {
     "iopub.execute_input": "2023-06-02T20:04:16.382902Z",
     "iopub.status.busy": "2023-06-02T20:04:16.382625Z",
     "iopub.status.idle": "2023-06-02T20:04:16.389604Z",
     "shell.execute_reply": "2023-06-02T20:04:16.389024Z"
    },
    "papermill": {
     "duration": 0.022548,
     "end_time": "2023-06-02T20:04:16.391373",
     "exception": false,
     "start_time": "2023-06-02T20:04:16.368825",
     "status": "completed"
    },
    "tags": []
   },
   "outputs": [],
   "source": [
    "train_df,valid_df=train_test_split(df,test_size=0.2,random_state=45)"
   ]
  },
  {
   "cell_type": "markdown",
   "id": "d3468b1d",
   "metadata": {
    "papermill": {
     "duration": 0.012557,
     "end_time": "2023-06-02T20:04:16.416657",
     "exception": false,
     "start_time": "2023-06-02T20:04:16.404100",
     "status": "completed"
    },
    "tags": []
   },
   "source": [
    "# Creating APN Dataset"
   ]
  },
  {
   "cell_type": "code",
   "execution_count": 10,
   "id": "81084ab5",
   "metadata": {
    "execution": {
     "iopub.execute_input": "2023-06-02T20:04:16.444012Z",
     "iopub.status.busy": "2023-06-02T20:04:16.443286Z",
     "iopub.status.idle": "2023-06-02T20:04:16.450470Z",
     "shell.execute_reply": "2023-06-02T20:04:16.449667Z"
    },
    "papermill": {
     "duration": 0.022776,
     "end_time": "2023-06-02T20:04:16.452397",
     "exception": false,
     "start_time": "2023-06-02T20:04:16.429621",
     "status": "completed"
    },
    "tags": []
   },
   "outputs": [],
   "source": [
    "class APN_Dataset(Dataset):\n",
    "    \n",
    "    def __init__(self,df):\n",
    "        self.df=df\n",
    "    \n",
    "    def __len__(self):\n",
    "        return len(self.df)\n",
    "    \n",
    "    def __getitem__(self,idx):\n",
    "        row=self.df.iloc[idx]\n",
    "        A_img=io.imread(d_dir + row.Anchor)\n",
    "        N_img=io.imread(d_dir+row.Negative)\n",
    "        P_img=io.imread(d_dir+row.Positive)\n",
    "        \n",
    "        A_img=torch.from_numpy(A_img).permute(2,0,1)/255.0\n",
    "        P_img=torch.from_numpy(P_img).permute(2,0,1)/255.0\n",
    "        N_img=torch.from_numpy(N_img).permute(2,0,1)/255.0\n",
    "        \n",
    "        return A_img, P_img, N_img"
   ]
  },
  {
   "cell_type": "code",
   "execution_count": 11,
   "id": "ec86f5bc",
   "metadata": {
    "execution": {
     "iopub.execute_input": "2023-06-02T20:04:16.479378Z",
     "iopub.status.busy": "2023-06-02T20:04:16.478659Z",
     "iopub.status.idle": "2023-06-02T20:04:16.484808Z",
     "shell.execute_reply": "2023-06-02T20:04:16.483526Z"
    },
    "papermill": {
     "duration": 0.021537,
     "end_time": "2023-06-02T20:04:16.486738",
     "exception": false,
     "start_time": "2023-06-02T20:04:16.465201",
     "status": "completed"
    },
    "tags": []
   },
   "outputs": [
    {
     "name": "stdout",
     "output_type": "stream",
     "text": [
      "train set length: 3200\n",
      "valid set length: 800\n"
     ]
    }
   ],
   "source": [
    "train=APN_Dataset(train_df)\n",
    "valid=APN_Dataset(valid_df)\n",
    "\n",
    "print(f\"train set length: {len(train)}\")\n",
    "print(f\"valid set length: {len(valid)}\")"
   ]
  },
  {
   "cell_type": "code",
   "execution_count": 12,
   "id": "9e71e667",
   "metadata": {
    "execution": {
     "iopub.execute_input": "2023-06-02T20:04:16.514204Z",
     "iopub.status.busy": "2023-06-02T20:04:16.513465Z",
     "iopub.status.idle": "2023-06-02T20:04:17.172892Z",
     "shell.execute_reply": "2023-06-02T20:04:17.171961Z"
    },
    "papermill": {
     "duration": 0.675702,
     "end_time": "2023-06-02T20:04:17.175361",
     "exception": false,
     "start_time": "2023-06-02T20:04:16.499659",
     "status": "completed"
    },
    "tags": []
   },
   "outputs": [
    {
     "data": {
      "text/plain": [
       "<matplotlib.image.AxesImage at 0x7d0b92facdf0>"
      ]
     },
     "execution_count": 12,
     "metadata": {},
     "output_type": "execute_result"
    },
    {
     "data": {
      "image/png": "[encoded data removed]",
      "text/plain": [
       "<Figure size 1000x500 with 3 Axes>"
      ]
     },
     "metadata": {},
     "output_type": "display_data"
    }
   ],
   "source": [
    "idx=47\n",
    "A,P,N=train[idx]\n",
    "\n",
    "f,(ax1,ax2,ax3)=plt.subplots(1,3,figsize=(10,5))\n",
    "\n",
    "ax1.set_title('Anchor')\n",
    "ax1.imshow(A.numpy().transpose((1,2,0)),cmap='gray')\n",
    "\n",
    "ax2.set_title('Positive')\n",
    "ax2.imshow(P.numpy().transpose((1,2,0)),cmap='gray')\n",
    "\n",
    "ax3.set_title('Negative')\n",
    "ax3.imshow(N.numpy().transpose((1,2,0)),cmap='gray')"
   ]
  },
  {
   "cell_type": "markdown",
   "id": "3eb65aed",
   "metadata": {
    "papermill": {
     "duration": 0.013967,
     "end_time": "2023-06-02T20:04:17.203712",
     "exception": false,
     "start_time": "2023-06-02T20:04:17.189745",
     "status": "completed"
    },
    "tags": []
   },
   "source": [
    "# Loading dataset into batches"
   ]
  },
  {
   "cell_type": "code",
   "execution_count": 13,
   "id": "0ac1a216",
   "metadata": {
    "execution": {
     "iopub.execute_input": "2023-06-02T20:04:17.233720Z",
     "iopub.status.busy": "2023-06-02T20:04:17.232905Z",
     "iopub.status.idle": "2023-06-02T20:04:17.238085Z",
     "shell.execute_reply": "2023-06-02T20:04:17.237296Z"
    },
    "papermill": {
     "duration": 0.022222,
     "end_time": "2023-06-02T20:04:17.240010",
     "exception": false,
     "start_time": "2023-06-02T20:04:17.217788",
     "status": "completed"
    },
    "tags": []
   },
   "outputs": [],
   "source": [
    "trainLoad=DataLoader(train,batch_size=batch_sz,shuffle=True)\n",
    "validLoad=DataLoader(valid,batch_size=batch_sz)"
   ]
  },
  {
   "cell_type": "code",
   "execution_count": 14,
   "id": "c0c1aae8",
   "metadata": {
    "execution": {
     "iopub.execute_input": "2023-06-02T20:04:17.269584Z",
     "iopub.status.busy": "2023-06-02T20:04:17.269063Z",
     "iopub.status.idle": "2023-06-02T20:04:17.273890Z",
     "shell.execute_reply": "2023-06-02T20:04:17.273026Z"
    },
    "papermill": {
     "duration": 0.021918,
     "end_time": "2023-06-02T20:04:17.276089",
     "exception": false,
     "start_time": "2023-06-02T20:04:17.254171",
     "status": "completed"
    },
    "tags": []
   },
   "outputs": [
    {
     "name": "stdout",
     "output_type": "stream",
     "text": [
      "No of batches in trainLoad 25\n",
      "No of batches in validLoad 7\n"
     ]
    }
   ],
   "source": [
    "print(f\"No of batches in trainLoad {len(trainLoad)}\")\n",
    "print(f\"No of batches in validLoad {len(validLoad)}\")"
   ]
  },
  {
   "cell_type": "code",
   "execution_count": 15,
   "id": "731f5719",
   "metadata": {
    "execution": {
     "iopub.execute_input": "2023-06-02T20:04:17.305780Z",
     "iopub.status.busy": "2023-06-02T20:04:17.305164Z",
     "iopub.status.idle": "2023-06-02T20:04:17.616898Z",
     "shell.execute_reply": "2023-06-02T20:04:17.615635Z"
    },
    "papermill": {
     "duration": 0.329023,
     "end_time": "2023-06-02T20:04:17.619095",
     "exception": false,
     "start_time": "2023-06-02T20:04:17.290072",
     "status": "completed"
    },
    "tags": []
   },
   "outputs": [
    {
     "name": "stdout",
     "output_type": "stream",
     "text": [
      "One image batch shape: torch.Size([128, 3, 128, 64])\n"
     ]
    }
   ],
   "source": [
    "for A,P,N in trainLoad:\n",
    "    break\n",
    "print(f\"One image batch shape: {A.shape}\")"
   ]
  },
  {
   "cell_type": "markdown",
   "id": "aa148a61",
   "metadata": {
    "papermill": {
     "duration": 0.014113,
     "end_time": "2023-06-02T20:04:17.647657",
     "exception": false,
     "start_time": "2023-06-02T20:04:17.633544",
     "status": "completed"
    },
    "tags": []
   },
   "source": [
    "# Creating Model"
   ]
  },
  {
   "cell_type": "code",
   "execution_count": 16,
   "id": "c2539b33",
   "metadata": {
    "execution": {
     "iopub.execute_input": "2023-06-02T20:04:17.677541Z",
     "iopub.status.busy": "2023-06-02T20:04:17.676989Z",
     "iopub.status.idle": "2023-06-02T20:04:17.683183Z",
     "shell.execute_reply": "2023-06-02T20:04:17.682367Z"
    },
    "papermill": {
     "duration": 0.023449,
     "end_time": "2023-06-02T20:04:17.685301",
     "exception": false,
     "start_time": "2023-06-02T20:04:17.661852",
     "status": "completed"
    },
    "tags": []
   },
   "outputs": [],
   "source": [
    "class APN_Model(nn.Module):\n",
    "    def __init__(self,emb_size=512):\n",
    "        super(APN_Model,self).__init__()\n",
    "        \n",
    "        self.efficientnet=timm.create_model('efficientnet_b0',pretrained=True)\n",
    "        self.efficientnet.classifier=nn.Linear(in_features=self.efficientnet.classifier.in_features,out_features=emb_size)\n",
    "        \n",
    "    def forward(self,image):\n",
    "        embeddings=self.efficientnet(image)\n",
    "        \n",
    "        return embeddings"
   ]
  },
  {
   "cell_type": "code",
   "execution_count": 17,
   "id": "a4d186ec",
   "metadata": {
    "collapsed": true,
    "execution": {
     "iopub.execute_input": "2023-06-02T20:04:17.714928Z",
     "iopub.status.busy": "2023-06-02T20:04:17.714417Z",
     "iopub.status.idle": "2023-06-02T20:04:23.296907Z",
     "shell.execute_reply": "2023-06-02T20:04:23.296013Z"
    },
    "jupyter": {
     "outputs_hidden": true
    },
    "papermill": {
     "duration": 5.599989,
     "end_time": "2023-06-02T20:04:23.299379",
     "exception": false,
     "start_time": "2023-06-02T20:04:17.699390",
     "status": "completed"
    },
    "tags": []
   },
   "outputs": [
    {
     "data": {
      "application/vnd.jupyter.widget-view+json": {
       "model_id": "c33aa5adb401466685bc12ddacac4a3d",
       "version_major": 2,
       "version_minor": 0
      },
      "text/plain": [
       "Downloading model.safetensors:   0%|          | 0.00/21.4M [00:00<?, ?B/s]"
      ]
     },
     "metadata": {},
     "output_type": "display_data"
    },
    {
     "data": {
      "text/plain": [
       "APN_Model(\n",
       "  (efficientnet): EfficientNet(\n",
       "    (conv_stem): Conv2d(3, 32, kernel_size=(3, 3), stride=(2, 2), padding=(1, 1), bias=False)\n",
       "    (bn1): BatchNormAct2d(\n",
       "      32, eps=1e-05, momentum=0.1, affine=True, track_running_stats=True\n",
       "      (drop): Identity()\n",
       "      (act): SiLU(inplace=True)\n",
       "    )\n",
       "    (blocks): Sequential(\n",
       "      (0): Sequential(\n",
       "        (0): DepthwiseSeparableConv(\n",
       "          (conv_dw): Conv2d(32, 32, kernel_size=(3, 3), stride=(1, 1), padding=(1, 1), groups=32, bias=False)\n",
       "          (bn1): BatchNormAct2d(\n",
       "            32, eps=1e-05, momentum=0.1, affine=True, track_running_stats=True\n",
       "            (drop): Identity()\n",
       "            (act): SiLU(inplace=True)\n",
       "          )\n",
       "          (se): SqueezeExcite(\n",
       "            (conv_reduce): Conv2d(32, 8, kernel_size=(1, 1), stride=(1, 1))\n",
       "            (act1): SiLU(inplace=True)\n",
       "            (conv_expand): Conv2d(8, 32, kernel_size=(1, 1), stride=(1, 1))\n",
       "            (gate): Sigmoid()\n",
       "          )\n",
       "          (conv_pw): Conv2d(32, 16, kernel_size=(1, 1), stride=(1, 1), bias=False)\n",
       "          (bn2): BatchNormAct2d(\n",
       "            16, eps=1e-05, momentum=0.1, affine=True, track_running_stats=True\n",
       "            (drop): Identity()\n",
       "            (act): Identity()\n",
       "          )\n",
       "          (drop_path): Identity()\n",
       "        )\n",
       "      )\n",
       "      (1): Sequential(\n",
       "        (0): InvertedResidual(\n",
       "          (conv_pw): Conv2d(16, 96, kernel_size=(1, 1), stride=(1, 1), bias=False)\n",
       "          (bn1): BatchNormAct2d(\n",
       "            96, eps=1e-05, momentum=0.1, affine=True, track_running_stats=True\n",
       "            (drop): Identity()\n",
       "            (act): SiLU(inplace=True)\n",
       "          )\n",
       "          (conv_dw): Conv2d(96, 96, kernel_size=(3, 3), stride=(2, 2), padding=(1, 1), groups=96, bias=False)\n",
       "          (bn2): BatchNormAct2d(\n",
       "            96, eps=1e-05, momentum=0.1, affine=True, track_running_stats=True\n",
       "            (drop): Identity()\n",
       "            (act): SiLU(inplace=True)\n",
       "          )\n",
       "          (se): SqueezeExcite(\n",
       "            (conv_reduce): Conv2d(96, 4, kernel_size=(1, 1), stride=(1, 1))\n",
       "            (act1): SiLU(inplace=True)\n",
       "            (conv_expand): Conv2d(4, 96, kernel_size=(1, 1), stride=(1, 1))\n",
       "            (gate): Sigmoid()\n",
       "          )\n",
       "          (conv_pwl): Conv2d(96, 24, kernel_size=(1, 1), stride=(1, 1), bias=False)\n",
       "          (bn3): BatchNormAct2d(\n",
       "            24, eps=1e-05, momentum=0.1, affine=True, track_running_stats=True\n",
       "            (drop): Identity()\n",
       "            (act): Identity()\n",
       "          )\n",
       "          (drop_path): Identity()\n",
       "        )\n",
       "        (1): InvertedResidual(\n",
       "          (conv_pw): Conv2d(24, 144, kernel_size=(1, 1), stride=(1, 1), bias=False)\n",
       "          (bn1): BatchNormAct2d(\n",
       "            144, eps=1e-05, momentum=0.1, affine=True, track_running_stats=True\n",
       "            (drop): Identity()\n",
       "            (act): SiLU(inplace=True)\n",
       "          )\n",
       "          (conv_dw): Conv2d(144, 144, kernel_size=(3, 3), stride=(1, 1), padding=(1, 1), groups=144, bias=False)\n",
       "          (bn2): BatchNormAct2d(\n",
       "            144, eps=1e-05, momentum=0.1, affine=True, track_running_stats=True\n",
       "            (drop): Identity()\n",
       "            (act): SiLU(inplace=True)\n",
       "          )\n",
       "          (se): SqueezeExcite(\n",
       "            (conv_reduce): Conv2d(144, 6, kernel_size=(1, 1), stride=(1, 1))\n",
       "            (act1): SiLU(inplace=True)\n",
       "            (conv_expand): Conv2d(6, 144, kernel_size=(1, 1), stride=(1, 1))\n",
       "            (gate): Sigmoid()\n",
       "          )\n",
       "          (conv_pwl): Conv2d(144, 24, kernel_size=(1, 1), stride=(1, 1), bias=False)\n",
       "          (bn3): BatchNormAct2d(\n",
       "            24, eps=1e-05, momentum=0.1, affine=True, track_running_stats=True\n",
       "            (drop): Identity()\n",
       "            (act): Identity()\n",
       "          )\n",
       "          (drop_path): Identity()\n",
       "        )\n",
       "      )\n",
       "      (2): Sequential(\n",
       "        (0): InvertedResidual(\n",
       "          (conv_pw): Conv2d(24, 144, kernel_size=(1, 1), stride=(1, 1), bias=False)\n",
       "          (bn1): BatchNormAct2d(\n",
       "            144, eps=1e-05, momentum=0.1, affine=True, track_running_stats=True\n",
       "            (drop): Identity()\n",
       "            (act): SiLU(inplace=True)\n",
       "          )\n",
       "          (conv_dw): Conv2d(144, 144, kernel_size=(5, 5), stride=(2, 2), padding=(2, 2), groups=144, bias=False)\n",
       "          (bn2): BatchNormAct2d(\n",
       "            144, eps=1e-05, momentum=0.1, affine=True, track_running_stats=True\n",
       "            (drop): Identity()\n",
       "            (act): SiLU(inplace=True)\n",
       "          )\n",
       "          (se): SqueezeExcite(\n",
       "            (conv_reduce): Conv2d(144, 6, kernel_size=(1, 1), stride=(1, 1))\n",
       "            (act1): SiLU(inplace=True)\n",
       "            (conv_expand): Conv2d(6, 144, kernel_size=(1, 1), stride=(1, 1))\n",
       "            (gate): Sigmoid()\n",
       "          )\n",
       "          (conv_pwl): Conv2d(144, 40, kernel_size=(1, 1), stride=(1, 1), bias=False)\n",
       "          (bn3): BatchNormAct2d(\n",
       "            40, eps=1e-05, momentum=0.1, affine=True, track_running_stats=True\n",
       "            (drop): Identity()\n",
       "            (act): Identity()\n",
       "          )\n",
       "          (drop_path): Identity()\n",
       "        )\n",
       "        (1): InvertedResidual(\n",
       "          (conv_pw): Conv2d(40, 240, kernel_size=(1, 1), stride=(1, 1), bias=False)\n",
       "          (bn1): BatchNormAct2d(\n",
       "            240, eps=1e-05, momentum=0.1, affine=True, track_running_stats=True\n",
       "            (drop): Identity()\n",
       "            (act): SiLU(inplace=True)\n",
       "          )\n",
       "          (conv_dw): Conv2d(240, 240, kernel_size=(5, 5), stride=(1, 1), padding=(2, 2), groups=240, bias=False)\n",
       "          (bn2): BatchNormAct2d(\n",
       "            240, eps=1e-05, momentum=0.1, affine=True, track_running_stats=True\n",
       "            (drop): Identity()\n",
       "            (act): SiLU(inplace=True)\n",
       "          )\n",
       "          (se): SqueezeExcite(\n",
       "            (conv_reduce): Conv2d(240, 10, kernel_size=(1, 1), stride=(1, 1))\n",
       "            (act1): SiLU(inplace=True)\n",
       "            (conv_expand): Conv2d(10, 240, kernel_size=(1, 1), stride=(1, 1))\n",
       "            (gate): Sigmoid()\n",
       "          )\n",
       "          (conv_pwl): Conv2d(240, 40, kernel_size=(1, 1), stride=(1, 1), bias=False)\n",
       "          (bn3): BatchNormAct2d(\n",
       "            40, eps=1e-05, momentum=0.1, affine=True, track_running_stats=True\n",
       "            (drop): Identity()\n",
       "            (act): Identity()\n",
       "          )\n",
       "          (drop_path): Identity()\n",
       "        )\n",
       "      )\n",
       "      (3): Sequential(\n",
       "        (0): InvertedResidual(\n",
       "          (conv_pw): Conv2d(40, 240, kernel_size=(1, 1), stride=(1, 1), bias=False)\n",
       "          (bn1): BatchNormAct2d(\n",
       "            240, eps=1e-05, momentum=0.1, affine=True, track_running_stats=True\n",
       "            (drop): Identity()\n",
       "            (act): SiLU(inplace=True)\n",
       "          )\n",
       "          (conv_dw): Conv2d(240, 240, kernel_size=(3, 3), stride=(2, 2), padding=(1, 1), groups=240, bias=False)\n",
       "          (bn2): BatchNormAct2d(\n",
       "            240, eps=1e-05, momentum=0.1, affine=True, track_running_stats=True\n",
       "            (drop): Identity()\n",
       "            (act): SiLU(inplace=True)\n",
       "          )\n",
       "          (se): SqueezeExcite(\n",
       "            (conv_reduce): Conv2d(240, 10, kernel_size=(1, 1), stride=(1, 1))\n",
       "            (act1): SiLU(inplace=True)\n",
       "            (conv_expand): Conv2d(10, 240, kernel_size=(1, 1), stride=(1, 1))\n",
       "            (gate): Sigmoid()\n",
       "          )\n",
       "          (conv_pwl): Conv2d(240, 80, kernel_size=(1, 1), stride=(1, 1), bias=False)\n",
       "          (bn3): BatchNormAct2d(\n",
       "            80, eps=1e-05, momentum=0.1, affine=True, track_running_stats=True\n",
       "            (drop): Identity()\n",
       "            (act): Identity()\n",
       "          )\n",
       "          (drop_path): Identity()\n",
       "        )\n",
       "        (1): InvertedResidual(\n",
       "          (conv_pw): Conv2d(80, 480, kernel_size=(1, 1), stride=(1, 1), bias=False)\n",
       "          (bn1): BatchNormAct2d(\n",
       "            480, eps=1e-05, momentum=0.1, affine=True, track_running_stats=True\n",
       "            (drop): Identity()\n",
       "            (act): SiLU(inplace=True)\n",
       "          )\n",
       "          (conv_dw): Conv2d(480, 480, kernel_size=(3, 3), stride=(1, 1), padding=(1, 1), groups=480, bias=False)\n",
       "          (bn2): BatchNormAct2d(\n",
       "            480, eps=1e-05, momentum=0.1, affine=True, track_running_stats=True\n",
       "            (drop): Identity()\n",
       "            (act): SiLU(inplace=True)\n",
       "          )\n",
       "          (se): SqueezeExcite(\n",
       "            (conv_reduce): Conv2d(480, 20, kernel_size=(1, 1), stride=(1, 1))\n",
       "            (act1): SiLU(inplace=True)\n",
       "            (conv_expand): Conv2d(20, 480, kernel_size=(1, 1), stride=(1, 1))\n",
       "            (gate): Sigmoid()\n",
       "          )\n",
       "          (conv_pwl): Conv2d(480, 80, kernel_size=(1, 1), stride=(1, 1), bias=False)\n",
       "          (bn3): BatchNormAct2d(\n",
       "            80, eps=1e-05, momentum=0.1, affine=True, track_running_stats=True\n",
       "            (drop): Identity()\n",
       "            (act): Identity()\n",
       "          )\n",
       "          (drop_path): Identity()\n",
       "        )\n",
       "        (2): InvertedResidual(\n",
       "          (conv_pw): Conv2d(80, 480, kernel_size=(1, 1), stride=(1, 1), bias=False)\n",
       "          (bn1): BatchNormAct2d(\n",
       "            480, eps=1e-05, momentum=0.1, affine=True, track_running_stats=True\n",
       "            (drop): Identity()\n",
       "            (act): SiLU(inplace=True)\n",
       "          )\n",
       "          (conv_dw): Conv2d(480, 480, kernel_size=(3, 3), stride=(1, 1), padding=(1, 1), groups=480, bias=False)\n",
       "          (bn2): BatchNormAct2d(\n",
       "            480, eps=1e-05, momentum=0.1, affine=True, track_running_stats=True\n",
       "            (drop): Identity()\n",
       "            (act): SiLU(inplace=True)\n",
       "          )\n",
       "          (se): SqueezeExcite(\n",
       "            (conv_reduce): Conv2d(480, 20, kernel_size=(1, 1), stride=(1, 1))\n",
       "            (act1): SiLU(inplace=True)\n",
       "            (conv_expand): Conv2d(20, 480, kernel_size=(1, 1), stride=(1, 1))\n",
       "            (gate): Sigmoid()\n",
       "          )\n",
       "          (conv_pwl): Conv2d(480, 80, kernel_size=(1, 1), stride=(1, 1), bias=False)\n",
       "          (bn3): BatchNormAct2d(\n",
       "            80, eps=1e-05, momentum=0.1, affine=True, track_running_stats=True\n",
       "            (drop): Identity()\n",
       "            (act): Identity()\n",
       "          )\n",
       "          (drop_path): Identity()\n",
       "        )\n",
       "      )\n",
       "      (4): Sequential(\n",
       "        (0): InvertedResidual(\n",
       "          (conv_pw): Conv2d(80, 480, kernel_size=(1, 1), stride=(1, 1), bias=False)\n",
       "          (bn1): BatchNormAct2d(\n",
       "            480, eps=1e-05, momentum=0.1, affine=True, track_running_stats=True\n",
       "            (drop): Identity()\n",
       "            (act): SiLU(inplace=True)\n",
       "          )\n",
       "          (conv_dw): Conv2d(480, 480, kernel_size=(5, 5), stride=(1, 1), padding=(2, 2), groups=480, bias=False)\n",
       "          (bn2): BatchNormAct2d(\n",
       "            480, eps=1e-05, momentum=0.1, affine=True, track_running_stats=True\n",
       "            (drop): Identity()\n",
       "            (act): SiLU(inplace=True)\n",
       "          )\n",
       "          (se): SqueezeExcite(\n",
       "            (conv_reduce): Conv2d(480, 20, kernel_size=(1, 1), stride=(1, 1))\n",
       "            (act1): SiLU(inplace=True)\n",
       "            (conv_expand): Conv2d(20, 480, kernel_size=(1, 1), stride=(1, 1))\n",
       "            (gate): Sigmoid()\n",
       "          )\n",
       "          (conv_pwl): Conv2d(480, 112, kernel_size=(1, 1), stride=(1, 1), bias=False)\n",
       "          (bn3): BatchNormAct2d(\n",
       "            112, eps=1e-05, momentum=0.1, affine=True, track_running_stats=True\n",
       "            (drop): Identity()\n",
       "            (act): Identity()\n",
       "          )\n",
       "          (drop_path): Identity()\n",
       "        )\n",
       "        (1): InvertedResidual(\n",
       "          (conv_pw): Conv2d(112, 672, kernel_size=(1, 1), stride=(1, 1), bias=False)\n",
       "          (bn1): BatchNormAct2d(\n",
       "            672, eps=1e-05, momentum=0.1, affine=True, track_running_stats=True\n",
       "            (drop): Identity()\n",
       "            (act): SiLU(inplace=True)\n",
       "          )\n",
       "          (conv_dw): Conv2d(672, 672, kernel_size=(5, 5), stride=(1, 1), padding=(2, 2), groups=672, bias=False)\n",
       "          (bn2): BatchNormAct2d(\n",
       "            672, eps=1e-05, momentum=0.1, affine=True, track_running_stats=True\n",
       "            (drop): Identity()\n",
       "            (act): SiLU(inplace=True)\n",
       "          )\n",
       "          (se): SqueezeExcite(\n",
       "            (conv_reduce): Conv2d(672, 28, kernel_size=(1, 1), stride=(1, 1))\n",
       "            (act1): SiLU(inplace=True)\n",
       "            (conv_expand): Conv2d(28, 672, kernel_size=(1, 1), stride=(1, 1))\n",
       "            (gate): Sigmoid()\n",
       "          )\n",
       "          (conv_pwl): Conv2d(672, 112, kernel_size=(1, 1), stride=(1, 1), bias=False)\n",
       "          (bn3): BatchNormAct2d(\n",
       "            112, eps=1e-05, momentum=0.1, affine=True, track_running_stats=True\n",
       "            (drop): Identity()\n",
       "            (act): Identity()\n",
       "          )\n",
       "          (drop_path): Identity()\n",
       "        )\n",
       "        (2): InvertedResidual(\n",
       "          (conv_pw): Conv2d(112, 672, kernel_size=(1, 1), stride=(1, 1), bias=False)\n",
       "          (bn1): BatchNormAct2d(\n",
       "            672, eps=1e-05, momentum=0.1, affine=True, track_running_stats=True\n",
       "            (drop): Identity()\n",
       "            (act): SiLU(inplace=True)\n",
       "          )\n",
       "          (conv_dw): Conv2d(672, 672, kernel_size=(5, 5), stride=(1, 1), padding=(2, 2), groups=672, bias=False)\n",
       "          (bn2): BatchNormAct2d(\n",
       "            672, eps=1e-05, momentum=0.1, affine=True, track_running_stats=True\n",
       "            (drop): Identity()\n",
       "            (act): SiLU(inplace=True)\n",
       "          )\n",
       "          (se): SqueezeExcite(\n",
       "            (conv_reduce): Conv2d(672, 28, kernel_size=(1, 1), stride=(1, 1))\n",
       "            (act1): SiLU(inplace=True)\n",
       "            (conv_expand): Conv2d(28, 672, kernel_size=(1, 1), stride=(1, 1))\n",
       "            (gate): Sigmoid()\n",
       "          )\n",
       "          (conv_pwl): Conv2d(672, 112, kernel_size=(1, 1), stride=(1, 1), bias=False)\n",
       "          (bn3): BatchNormAct2d(\n",
       "            112, eps=1e-05, momentum=0.1, affine=True, track_running_stats=True\n",
       "            (drop): Identity()\n",
       "            (act): Identity()\n",
       "          )\n",
       "          (drop_path): Identity()\n",
       "        )\n",
       "      )\n",
       "      (5): Sequential(\n",
       "        (0): InvertedResidual(\n",
       "          (conv_pw): Conv2d(112, 672, kernel_size=(1, 1), stride=(1, 1), bias=False)\n",
       "          (bn1): BatchNormAct2d(\n",
       "            672, eps=1e-05, momentum=0.1, affine=True, track_running_stats=True\n",
       "            (drop): Identity()\n",
       "            (act): SiLU(inplace=True)\n",
       "          )\n",
       "          (conv_dw): Conv2d(672, 672, kernel_size=(5, 5), stride=(2, 2), padding=(2, 2), groups=672, bias=False)\n",
       "          (bn2): BatchNormAct2d(\n",
       "            672, eps=1e-05, momentum=0.1, affine=True, track_running_stats=True\n",
       "            (drop): Identity()\n",
       "            (act): SiLU(inplace=True)\n",
       "          )\n",
       "          (se): SqueezeExcite(\n",
       "            (conv_reduce): Conv2d(672, 28, kernel_size=(1, 1), stride=(1, 1))\n",
       "            (act1): SiLU(inplace=True)\n",
       "            (conv_expand): Conv2d(28, 672, kernel_size=(1, 1), stride=(1, 1))\n",
       "            (gate): Sigmoid()\n",
       "          )\n",
       "          (conv_pwl): Conv2d(672, 192, kernel_size=(1, 1), stride=(1, 1), bias=False)\n",
       "          (bn3): BatchNormAct2d(\n",
       "            192, eps=1e-05, momentum=0.1, affine=True, track_running_stats=True\n",
       "            (drop): Identity()\n",
       "            (act): Identity()\n",
       "          )\n",
       "          (drop_path): Identity()\n",
       "        )\n",
       "        (1): InvertedResidual(\n",
       "          (conv_pw): Conv2d(192, 1152, kernel_size=(1, 1), stride=(1, 1), bias=False)\n",
       "          (bn1): BatchNormAct2d(\n",
       "            1152, eps=1e-05, momentum=0.1, affine=True, track_running_stats=True\n",
       "            (drop): Identity()\n",
       "            (act): SiLU(inplace=True)\n",
       "          )\n",
       "          (conv_dw): Conv2d(1152, 1152, kernel_size=(5, 5), stride=(1, 1), padding=(2, 2), groups=1152, bias=False)\n",
       "          (bn2): BatchNormAct2d(\n",
       "            1152, eps=1e-05, momentum=0.1, affine=True, track_running_stats=True\n",
       "            (drop): Identity()\n",
       "            (act): SiLU(inplace=True)\n",
       "          )\n",
       "          (se): SqueezeExcite(\n",
       "            (conv_reduce): Conv2d(1152, 48, kernel_size=(1, 1), stride=(1, 1))\n",
       "            (act1): SiLU(inplace=True)\n",
       "            (conv_expand): Conv2d(48, 1152, kernel_size=(1, 1), stride=(1, 1))\n",
       "            (gate): Sigmoid()\n",
       "          )\n",
       "          (conv_pwl): Conv2d(1152, 192, kernel_size=(1, 1), stride=(1, 1), bias=False)\n",
       "          (bn3): BatchNormAct2d(\n",
       "            192, eps=1e-05, momentum=0.1, affine=True, track_running_stats=True\n",
       "            (drop): Identity()\n",
       "            (act): Identity()\n",
       "          )\n",
       "          (drop_path): Identity()\n",
       "        )\n",
       "        (2): InvertedResidual(\n",
       "          (conv_pw): Conv2d(192, 1152, kernel_size=(1, 1), stride=(1, 1), bias=False)\n",
       "          (bn1): BatchNormAct2d(\n",
       "            1152, eps=1e-05, momentum=0.1, affine=True, track_running_stats=True\n",
       "            (drop): Identity()\n",
       "            (act): SiLU(inplace=True)\n",
       "          )\n",
       "          (conv_dw): Conv2d(1152, 1152, kernel_size=(5, 5), stride=(1, 1), padding=(2, 2), groups=1152, bias=False)\n",
       "          (bn2): BatchNormAct2d(\n",
       "            1152, eps=1e-05, momentum=0.1, affine=True, track_running_stats=True\n",
       "            (drop): Identity()\n",
       "            (act): SiLU(inplace=True)\n",
       "          )\n",
       "          (se): SqueezeExcite(\n",
       "            (conv_reduce): Conv2d(1152, 48, kernel_size=(1, 1), stride=(1, 1))\n",
       "            (act1): SiLU(inplace=True)\n",
       "            (conv_expand): Conv2d(48, 1152, kernel_size=(1, 1), stride=(1, 1))\n",
       "            (gate): Sigmoid()\n",
       "          )\n",
       "          (conv_pwl): Conv2d(1152, 192, kernel_size=(1, 1), stride=(1, 1), bias=False)\n",
       "          (bn3): BatchNormAct2d(\n",
       "            192, eps=1e-05, momentum=0.1, affine=True, track_running_stats=True\n",
       "            (drop): Identity()\n",
       "            (act): Identity()\n",
       "          )\n",
       "          (drop_path): Identity()\n",
       "        )\n",
       "        (3): InvertedResidual(\n",
       "          (conv_pw): Conv2d(192, 1152, kernel_size=(1, 1), stride=(1, 1), bias=False)\n",
       "          (bn1): BatchNormAct2d(\n",
       "            1152, eps=1e-05, momentum=0.1, affine=True, track_running_stats=True\n",
       "            (drop): Identity()\n",
       "            (act): SiLU(inplace=True)\n",
       "          )\n",
       "          (conv_dw): Conv2d(1152, 1152, kernel_size=(5, 5), stride=(1, 1), padding=(2, 2), groups=1152, bias=False)\n",
       "          (bn2): BatchNormAct2d(\n",
       "            1152, eps=1e-05, momentum=0.1, affine=True, track_running_stats=True\n",
       "            (drop): Identity()\n",
       "            (act): SiLU(inplace=True)\n",
       "          )\n",
       "          (se): SqueezeExcite(\n",
       "            (conv_reduce): Conv2d(1152, 48, kernel_size=(1, 1), stride=(1, 1))\n",
       "            (act1): SiLU(inplace=True)\n",
       "            (conv_expand): Conv2d(48, 1152, kernel_size=(1, 1), stride=(1, 1))\n",
       "            (gate): Sigmoid()\n",
       "          )\n",
       "          (conv_pwl): Conv2d(1152, 192, kernel_size=(1, 1), stride=(1, 1), bias=False)\n",
       "          (bn3): BatchNormAct2d(\n",
       "            192, eps=1e-05, momentum=0.1, affine=True, track_running_stats=True\n",
       "            (drop): Identity()\n",
       "            (act): Identity()\n",
       "          )\n",
       "          (drop_path): Identity()\n",
       "        )\n",
       "      )\n",
       "      (6): Sequential(\n",
       "        (0): InvertedResidual(\n",
       "          (conv_pw): Conv2d(192, 1152, kernel_size=(1, 1), stride=(1, 1), bias=False)\n",
       "          (bn1): BatchNormAct2d(\n",
       "            1152, eps=1e-05, momentum=0.1, affine=True, track_running_stats=True\n",
       "            (drop): Identity()\n",
       "            (act): SiLU(inplace=True)\n",
       "          )\n",
       "          (conv_dw): Conv2d(1152, 1152, kernel_size=(3, 3), stride=(1, 1), padding=(1, 1), groups=1152, bias=False)\n",
       "          (bn2): BatchNormAct2d(\n",
       "            1152, eps=1e-05, momentum=0.1, affine=True, track_running_stats=True\n",
       "            (drop): Identity()\n",
       "            (act): SiLU(inplace=True)\n",
       "          )\n",
       "          (se): SqueezeExcite(\n",
       "            (conv_reduce): Conv2d(1152, 48, kernel_size=(1, 1), stride=(1, 1))\n",
       "            (act1): SiLU(inplace=True)\n",
       "            (conv_expand): Conv2d(48, 1152, kernel_size=(1, 1), stride=(1, 1))\n",
       "            (gate): Sigmoid()\n",
       "          )\n",
       "          (conv_pwl): Conv2d(1152, 320, kernel_size=(1, 1), stride=(1, 1), bias=False)\n",
       "          (bn3): BatchNormAct2d(\n",
       "            320, eps=1e-05, momentum=0.1, affine=True, track_running_stats=True\n",
       "            (drop): Identity()\n",
       "            (act): Identity()\n",
       "          )\n",
       "          (drop_path): Identity()\n",
       "        )\n",
       "      )\n",
       "    )\n",
       "    (conv_head): Conv2d(320, 1280, kernel_size=(1, 1), stride=(1, 1), bias=False)\n",
       "    (bn2): BatchNormAct2d(\n",
       "      1280, eps=1e-05, momentum=0.1, affine=True, track_running_stats=True\n",
       "      (drop): Identity()\n",
       "      (act): SiLU(inplace=True)\n",
       "    )\n",
       "    (global_pool): SelectAdaptivePool2d (pool_type=avg, flatten=Flatten(start_dim=1, end_dim=-1))\n",
       "    (classifier): Linear(in_features=1280, out_features=1024, bias=True)\n",
       "  )\n",
       ")"
      ]
     },
     "execution_count": 17,
     "metadata": {},
     "output_type": "execute_result"
    }
   ],
   "source": [
    "model=APN_Model(1024)\n",
    "model.to(device)"
   ]
  },
  {
   "cell_type": "code",
   "execution_count": 18,
   "id": "9b1a9936",
   "metadata": {
    "execution": {
     "iopub.execute_input": "2023-06-02T20:04:23.331547Z",
     "iopub.status.busy": "2023-06-02T20:04:23.330868Z",
     "iopub.status.idle": "2023-06-02T20:04:23.338043Z",
     "shell.execute_reply": "2023-06-02T20:04:23.337179Z"
    },
    "papermill": {
     "duration": 0.025223,
     "end_time": "2023-06-02T20:04:23.339999",
     "exception": false,
     "start_time": "2023-06-02T20:04:23.314776",
     "status": "completed"
    },
    "tags": []
   },
   "outputs": [],
   "source": [
    "def train_model(model,dataloader,optimizer,criterion):\n",
    "    model.train() # Turn on Dropout\n",
    "    total_loss=0.0\n",
    "    \n",
    "    for A,P,N in tqdm(dataloader):\n",
    "        A,P,N=A.to(device),P.to(device),N.to(device)\n",
    "        \n",
    "        A_embs=model(A)\n",
    "        P_embs=model(P)\n",
    "        N_embs=model(N)\n",
    "        \n",
    "        loss=criterion(A_embs,P_embs,N_embs)\n",
    "        \n",
    "        optimizer.zero_grad()\n",
    "        loss.backward()\n",
    "        optimizer.step()\n",
    "        \n",
    "        total_loss+=loss.item()\n",
    "        \n",
    "    return total_loss/len(dataloader)"
   ]
  },
  {
   "cell_type": "code",
   "execution_count": 19,
   "id": "12b690a4",
   "metadata": {
    "execution": {
     "iopub.execute_input": "2023-06-02T20:04:23.371507Z",
     "iopub.status.busy": "2023-06-02T20:04:23.370784Z",
     "iopub.status.idle": "2023-06-02T20:04:23.377175Z",
     "shell.execute_reply": "2023-06-02T20:04:23.376394Z"
    },
    "papermill": {
     "duration": 0.024278,
     "end_time": "2023-06-02T20:04:23.379087",
     "exception": false,
     "start_time": "2023-06-02T20:04:23.354809",
     "status": "completed"
    },
    "tags": []
   },
   "outputs": [],
   "source": [
    "def eval_model(model,dataloader,criterion):\n",
    "    model.eval() # Turn off Dropout\n",
    "    total_loss=0.0\n",
    "    \n",
    "    with torch.no_grad():\n",
    "        for A,P,N in tqdm(dataloader):\n",
    "            A,P,N=A.to(device),P.to(device),N.to(device)\n",
    "\n",
    "            A_embs=model(A)\n",
    "            P_embs=model(P)\n",
    "            N_embs=model(N)\n",
    "\n",
    "            loss=criterion(A_embs,P_embs,N_embs)\n",
    "\n",
    "            total_loss+=loss.item()\n",
    "        \n",
    "        return total_loss/len(dataloader)"
   ]
  },
  {
   "cell_type": "markdown",
   "id": "0099c159",
   "metadata": {
    "papermill": {
     "duration": 0.014707,
     "end_time": "2023-06-02T20:04:23.408614",
     "exception": false,
     "start_time": "2023-06-02T20:04:23.393907",
     "status": "completed"
    },
    "tags": []
   },
   "source": [
    "**Declaring loss functions and optimizers**"
   ]
  },
  {
   "cell_type": "code",
   "execution_count": 20,
   "id": "7f10192f",
   "metadata": {
    "execution": {
     "iopub.execute_input": "2023-06-02T20:04:23.440050Z",
     "iopub.status.busy": "2023-06-02T20:04:23.439237Z",
     "iopub.status.idle": "2023-06-02T20:04:23.445382Z",
     "shell.execute_reply": "2023-06-02T20:04:23.444587Z"
    },
    "papermill": {
     "duration": 0.023779,
     "end_time": "2023-06-02T20:04:23.447296",
     "exception": false,
     "start_time": "2023-06-02T20:04:23.423517",
     "status": "completed"
    },
    "tags": []
   },
   "outputs": [],
   "source": [
    "criterion=nn.TripletMarginLoss()\n",
    "optimizer=torch.optim.Adam(model.parameters(),lr=learning_rate)"
   ]
  },
  {
   "cell_type": "markdown",
   "id": "5c0946be",
   "metadata": {
    "papermill": {
     "duration": 0.014727,
     "end_time": "2023-06-02T20:04:23.476818",
     "exception": false,
     "start_time": "2023-06-02T20:04:23.462091",
     "status": "completed"
    },
    "tags": []
   },
   "source": [
    "**Training**"
   ]
  },
  {
   "cell_type": "code",
   "execution_count": 21,
   "id": "5b7d9009",
   "metadata": {
    "execution": {
     "iopub.execute_input": "2023-06-02T20:04:23.508628Z",
     "iopub.status.busy": "2023-06-02T20:04:23.507894Z",
     "iopub.status.idle": "2023-06-02T21:50:06.928706Z",
     "shell.execute_reply": "2023-06-02T21:50:06.927618Z"
    },
    "papermill": {
     "duration": 6343.439395,
     "end_time": "2023-06-02T21:50:06.931021",
     "exception": false,
     "start_time": "2023-06-02T20:04:23.491626",
     "status": "completed"
    },
    "tags": []
   },
   "outputs": [
    {
     "name": "stderr",
     "output_type": "stream",
     "text": [
      "100%|██████████| 25/25 [00:19<00:00,  1.29it/s]\n",
      "100%|██████████| 7/7 [00:02<00:00,  3.32it/s]\n"
     ]
    },
    {
     "name": "stdout",
     "output_type": "stream",
     "text": [
      "Saved weights success\n",
      "epoch: 1  train_loss: 0.7317098832130432  valid_loss: 0.5889541634491512\n"
     ]
    },
    {
     "name": "stderr",
     "output_type": "stream",
     "text": [
      "100%|██████████| 25/25 [00:13<00:00,  1.80it/s]\n",
      "100%|██████████| 7/7 [00:02<00:00,  3.40it/s]\n"
     ]
    },
    {
     "name": "stdout",
     "output_type": "stream",
     "text": [
      "Saved weights success\n",
      "epoch: 2  train_loss: 0.19556910693645477  valid_loss: 0.3690410426684788\n"
     ]
    },
    {
     "name": "stderr",
     "output_type": "stream",
     "text": [
      "100%|██████████| 25/25 [00:13<00:00,  1.82it/s]\n",
      "100%|██████████| 7/7 [00:02<00:00,  3.40it/s]\n"
     ]
    },
    {
     "name": "stdout",
     "output_type": "stream",
     "text": [
      "Saved weights success\n",
      "epoch: 3  train_loss: 0.07846493780612945  valid_loss: 0.3090989759990147\n"
     ]
    },
    {
     "name": "stderr",
     "output_type": "stream",
     "text": [
      "100%|██████████| 25/25 [00:13<00:00,  1.80it/s]\n",
      "100%|██████████| 7/7 [00:02<00:00,  3.47it/s]\n"
     ]
    },
    {
     "name": "stdout",
     "output_type": "stream",
     "text": [
      "epoch: 4  train_loss: 0.04340602248907089  valid_loss: 0.3112704711300986\n"
     ]
    },
    {
     "name": "stderr",
     "output_type": "stream",
     "text": [
      "100%|██████████| 25/25 [00:13<00:00,  1.81it/s]\n",
      "100%|██████████| 7/7 [00:02<00:00,  3.37it/s]\n"
     ]
    },
    {
     "name": "stdout",
     "output_type": "stream",
     "text": [
      "Saved weights success\n",
      "epoch: 5  train_loss: 0.04425378441810608  valid_loss: 0.2258062128509794\n"
     ]
    },
    {
     "name": "stderr",
     "output_type": "stream",
     "text": [
      "100%|██████████| 25/25 [00:13<00:00,  1.81it/s]\n",
      "100%|██████████| 7/7 [00:02<00:00,  3.40it/s]\n"
     ]
    },
    {
     "name": "stdout",
     "output_type": "stream",
     "text": [
      "Saved weights success\n",
      "epoch: 6  train_loss: 0.027448288202285766  valid_loss: 0.21242111389126098\n"
     ]
    },
    {
     "name": "stderr",
     "output_type": "stream",
     "text": [
      "100%|██████████| 25/25 [00:13<00:00,  1.82it/s]\n",
      "100%|██████████| 7/7 [00:02<00:00,  3.16it/s]\n"
     ]
    },
    {
     "name": "stdout",
     "output_type": "stream",
     "text": [
      "epoch: 7  train_loss: 0.015415508151054382  valid_loss: 0.22899298157010758\n"
     ]
    },
    {
     "name": "stderr",
     "output_type": "stream",
     "text": [
      "100%|██████████| 25/25 [00:13<00:00,  1.81it/s]\n",
      "100%|██████████| 7/7 [00:02<00:00,  3.41it/s]\n"
     ]
    },
    {
     "name": "stdout",
     "output_type": "stream",
     "text": [
      "epoch: 8  train_loss: 0.005987918376922608  valid_loss: 0.2753722071647644\n"
     ]
    },
    {
     "name": "stderr",
     "output_type": "stream",
     "text": [
      "100%|██████████| 25/25 [00:13<00:00,  1.82it/s]\n",
      "100%|██████████| 7/7 [00:02<00:00,  3.06it/s]\n"
     ]
    },
    {
     "name": "stdout",
     "output_type": "stream",
     "text": [
      "Saved weights success\n",
      "epoch: 9  train_loss: 0.010638880878686904  valid_loss: 0.20794835686683655\n"
     ]
    },
    {
     "name": "stderr",
     "output_type": "stream",
     "text": [
      "100%|██████████| 25/25 [00:13<00:00,  1.81it/s]\n",
      "100%|██████████| 7/7 [00:02<00:00,  3.43it/s]\n"
     ]
    },
    {
     "name": "stdout",
     "output_type": "stream",
     "text": [
      "epoch: 10  train_loss: 0.015274852365255356  valid_loss: 0.24718345275947026\n"
     ]
    },
    {
     "name": "stderr",
     "output_type": "stream",
     "text": [
      "100%|██████████| 25/25 [00:13<00:00,  1.82it/s]\n",
      "100%|██████████| 7/7 [00:02<00:00,  3.04it/s]\n"
     ]
    },
    {
     "name": "stdout",
     "output_type": "stream",
     "text": [
      "epoch: 11  train_loss: 0.01299693614244461  valid_loss: 0.3326240565095629\n"
     ]
    },
    {
     "name": "stderr",
     "output_type": "stream",
     "text": [
      "100%|██████████| 25/25 [00:13<00:00,  1.80it/s]\n",
      "100%|██████████| 7/7 [00:02<00:00,  3.38it/s]\n"
     ]
    },
    {
     "name": "stdout",
     "output_type": "stream",
     "text": [
      "epoch: 12  train_loss: 0.021989110857248306  valid_loss: 0.3345075398683548\n"
     ]
    },
    {
     "name": "stderr",
     "output_type": "stream",
     "text": [
      "100%|██████████| 25/25 [00:13<00:00,  1.82it/s]\n",
      "100%|██████████| 7/7 [00:02<00:00,  2.95it/s]\n"
     ]
    },
    {
     "name": "stdout",
     "output_type": "stream",
     "text": [
      "epoch: 13  train_loss: 0.0223662993311882  valid_loss: 0.3107786348887852\n"
     ]
    },
    {
     "name": "stderr",
     "output_type": "stream",
     "text": [
      "100%|██████████| 25/25 [00:13<00:00,  1.84it/s]\n",
      "100%|██████████| 7/7 [00:02<00:00,  3.48it/s]\n"
     ]
    },
    {
     "name": "stdout",
     "output_type": "stream",
     "text": [
      "epoch: 14  train_loss: 0.0817421555519104  valid_loss: 0.27159024349280764\n"
     ]
    },
    {
     "name": "stderr",
     "output_type": "stream",
     "text": [
      "100%|██████████| 25/25 [00:13<00:00,  1.81it/s]\n",
      "100%|██████████| 7/7 [00:02<00:00,  2.97it/s]\n"
     ]
    },
    {
     "name": "stdout",
     "output_type": "stream",
     "text": [
      "epoch: 15  train_loss: 0.0788235068321228  valid_loss: 0.40564211564404623\n"
     ]
    },
    {
     "name": "stderr",
     "output_type": "stream",
     "text": [
      "100%|██████████| 25/25 [00:13<00:00,  1.82it/s]\n",
      "100%|██████████| 7/7 [00:02<00:00,  3.21it/s]\n"
     ]
    },
    {
     "name": "stdout",
     "output_type": "stream",
     "text": [
      "epoch: 16  train_loss: 0.08367826640605927  valid_loss: 0.3700201522026743\n"
     ]
    },
    {
     "name": "stderr",
     "output_type": "stream",
     "text": [
      "100%|██████████| 25/25 [00:13<00:00,  1.81it/s]\n",
      "100%|██████████| 7/7 [00:02<00:00,  2.95it/s]\n"
     ]
    },
    {
     "name": "stdout",
     "output_type": "stream",
     "text": [
      "epoch: 17  train_loss: 0.04938407659530639  valid_loss: 0.23912436408655985\n"
     ]
    },
    {
     "name": "stderr",
     "output_type": "stream",
     "text": [
      "100%|██████████| 25/25 [00:13<00:00,  1.86it/s]\n",
      "100%|██████████| 7/7 [00:02<00:00,  3.25it/s]\n"
     ]
    },
    {
     "name": "stdout",
     "output_type": "stream",
     "text": [
      "epoch: 18  train_loss: 0.039524368941783905  valid_loss: 0.21710378038031714\n"
     ]
    },
    {
     "name": "stderr",
     "output_type": "stream",
     "text": [
      "100%|██████████| 25/25 [00:13<00:00,  1.81it/s]\n",
      "100%|██████████| 7/7 [00:02<00:00,  3.01it/s]\n"
     ]
    },
    {
     "name": "stdout",
     "output_type": "stream",
     "text": [
      "epoch: 19  train_loss: 0.031237701028585432  valid_loss: 0.32497598975896835\n"
     ]
    },
    {
     "name": "stderr",
     "output_type": "stream",
     "text": [
      "100%|██████████| 25/25 [00:13<00:00,  1.82it/s]\n",
      "100%|██████████| 7/7 [00:02<00:00,  3.27it/s]\n"
     ]
    },
    {
     "name": "stdout",
     "output_type": "stream",
     "text": [
      "epoch: 20  train_loss: 0.034346941709518436  valid_loss: 0.2697631972176688\n"
     ]
    },
    {
     "name": "stderr",
     "output_type": "stream",
     "text": [
      "100%|██████████| 25/25 [00:13<00:00,  1.81it/s]\n",
      "100%|██████████| 7/7 [00:02<00:00,  3.07it/s]\n"
     ]
    },
    {
     "name": "stdout",
     "output_type": "stream",
     "text": [
      "epoch: 21  train_loss: 0.043374386578798295  valid_loss: 0.2585571323122297\n"
     ]
    },
    {
     "name": "stderr",
     "output_type": "stream",
     "text": [
      "100%|██████████| 25/25 [00:13<00:00,  1.82it/s]\n",
      "100%|██████████| 7/7 [00:02<00:00,  3.38it/s]\n"
     ]
    },
    {
     "name": "stdout",
     "output_type": "stream",
     "text": [
      "epoch: 22  train_loss: 0.02867795616388321  valid_loss: 0.2168073228427342\n"
     ]
    },
    {
     "name": "stderr",
     "output_type": "stream",
     "text": [
      "100%|██████████| 25/25 [00:13<00:00,  1.81it/s]\n",
      "100%|██████████| 7/7 [00:02<00:00,  3.07it/s]\n"
     ]
    },
    {
     "name": "stdout",
     "output_type": "stream",
     "text": [
      "epoch: 23  train_loss: 0.018968563228845596  valid_loss: 0.21272557548114232\n"
     ]
    },
    {
     "name": "stderr",
     "output_type": "stream",
     "text": [
      "100%|██████████| 25/25 [00:13<00:00,  1.84it/s]\n",
      "100%|██████████| 7/7 [00:01<00:00,  3.50it/s]\n"
     ]
    },
    {
     "name": "stdout",
     "output_type": "stream",
     "text": [
      "Saved weights success\n",
      "epoch: 24  train_loss: 0.011968909204006195  valid_loss: 0.17539258939879282\n"
     ]
    },
    {
     "name": "stderr",
     "output_type": "stream",
     "text": [
      "100%|██████████| 25/25 [00:13<00:00,  1.82it/s]\n",
      "100%|██████████| 7/7 [00:02<00:00,  3.14it/s]\n"
     ]
    },
    {
     "name": "stdout",
     "output_type": "stream",
     "text": [
      "Saved weights success\n",
      "epoch: 25  train_loss: 0.0050804330408573154  valid_loss: 0.13266178326947348\n"
     ]
    },
    {
     "name": "stderr",
     "output_type": "stream",
     "text": [
      "100%|██████████| 25/25 [00:13<00:00,  1.85it/s]\n",
      "100%|██████████| 7/7 [00:02<00:00,  3.49it/s]\n"
     ]
    },
    {
     "name": "stdout",
     "output_type": "stream",
     "text": [
      "epoch: 26  train_loss: 0.0021934914588928223  valid_loss: 0.17523094692400523\n"
     ]
    },
    {
     "name": "stderr",
     "output_type": "stream",
     "text": [
      "100%|██████████| 25/25 [00:13<00:00,  1.85it/s]\n",
      "100%|██████████| 7/7 [00:02<00:00,  2.90it/s]\n"
     ]
    },
    {
     "name": "stdout",
     "output_type": "stream",
     "text": [
      "epoch: 27  train_loss: 0.0006727012991905213  valid_loss: 0.18703724603567803\n"
     ]
    },
    {
     "name": "stderr",
     "output_type": "stream",
     "text": [
      "100%|██████████| 25/25 [00:13<00:00,  1.84it/s]\n",
      "100%|██████████| 7/7 [00:02<00:00,  3.43it/s]\n"
     ]
    },
    {
     "name": "stdout",
     "output_type": "stream",
     "text": [
      "epoch: 28  train_loss: 0.0014239838719367981  valid_loss: 0.18807257818324224\n"
     ]
    },
    {
     "name": "stderr",
     "output_type": "stream",
     "text": [
      "100%|██████████| 25/25 [00:13<00:00,  1.85it/s]\n",
      "100%|██████████| 7/7 [00:02<00:00,  3.00it/s]\n"
     ]
    },
    {
     "name": "stdout",
     "output_type": "stream",
     "text": [
      "epoch: 29  train_loss: 0.0025976458191871643  valid_loss: 0.18257526734045573\n"
     ]
    },
    {
     "name": "stderr",
     "output_type": "stream",
     "text": [
      "100%|██████████| 25/25 [00:13<00:00,  1.85it/s]\n",
      "100%|██████████| 7/7 [00:02<00:00,  3.47it/s]\n"
     ]
    },
    {
     "name": "stdout",
     "output_type": "stream",
     "text": [
      "epoch: 30  train_loss: 0.0  valid_loss: 0.17616099012749536\n"
     ]
    },
    {
     "name": "stderr",
     "output_type": "stream",
     "text": [
      "100%|██████████| 25/25 [00:13<00:00,  1.85it/s]\n",
      "100%|██████████| 7/7 [00:02<00:00,  3.08it/s]\n"
     ]
    },
    {
     "name": "stdout",
     "output_type": "stream",
     "text": [
      "epoch: 31  train_loss: 0.0018473026156425477  valid_loss: 0.18989238355840957\n"
     ]
    },
    {
     "name": "stderr",
     "output_type": "stream",
     "text": [
      "100%|██████████| 25/25 [00:13<00:00,  1.84it/s]\n",
      "100%|██████████| 7/7 [00:02<00:00,  3.43it/s]\n"
     ]
    },
    {
     "name": "stdout",
     "output_type": "stream",
     "text": [
      "epoch: 32  train_loss: 0.0011699873208999634  valid_loss: 0.18659022450447083\n"
     ]
    },
    {
     "name": "stderr",
     "output_type": "stream",
     "text": [
      "100%|██████████| 25/25 [00:13<00:00,  1.84it/s]\n",
      "100%|██████████| 7/7 [00:02<00:00,  2.69it/s]\n"
     ]
    },
    {
     "name": "stdout",
     "output_type": "stream",
     "text": [
      "epoch: 33  train_loss: 0.0001164206862449646  valid_loss: 0.18338911022458756\n"
     ]
    },
    {
     "name": "stderr",
     "output_type": "stream",
     "text": [
      "100%|██████████| 25/25 [00:13<00:00,  1.84it/s]\n",
      "100%|██████████| 7/7 [00:02<00:00,  3.20it/s]\n"
     ]
    },
    {
     "name": "stdout",
     "output_type": "stream",
     "text": [
      "epoch: 34  train_loss: 0.00010195791721343994  valid_loss: 0.18922065304858343\n"
     ]
    },
    {
     "name": "stderr",
     "output_type": "stream",
     "text": [
      "100%|██████████| 25/25 [00:13<00:00,  1.85it/s]\n",
      "100%|██████████| 7/7 [00:02<00:00,  3.01it/s]\n"
     ]
    },
    {
     "name": "stdout",
     "output_type": "stream",
     "text": [
      "epoch: 35  train_loss: 0.00030609190464019775  valid_loss: 0.18719734677246638\n"
     ]
    },
    {
     "name": "stderr",
     "output_type": "stream",
     "text": [
      "100%|██████████| 25/25 [00:13<00:00,  1.84it/s]\n",
      "100%|██████████| 7/7 [00:02<00:00,  3.23it/s]\n"
     ]
    },
    {
     "name": "stdout",
     "output_type": "stream",
     "text": [
      "epoch: 36  train_loss: 0.0002062225341796875  valid_loss: 0.1661137810775212\n"
     ]
    },
    {
     "name": "stderr",
     "output_type": "stream",
     "text": [
      "100%|██████████| 25/25 [00:13<00:00,  1.85it/s]\n",
      "100%|██████████| 7/7 [00:02<00:00,  2.98it/s]\n"
     ]
    },
    {
     "name": "stdout",
     "output_type": "stream",
     "text": [
      "epoch: 37  train_loss: 0.00027816057205200197  valid_loss: 0.15769330944333756\n"
     ]
    },
    {
     "name": "stderr",
     "output_type": "stream",
     "text": [
      "100%|██████████| 25/25 [00:13<00:00,  1.84it/s]\n",
      "100%|██████████| 7/7 [00:02<00:00,  3.44it/s]\n"
     ]
    },
    {
     "name": "stdout",
     "output_type": "stream",
     "text": [
      "epoch: 38  train_loss: 0.0010249583423137664  valid_loss: 0.17426525056362152\n"
     ]
    },
    {
     "name": "stderr",
     "output_type": "stream",
     "text": [
      "100%|██████████| 25/25 [00:13<00:00,  1.84it/s]\n",
      "100%|██████████| 7/7 [00:02<00:00,  3.02it/s]\n"
     ]
    },
    {
     "name": "stdout",
     "output_type": "stream",
     "text": [
      "epoch: 39  train_loss: 0.004815026968717575  valid_loss: 0.19409474836928503\n"
     ]
    },
    {
     "name": "stderr",
     "output_type": "stream",
     "text": [
      "100%|██████████| 25/25 [00:13<00:00,  1.83it/s]\n",
      "100%|██████████| 7/7 [00:02<00:00,  3.45it/s]\n"
     ]
    },
    {
     "name": "stdout",
     "output_type": "stream",
     "text": [
      "epoch: 40  train_loss: 0.0014227324724197389  valid_loss: 0.19038574610437667\n"
     ]
    },
    {
     "name": "stderr",
     "output_type": "stream",
     "text": [
      "100%|██████████| 25/25 [00:13<00:00,  1.86it/s]\n",
      "100%|██████████| 7/7 [00:02<00:00,  2.96it/s]\n"
     ]
    },
    {
     "name": "stdout",
     "output_type": "stream",
     "text": [
      "epoch: 41  train_loss: 0.0017510828375816344  valid_loss: 0.20658223863158906\n"
     ]
    },
    {
     "name": "stderr",
     "output_type": "stream",
     "text": [
      "100%|██████████| 25/25 [00:13<00:00,  1.84it/s]\n",
      "100%|██████████| 7/7 [00:02<00:00,  3.40it/s]\n"
     ]
    },
    {
     "name": "stdout",
     "output_type": "stream",
     "text": [
      "epoch: 42  train_loss: 0.005608623325824738  valid_loss: 0.18875546008348465\n"
     ]
    },
    {
     "name": "stderr",
     "output_type": "stream",
     "text": [
      "100%|██████████| 25/25 [00:13<00:00,  1.84it/s]\n",
      "100%|██████████| 7/7 [00:02<00:00,  2.90it/s]\n"
     ]
    },
    {
     "name": "stdout",
     "output_type": "stream",
     "text": [
      "epoch: 43  train_loss: 0.006250665783882141  valid_loss: 0.20170140798602784\n"
     ]
    },
    {
     "name": "stderr",
     "output_type": "stream",
     "text": [
      "100%|██████████| 25/25 [00:13<00:00,  1.83it/s]\n",
      "100%|██████████| 7/7 [00:01<00:00,  3.51it/s]\n"
     ]
    },
    {
     "name": "stdout",
     "output_type": "stream",
     "text": [
      "epoch: 44  train_loss: 0.01286555826663971  valid_loss: 0.15275076244558608\n"
     ]
    },
    {
     "name": "stderr",
     "output_type": "stream",
     "text": [
      "100%|██████████| 25/25 [00:13<00:00,  1.85it/s]\n",
      "100%|██████████| 7/7 [00:02<00:00,  3.04it/s]\n"
     ]
    },
    {
     "name": "stdout",
     "output_type": "stream",
     "text": [
      "epoch: 45  train_loss: 0.007497393041849137  valid_loss: 0.18466904014348984\n"
     ]
    },
    {
     "name": "stderr",
     "output_type": "stream",
     "text": [
      "100%|██████████| 25/25 [00:13<00:00,  1.83it/s]\n",
      "100%|██████████| 7/7 [00:02<00:00,  3.46it/s]\n"
     ]
    },
    {
     "name": "stdout",
     "output_type": "stream",
     "text": [
      "epoch: 46  train_loss: 0.012578264772891999  valid_loss: 0.19078065029212407\n"
     ]
    },
    {
     "name": "stderr",
     "output_type": "stream",
     "text": [
      "100%|██████████| 25/25 [00:13<00:00,  1.85it/s]\n",
      "100%|██████████| 7/7 [00:02<00:00,  2.97it/s]\n"
     ]
    },
    {
     "name": "stdout",
     "output_type": "stream",
     "text": [
      "epoch: 47  train_loss: 0.02222037494182587  valid_loss: 0.1990380042365619\n"
     ]
    },
    {
     "name": "stderr",
     "output_type": "stream",
     "text": [
      "100%|██████████| 25/25 [00:13<00:00,  1.83it/s]\n",
      "100%|██████████| 7/7 [00:02<00:00,  3.42it/s]\n"
     ]
    },
    {
     "name": "stdout",
     "output_type": "stream",
     "text": [
      "epoch: 48  train_loss: 0.00889095276594162  valid_loss: 0.24827628476279123\n"
     ]
    },
    {
     "name": "stderr",
     "output_type": "stream",
     "text": [
      "100%|██████████| 25/25 [00:13<00:00,  1.85it/s]\n",
      "100%|██████████| 7/7 [00:02<00:00,  3.01it/s]\n"
     ]
    },
    {
     "name": "stdout",
     "output_type": "stream",
     "text": [
      "epoch: 49  train_loss: 0.023463284373283388  valid_loss: 0.1882976410644395\n"
     ]
    },
    {
     "name": "stderr",
     "output_type": "stream",
     "text": [
      "100%|██████████| 25/25 [00:13<00:00,  1.83it/s]\n",
      "100%|██████████| 7/7 [00:02<00:00,  3.35it/s]\n"
     ]
    },
    {
     "name": "stdout",
     "output_type": "stream",
     "text": [
      "epoch: 50  train_loss: 0.034867163896560666  valid_loss: 0.2522719459874289\n"
     ]
    },
    {
     "name": "stderr",
     "output_type": "stream",
     "text": [
      "100%|██████████| 25/25 [00:13<00:00,  1.85it/s]\n",
      "100%|██████████| 7/7 [00:02<00:00,  3.05it/s]\n"
     ]
    },
    {
     "name": "stdout",
     "output_type": "stream",
     "text": [
      "epoch: 51  train_loss: 0.05251184672117233  valid_loss: 0.2203595308320863\n"
     ]
    },
    {
     "name": "stderr",
     "output_type": "stream",
     "text": [
      "100%|██████████| 25/25 [00:13<00:00,  1.83it/s]\n",
      "100%|██████████| 7/7 [00:02<00:00,  3.43it/s]\n"
     ]
    },
    {
     "name": "stdout",
     "output_type": "stream",
     "text": [
      "epoch: 52  train_loss: 0.025499870330095292  valid_loss: 0.22896619034664972\n"
     ]
    },
    {
     "name": "stderr",
     "output_type": "stream",
     "text": [
      "100%|██████████| 25/25 [00:13<00:00,  1.83it/s]\n",
      "100%|██████████| 7/7 [00:02<00:00,  3.07it/s]\n"
     ]
    },
    {
     "name": "stdout",
     "output_type": "stream",
     "text": [
      "epoch: 53  train_loss: 0.039038553386926654  valid_loss: 0.2678376180785043\n"
     ]
    },
    {
     "name": "stderr",
     "output_type": "stream",
     "text": [
      "100%|██████████| 25/25 [00:13<00:00,  1.83it/s]\n",
      "100%|██████████| 7/7 [00:02<00:00,  3.37it/s]\n"
     ]
    },
    {
     "name": "stdout",
     "output_type": "stream",
     "text": [
      "epoch: 54  train_loss: 0.038332060426473615  valid_loss: 0.21272113919258118\n"
     ]
    },
    {
     "name": "stderr",
     "output_type": "stream",
     "text": [
      "100%|██████████| 25/25 [00:13<00:00,  1.84it/s]\n",
      "100%|██████████| 7/7 [00:02<00:00,  3.05it/s]\n"
     ]
    },
    {
     "name": "stdout",
     "output_type": "stream",
     "text": [
      "epoch: 55  train_loss: 0.016470328569412232  valid_loss: 0.2413601694362504\n"
     ]
    },
    {
     "name": "stderr",
     "output_type": "stream",
     "text": [
      "100%|██████████| 25/25 [00:13<00:00,  1.83it/s]\n",
      "100%|██████████| 7/7 [00:02<00:00,  3.43it/s]\n"
     ]
    },
    {
     "name": "stdout",
     "output_type": "stream",
     "text": [
      "epoch: 56  train_loss: 0.014119355380535126  valid_loss: 0.2535331201340471\n"
     ]
    },
    {
     "name": "stderr",
     "output_type": "stream",
     "text": [
      "100%|██████████| 25/25 [00:13<00:00,  1.84it/s]\n",
      "100%|██████████| 7/7 [00:02<00:00,  2.93it/s]\n"
     ]
    },
    {
     "name": "stdout",
     "output_type": "stream",
     "text": [
      "epoch: 57  train_loss: 0.012925110161304473  valid_loss: 0.19624186200754984\n"
     ]
    },
    {
     "name": "stderr",
     "output_type": "stream",
     "text": [
      "100%|██████████| 25/25 [00:13<00:00,  1.82it/s]\n",
      "100%|██████████| 7/7 [00:02<00:00,  3.40it/s]\n"
     ]
    },
    {
     "name": "stdout",
     "output_type": "stream",
     "text": [
      "epoch: 58  train_loss: 0.009106305241584779  valid_loss: 0.2081618101469108\n"
     ]
    },
    {
     "name": "stderr",
     "output_type": "stream",
     "text": [
      "100%|██████████| 25/25 [00:13<00:00,  1.85it/s]\n",
      "100%|██████████| 7/7 [00:02<00:00,  2.97it/s]\n"
     ]
    },
    {
     "name": "stdout",
     "output_type": "stream",
     "text": [
      "epoch: 59  train_loss: 0.0026635311543941496  valid_loss: 0.23566038480826787\n"
     ]
    },
    {
     "name": "stderr",
     "output_type": "stream",
     "text": [
      "100%|██████████| 25/25 [00:13<00:00,  1.83it/s]\n",
      "100%|██████████| 7/7 [00:02<00:00,  3.47it/s]\n"
     ]
    },
    {
     "name": "stdout",
     "output_type": "stream",
     "text": [
      "epoch: 60  train_loss: 0.005064726769924164  valid_loss: 0.2175560268972601\n"
     ]
    },
    {
     "name": "stderr",
     "output_type": "stream",
     "text": [
      "100%|██████████| 25/25 [00:13<00:00,  1.85it/s]\n",
      "100%|██████████| 7/7 [00:02<00:00,  2.99it/s]\n"
     ]
    },
    {
     "name": "stdout",
     "output_type": "stream",
     "text": [
      "epoch: 61  train_loss: 0.0031044602394104002  valid_loss: 0.185648646737848\n"
     ]
    },
    {
     "name": "stderr",
     "output_type": "stream",
     "text": [
      "100%|██████████| 25/25 [00:13<00:00,  1.83it/s]\n",
      "100%|██████████| 7/7 [00:02<00:00,  3.41it/s]\n"
     ]
    },
    {
     "name": "stdout",
     "output_type": "stream",
     "text": [
      "epoch: 62  train_loss: 0.0008008107542991638  valid_loss: 0.20047445382390702\n"
     ]
    },
    {
     "name": "stderr",
     "output_type": "stream",
     "text": [
      "100%|██████████| 25/25 [00:13<00:00,  1.84it/s]\n",
      "100%|██████████| 7/7 [00:02<00:00,  3.10it/s]\n"
     ]
    },
    {
     "name": "stdout",
     "output_type": "stream",
     "text": [
      "epoch: 63  train_loss: 0.0002507537603378296  valid_loss: 0.22013250419071742\n"
     ]
    },
    {
     "name": "stderr",
     "output_type": "stream",
     "text": [
      "100%|██████████| 25/25 [00:13<00:00,  1.83it/s]\n",
      "100%|██████████| 7/7 [00:02<00:00,  3.46it/s]\n"
     ]
    },
    {
     "name": "stdout",
     "output_type": "stream",
     "text": [
      "epoch: 64  train_loss: 0.00032663792371749877  valid_loss: 0.22528678817408426\n"
     ]
    },
    {
     "name": "stderr",
     "output_type": "stream",
     "text": [
      "100%|██████████| 25/25 [00:13<00:00,  1.85it/s]\n",
      "100%|██████████| 7/7 [00:02<00:00,  3.21it/s]\n"
     ]
    },
    {
     "name": "stdout",
     "output_type": "stream",
     "text": [
      "epoch: 65  train_loss: 4.2886435985565185e-05  valid_loss: 0.19958260442529405\n"
     ]
    },
    {
     "name": "stderr",
     "output_type": "stream",
     "text": [
      "100%|██████████| 25/25 [00:13<00:00,  1.83it/s]\n",
      "100%|██████████| 7/7 [00:02<00:00,  3.36it/s]\n"
     ]
    },
    {
     "name": "stdout",
     "output_type": "stream",
     "text": [
      "epoch: 66  train_loss: 0.0  valid_loss: 0.2118061344538416\n"
     ]
    },
    {
     "name": "stderr",
     "output_type": "stream",
     "text": [
      "100%|██████████| 25/25 [00:13<00:00,  1.84it/s]\n",
      "100%|██████████| 7/7 [00:02<00:00,  3.41it/s]\n"
     ]
    },
    {
     "name": "stdout",
     "output_type": "stream",
     "text": [
      "epoch: 67  train_loss: 0.0  valid_loss: 0.19959820913416998\n"
     ]
    },
    {
     "name": "stderr",
     "output_type": "stream",
     "text": [
      "100%|██████████| 25/25 [00:13<00:00,  1.83it/s]\n",
      "100%|██████████| 7/7 [00:02<00:00,  3.41it/s]\n"
     ]
    },
    {
     "name": "stdout",
     "output_type": "stream",
     "text": [
      "epoch: 68  train_loss: 0.0  valid_loss: 0.20025513108287538\n"
     ]
    },
    {
     "name": "stderr",
     "output_type": "stream",
     "text": [
      "100%|██████████| 25/25 [00:13<00:00,  1.83it/s]\n",
      "100%|██████████| 7/7 [00:02<00:00,  3.50it/s]\n"
     ]
    },
    {
     "name": "stdout",
     "output_type": "stream",
     "text": [
      "epoch: 69  train_loss: 0.0  valid_loss: 0.2301844965134348\n"
     ]
    },
    {
     "name": "stderr",
     "output_type": "stream",
     "text": [
      "100%|██████████| 25/25 [00:13<00:00,  1.82it/s]\n",
      "100%|██████████| 7/7 [00:02<00:00,  3.45it/s]\n"
     ]
    },
    {
     "name": "stdout",
     "output_type": "stream",
     "text": [
      "epoch: 70  train_loss: 0.0  valid_loss: 0.2057079885687147\n"
     ]
    },
    {
     "name": "stderr",
     "output_type": "stream",
     "text": [
      "100%|██████████| 25/25 [00:13<00:00,  1.82it/s]\n",
      "100%|██████████| 7/7 [00:01<00:00,  3.52it/s]\n"
     ]
    },
    {
     "name": "stdout",
     "output_type": "stream",
     "text": [
      "epoch: 71  train_loss: 0.0  valid_loss: 0.19008577881114824\n"
     ]
    },
    {
     "name": "stderr",
     "output_type": "stream",
     "text": [
      "100%|██████████| 25/25 [00:13<00:00,  1.83it/s]\n",
      "100%|██████████| 7/7 [00:02<00:00,  3.47it/s]\n"
     ]
    },
    {
     "name": "stdout",
     "output_type": "stream",
     "text": [
      "epoch: 72  train_loss: 0.0  valid_loss: 0.20548142812081746\n"
     ]
    },
    {
     "name": "stderr",
     "output_type": "stream",
     "text": [
      "100%|██████████| 25/25 [00:13<00:00,  1.83it/s]\n",
      "100%|██████████| 7/7 [00:02<00:00,  3.28it/s]\n"
     ]
    },
    {
     "name": "stdout",
     "output_type": "stream",
     "text": [
      "epoch: 73  train_loss: 0.0  valid_loss: 0.20098954332726343\n"
     ]
    },
    {
     "name": "stderr",
     "output_type": "stream",
     "text": [
      "100%|██████████| 25/25 [00:13<00:00,  1.83it/s]\n",
      "100%|██████████| 7/7 [00:01<00:00,  3.53it/s]\n"
     ]
    },
    {
     "name": "stdout",
     "output_type": "stream",
     "text": [
      "epoch: 74  train_loss: 0.0  valid_loss: 0.19485961220094136\n"
     ]
    },
    {
     "name": "stderr",
     "output_type": "stream",
     "text": [
      "100%|██████████| 25/25 [00:13<00:00,  1.83it/s]\n",
      "100%|██████████| 7/7 [00:01<00:00,  3.50it/s]\n"
     ]
    },
    {
     "name": "stdout",
     "output_type": "stream",
     "text": [
      "epoch: 75  train_loss: 0.0  valid_loss: 0.19596298464706965\n"
     ]
    },
    {
     "name": "stderr",
     "output_type": "stream",
     "text": [
      "100%|██████████| 25/25 [00:13<00:00,  1.81it/s]\n",
      "100%|██████████| 7/7 [00:02<00:00,  3.43it/s]\n"
     ]
    },
    {
     "name": "stdout",
     "output_type": "stream",
     "text": [
      "epoch: 76  train_loss: 0.0  valid_loss: 0.19169626704284123\n"
     ]
    },
    {
     "name": "stderr",
     "output_type": "stream",
     "text": [
      "100%|██████████| 25/25 [00:13<00:00,  1.84it/s]\n",
      "100%|██████████| 7/7 [00:02<00:00,  3.43it/s]\n"
     ]
    },
    {
     "name": "stdout",
     "output_type": "stream",
     "text": [
      "epoch: 77  train_loss: 0.0005835443735122681  valid_loss: 0.21199246229869978\n"
     ]
    },
    {
     "name": "stderr",
     "output_type": "stream",
     "text": [
      "100%|██████████| 25/25 [00:13<00:00,  1.81it/s]\n",
      "100%|██████████| 7/7 [00:02<00:00,  3.46it/s]\n"
     ]
    },
    {
     "name": "stdout",
     "output_type": "stream",
     "text": [
      "epoch: 78  train_loss: 0.0  valid_loss: 0.20845673925110272\n"
     ]
    },
    {
     "name": "stderr",
     "output_type": "stream",
     "text": [
      "100%|██████████| 25/25 [00:13<00:00,  1.84it/s]\n",
      "100%|██████████| 7/7 [00:01<00:00,  3.54it/s]\n"
     ]
    },
    {
     "name": "stdout",
     "output_type": "stream",
     "text": [
      "epoch: 79  train_loss: 3.3948719501495365e-05  valid_loss: 0.2107113003730774\n"
     ]
    },
    {
     "name": "stderr",
     "output_type": "stream",
     "text": [
      "100%|██████████| 25/25 [00:13<00:00,  1.84it/s]\n",
      "100%|██████████| 7/7 [00:02<00:00,  3.38it/s]\n"
     ]
    },
    {
     "name": "stdout",
     "output_type": "stream",
     "text": [
      "epoch: 80  train_loss: 0.0  valid_loss: 0.2118375604706151\n"
     ]
    },
    {
     "name": "stderr",
     "output_type": "stream",
     "text": [
      "100%|██████████| 25/25 [00:13<00:00,  1.84it/s]\n",
      "100%|██████████| 7/7 [00:02<00:00,  3.50it/s]\n"
     ]
    },
    {
     "name": "stdout",
     "output_type": "stream",
     "text": [
      "epoch: 81  train_loss: 0.0014209136366844176  valid_loss: 0.1929497266454356\n"
     ]
    },
    {
     "name": "stderr",
     "output_type": "stream",
     "text": [
      "100%|██████████| 25/25 [00:13<00:00,  1.83it/s]\n",
      "100%|██████████| 7/7 [00:01<00:00,  3.51it/s]\n"
     ]
    },
    {
     "name": "stdout",
     "output_type": "stream",
     "text": [
      "epoch: 82  train_loss: 0.0013403330743312835  valid_loss: 0.23153354866164072\n"
     ]
    },
    {
     "name": "stderr",
     "output_type": "stream",
     "text": [
      "100%|██████████| 25/25 [00:13<00:00,  1.84it/s]\n",
      "100%|██████████| 7/7 [00:02<00:00,  3.44it/s]\n"
     ]
    },
    {
     "name": "stdout",
     "output_type": "stream",
     "text": [
      "epoch: 83  train_loss: 0.003913310766220093  valid_loss: 0.2664747749056135\n"
     ]
    },
    {
     "name": "stderr",
     "output_type": "stream",
     "text": [
      "100%|██████████| 25/25 [00:13<00:00,  1.82it/s]\n",
      "100%|██████████| 7/7 [00:02<00:00,  3.47it/s]\n"
     ]
    },
    {
     "name": "stdout",
     "output_type": "stream",
     "text": [
      "epoch: 84  train_loss: 0.007102837264537812  valid_loss: 0.34997077605554033\n"
     ]
    },
    {
     "name": "stderr",
     "output_type": "stream",
     "text": [
      "100%|██████████| 25/25 [00:13<00:00,  1.84it/s]\n",
      "100%|██████████| 7/7 [00:02<00:00,  3.44it/s]\n"
     ]
    },
    {
     "name": "stdout",
     "output_type": "stream",
     "text": [
      "epoch: 85  train_loss: 0.015516513288021087  valid_loss: 0.27934810306344715\n"
     ]
    },
    {
     "name": "stderr",
     "output_type": "stream",
     "text": [
      "100%|██████████| 25/25 [00:13<00:00,  1.82it/s]\n",
      "100%|██████████| 7/7 [00:02<00:00,  3.37it/s]\n"
     ]
    },
    {
     "name": "stdout",
     "output_type": "stream",
     "text": [
      "epoch: 86  train_loss: 0.06165735587477684  valid_loss: 0.32270923256874084\n"
     ]
    },
    {
     "name": "stderr",
     "output_type": "stream",
     "text": [
      "100%|██████████| 25/25 [00:13<00:00,  1.82it/s]\n",
      "100%|██████████| 7/7 [00:02<00:00,  3.32it/s]\n"
     ]
    },
    {
     "name": "stdout",
     "output_type": "stream",
     "text": [
      "epoch: 87  train_loss: 0.059232202172279355  valid_loss: 0.19825310579368047\n"
     ]
    },
    {
     "name": "stderr",
     "output_type": "stream",
     "text": [
      "100%|██████████| 25/25 [00:13<00:00,  1.81it/s]\n",
      "100%|██████████| 7/7 [00:02<00:00,  3.45it/s]\n"
     ]
    },
    {
     "name": "stdout",
     "output_type": "stream",
     "text": [
      "epoch: 88  train_loss: 0.026278638541698457  valid_loss: 0.18628627913338797\n"
     ]
    },
    {
     "name": "stderr",
     "output_type": "stream",
     "text": [
      "100%|██████████| 25/25 [00:13<00:00,  1.83it/s]\n",
      "100%|██████████| 7/7 [00:02<00:00,  3.32it/s]\n"
     ]
    },
    {
     "name": "stdout",
     "output_type": "stream",
     "text": [
      "epoch: 89  train_loss: 0.005891288965940476  valid_loss: 0.319551808493478\n"
     ]
    },
    {
     "name": "stderr",
     "output_type": "stream",
     "text": [
      "100%|██████████| 25/25 [00:13<00:00,  1.82it/s]\n",
      "100%|██████████| 7/7 [00:02<00:00,  3.34it/s]\n"
     ]
    },
    {
     "name": "stdout",
     "output_type": "stream",
     "text": [
      "epoch: 90  train_loss: 0.05228427976369858  valid_loss: 0.30159247134413036\n"
     ]
    },
    {
     "name": "stderr",
     "output_type": "stream",
     "text": [
      "100%|██████████| 25/25 [00:13<00:00,  1.84it/s]\n",
      "100%|██████████| 7/7 [00:02<00:00,  3.44it/s]\n"
     ]
    },
    {
     "name": "stdout",
     "output_type": "stream",
     "text": [
      "epoch: 91  train_loss: 0.022585268914699554  valid_loss: 0.34141490502016886\n"
     ]
    },
    {
     "name": "stderr",
     "output_type": "stream",
     "text": [
      "100%|██████████| 25/25 [00:13<00:00,  1.82it/s]\n",
      "100%|██████████| 7/7 [00:02<00:00,  3.16it/s]\n"
     ]
    },
    {
     "name": "stdout",
     "output_type": "stream",
     "text": [
      "epoch: 92  train_loss: 0.05558273494243622  valid_loss: 0.22071661800146103\n"
     ]
    },
    {
     "name": "stderr",
     "output_type": "stream",
     "text": [
      "100%|██████████| 25/25 [00:13<00:00,  1.84it/s]\n",
      "100%|██████████| 7/7 [00:02<00:00,  3.42it/s]\n"
     ]
    },
    {
     "name": "stdout",
     "output_type": "stream",
     "text": [
      "epoch: 93  train_loss: 0.051525274813175204  valid_loss: 0.3117311011467661\n"
     ]
    },
    {
     "name": "stderr",
     "output_type": "stream",
     "text": [
      "100%|██████████| 25/25 [00:13<00:00,  1.81it/s]\n",
      "100%|██████████| 7/7 [00:02<00:00,  3.26it/s]\n"
     ]
    },
    {
     "name": "stdout",
     "output_type": "stream",
     "text": [
      "epoch: 94  train_loss: 0.03418083354830742  valid_loss: 0.15389931521245412\n"
     ]
    },
    {
     "name": "stderr",
     "output_type": "stream",
     "text": [
      "100%|██████████| 25/25 [00:13<00:00,  1.84it/s]\n",
      "100%|██████████| 7/7 [00:02<00:00,  3.47it/s]\n"
     ]
    },
    {
     "name": "stdout",
     "output_type": "stream",
     "text": [
      "epoch: 95  train_loss: 0.015328033864498138  valid_loss: 0.19844906138522284\n"
     ]
    },
    {
     "name": "stderr",
     "output_type": "stream",
     "text": [
      "100%|██████████| 25/25 [00:13<00:00,  1.82it/s]\n",
      "100%|██████████| 7/7 [00:02<00:00,  3.08it/s]\n"
     ]
    },
    {
     "name": "stdout",
     "output_type": "stream",
     "text": [
      "epoch: 96  train_loss: 0.045018130838871004  valid_loss: 0.17239850919161523\n"
     ]
    },
    {
     "name": "stderr",
     "output_type": "stream",
     "text": [
      "100%|██████████| 25/25 [00:13<00:00,  1.85it/s]\n",
      "100%|██████████| 7/7 [00:02<00:00,  3.44it/s]\n"
     ]
    },
    {
     "name": "stdout",
     "output_type": "stream",
     "text": [
      "epoch: 97  train_loss: 0.009411340802907944  valid_loss: 0.20810011454990932\n"
     ]
    },
    {
     "name": "stderr",
     "output_type": "stream",
     "text": [
      "100%|██████████| 25/25 [00:13<00:00,  1.81it/s]\n",
      "100%|██████████| 7/7 [00:02<00:00,  3.38it/s]\n"
     ]
    },
    {
     "name": "stdout",
     "output_type": "stream",
     "text": [
      "epoch: 98  train_loss: 0.011390376389026641  valid_loss: 0.21420803027493612\n"
     ]
    },
    {
     "name": "stderr",
     "output_type": "stream",
     "text": [
      "100%|██████████| 25/25 [00:13<00:00,  1.83it/s]\n",
      "100%|██████████| 7/7 [00:02<00:00,  3.41it/s]\n"
     ]
    },
    {
     "name": "stdout",
     "output_type": "stream",
     "text": [
      "Saved weights success\n",
      "epoch: 99  train_loss: 0.010530239939689635  valid_loss: 0.11541326237576348\n"
     ]
    },
    {
     "name": "stderr",
     "output_type": "stream",
     "text": [
      "100%|██████████| 25/25 [00:13<00:00,  1.79it/s]\n",
      "100%|██████████| 7/7 [00:02<00:00,  3.44it/s]\n"
     ]
    },
    {
     "name": "stdout",
     "output_type": "stream",
     "text": [
      "epoch: 100  train_loss: 0.005243596881628037  valid_loss: 0.17021894880703517\n"
     ]
    },
    {
     "name": "stderr",
     "output_type": "stream",
     "text": [
      "100%|██████████| 25/25 [00:13<00:00,  1.85it/s]\n",
      "100%|██████████| 7/7 [00:02<00:00,  3.44it/s]\n"
     ]
    },
    {
     "name": "stdout",
     "output_type": "stream",
     "text": [
      "epoch: 101  train_loss: 0.0016758948564529418  valid_loss: 0.13378422441227095\n"
     ]
    },
    {
     "name": "stderr",
     "output_type": "stream",
     "text": [
      "100%|██████████| 25/25 [00:13<00:00,  1.81it/s]\n",
      "100%|██████████| 7/7 [00:02<00:00,  3.43it/s]\n"
     ]
    },
    {
     "name": "stdout",
     "output_type": "stream",
     "text": [
      "epoch: 102  train_loss: 0.0008517545461654663  valid_loss: 0.1271732167473861\n"
     ]
    },
    {
     "name": "stderr",
     "output_type": "stream",
     "text": [
      "100%|██████████| 25/25 [00:13<00:00,  1.84it/s]\n",
      "100%|██████████| 7/7 [00:02<00:00,  3.36it/s]\n"
     ]
    },
    {
     "name": "stdout",
     "output_type": "stream",
     "text": [
      "epoch: 103  train_loss: 0.0  valid_loss: 0.13419132679700851\n"
     ]
    },
    {
     "name": "stderr",
     "output_type": "stream",
     "text": [
      "100%|██████████| 25/25 [00:13<00:00,  1.81it/s]\n",
      "100%|██████████| 7/7 [00:02<00:00,  3.46it/s]\n"
     ]
    },
    {
     "name": "stdout",
     "output_type": "stream",
     "text": [
      "epoch: 104  train_loss: 0.0013547083735466004  valid_loss: 0.17439852442060197\n"
     ]
    },
    {
     "name": "stderr",
     "output_type": "stream",
     "text": [
      "100%|██████████| 25/25 [00:13<00:00,  1.85it/s]\n",
      "100%|██████████| 7/7 [00:02<00:00,  3.50it/s]\n"
     ]
    },
    {
     "name": "stdout",
     "output_type": "stream",
     "text": [
      "epoch: 105  train_loss: 0.000900883674621582  valid_loss: 0.21162610075303487\n"
     ]
    },
    {
     "name": "stderr",
     "output_type": "stream",
     "text": [
      "100%|██████████| 25/25 [00:13<00:00,  1.81it/s]\n",
      "100%|██████████| 7/7 [00:02<00:00,  3.46it/s]\n"
     ]
    },
    {
     "name": "stdout",
     "output_type": "stream",
     "text": [
      "epoch: 106  train_loss: 0.006749361157417298  valid_loss: 0.22045330277511052\n"
     ]
    },
    {
     "name": "stderr",
     "output_type": "stream",
     "text": [
      "100%|██████████| 25/25 [00:13<00:00,  1.85it/s]\n",
      "100%|██████████| 7/7 [00:01<00:00,  3.50it/s]\n"
     ]
    },
    {
     "name": "stdout",
     "output_type": "stream",
     "text": [
      "epoch: 107  train_loss: 0.0024729260802268983  valid_loss: 0.18759027123451233\n"
     ]
    },
    {
     "name": "stderr",
     "output_type": "stream",
     "text": [
      "100%|██████████| 25/25 [00:13<00:00,  1.82it/s]\n",
      "100%|██████████| 7/7 [00:01<00:00,  3.53it/s]\n"
     ]
    },
    {
     "name": "stdout",
     "output_type": "stream",
     "text": [
      "epoch: 108  train_loss: 0.0062634629011154175  valid_loss: 0.1651029395205634\n"
     ]
    },
    {
     "name": "stderr",
     "output_type": "stream",
     "text": [
      "100%|██████████| 25/25 [00:13<00:00,  1.85it/s]\n",
      "100%|██████████| 7/7 [00:02<00:00,  3.48it/s]\n"
     ]
    },
    {
     "name": "stdout",
     "output_type": "stream",
     "text": [
      "epoch: 109  train_loss: 0.008636249899864197  valid_loss: 0.190970955150468\n"
     ]
    },
    {
     "name": "stderr",
     "output_type": "stream",
     "text": [
      "100%|██████████| 25/25 [00:13<00:00,  1.81it/s]\n",
      "100%|██████████| 7/7 [00:02<00:00,  3.42it/s]\n"
     ]
    },
    {
     "name": "stdout",
     "output_type": "stream",
     "text": [
      "epoch: 110  train_loss: 0.0013972151279449463  valid_loss: 0.21983564964362554\n"
     ]
    },
    {
     "name": "stderr",
     "output_type": "stream",
     "text": [
      "100%|██████████| 25/25 [00:13<00:00,  1.85it/s]\n",
      "100%|██████████| 7/7 [00:02<00:00,  3.49it/s]\n"
     ]
    },
    {
     "name": "stdout",
     "output_type": "stream",
     "text": [
      "epoch: 111  train_loss: 0.0016785511374473572  valid_loss: 0.20466157581124986\n"
     ]
    },
    {
     "name": "stderr",
     "output_type": "stream",
     "text": [
      "100%|██████████| 25/25 [00:13<00:00,  1.79it/s]\n",
      "100%|██████████| 7/7 [00:01<00:00,  3.51it/s]\n"
     ]
    },
    {
     "name": "stdout",
     "output_type": "stream",
     "text": [
      "epoch: 112  train_loss: 0.001038854420185089  valid_loss: 0.23011415558201925\n"
     ]
    },
    {
     "name": "stderr",
     "output_type": "stream",
     "text": [
      "100%|██████████| 25/25 [00:13<00:00,  1.85it/s]\n",
      "100%|██████████| 7/7 [00:02<00:00,  3.44it/s]\n"
     ]
    },
    {
     "name": "stdout",
     "output_type": "stream",
     "text": [
      "epoch: 113  train_loss: 0.0010820740461349487  valid_loss: 0.205088771879673\n"
     ]
    },
    {
     "name": "stderr",
     "output_type": "stream",
     "text": [
      "100%|██████████| 25/25 [00:13<00:00,  1.80it/s]\n",
      "100%|██████████| 7/7 [00:02<00:00,  3.49it/s]\n"
     ]
    },
    {
     "name": "stdout",
     "output_type": "stream",
     "text": [
      "epoch: 114  train_loss: 0.0  valid_loss: 0.18280833320958273\n"
     ]
    },
    {
     "name": "stderr",
     "output_type": "stream",
     "text": [
      "100%|██████████| 25/25 [00:13<00:00,  1.84it/s]\n",
      "100%|██████████| 7/7 [00:02<00:00,  3.43it/s]\n"
     ]
    },
    {
     "name": "stdout",
     "output_type": "stream",
     "text": [
      "epoch: 115  train_loss: 0.0011401143670082092  valid_loss: 0.16434283128806523\n"
     ]
    },
    {
     "name": "stderr",
     "output_type": "stream",
     "text": [
      "100%|██████████| 25/25 [00:13<00:00,  1.81it/s]\n",
      "100%|██████████| 7/7 [00:01<00:00,  3.53it/s]\n"
     ]
    },
    {
     "name": "stdout",
     "output_type": "stream",
     "text": [
      "epoch: 116  train_loss: 0.00025564759969711305  valid_loss: 0.17199757375887462\n"
     ]
    },
    {
     "name": "stderr",
     "output_type": "stream",
     "text": [
      "100%|██████████| 25/25 [00:13<00:00,  1.85it/s]\n",
      "100%|██████████| 7/7 [00:02<00:00,  3.45it/s]\n"
     ]
    },
    {
     "name": "stdout",
     "output_type": "stream",
     "text": [
      "epoch: 117  train_loss: 0.0  valid_loss: 0.20784337712185724\n"
     ]
    },
    {
     "name": "stderr",
     "output_type": "stream",
     "text": [
      "100%|██████████| 25/25 [00:13<00:00,  1.81it/s]\n",
      "100%|██████████| 7/7 [00:01<00:00,  3.52it/s]\n"
     ]
    },
    {
     "name": "stdout",
     "output_type": "stream",
     "text": [
      "epoch: 118  train_loss: 0.0018869675695896149  valid_loss: 0.15574605017900467\n"
     ]
    },
    {
     "name": "stderr",
     "output_type": "stream",
     "text": [
      "100%|██████████| 25/25 [00:13<00:00,  1.84it/s]\n",
      "100%|██████████| 7/7 [00:02<00:00,  3.43it/s]\n"
     ]
    },
    {
     "name": "stdout",
     "output_type": "stream",
     "text": [
      "epoch: 119  train_loss: 0.006755804419517517  valid_loss: 0.14992483918155944\n"
     ]
    },
    {
     "name": "stderr",
     "output_type": "stream",
     "text": [
      "100%|██████████| 25/25 [00:14<00:00,  1.78it/s]\n",
      "100%|██████████| 7/7 [00:01<00:00,  3.50it/s]\n"
     ]
    },
    {
     "name": "stdout",
     "output_type": "stream",
     "text": [
      "epoch: 120  train_loss: 0.003603622913360596  valid_loss: 0.15289488594446862\n"
     ]
    },
    {
     "name": "stderr",
     "output_type": "stream",
     "text": [
      "100%|██████████| 25/25 [00:13<00:00,  1.86it/s]\n",
      "100%|██████████| 7/7 [00:02<00:00,  3.45it/s]\n"
     ]
    },
    {
     "name": "stdout",
     "output_type": "stream",
     "text": [
      "epoch: 121  train_loss: 0.0019728973507881164  valid_loss: 0.14212878101638385\n"
     ]
    },
    {
     "name": "stderr",
     "output_type": "stream",
     "text": [
      "100%|██████████| 25/25 [00:13<00:00,  1.80it/s]\n",
      "100%|██████████| 7/7 [00:02<00:00,  3.42it/s]\n"
     ]
    },
    {
     "name": "stdout",
     "output_type": "stream",
     "text": [
      "epoch: 122  train_loss: 0.0001954805850982666  valid_loss: 0.17583457486970083\n"
     ]
    },
    {
     "name": "stderr",
     "output_type": "stream",
     "text": [
      "100%|██████████| 25/25 [00:13<00:00,  1.86it/s]\n",
      "100%|██████████| 7/7 [00:02<00:00,  3.46it/s]\n"
     ]
    },
    {
     "name": "stdout",
     "output_type": "stream",
     "text": [
      "epoch: 123  train_loss: 0.0  valid_loss: 0.18460394548518316\n"
     ]
    },
    {
     "name": "stderr",
     "output_type": "stream",
     "text": [
      "100%|██████████| 25/25 [00:13<00:00,  1.80it/s]\n",
      "100%|██████████| 7/7 [00:02<00:00,  3.35it/s]\n"
     ]
    },
    {
     "name": "stdout",
     "output_type": "stream",
     "text": [
      "epoch: 124  train_loss: 0.0004195761680603027  valid_loss: 0.18903198093175888\n"
     ]
    },
    {
     "name": "stderr",
     "output_type": "stream",
     "text": [
      "100%|██████████| 25/25 [00:13<00:00,  1.84it/s]\n",
      "100%|██████████| 7/7 [00:02<00:00,  3.44it/s]\n"
     ]
    },
    {
     "name": "stdout",
     "output_type": "stream",
     "text": [
      "epoch: 125  train_loss: 0.0  valid_loss: 0.21243385012660707\n"
     ]
    },
    {
     "name": "stderr",
     "output_type": "stream",
     "text": [
      "100%|██████████| 25/25 [00:13<00:00,  1.80it/s]\n",
      "100%|██████████| 7/7 [00:02<00:00,  3.27it/s]\n"
     ]
    },
    {
     "name": "stdout",
     "output_type": "stream",
     "text": [
      "epoch: 126  train_loss: 0.0009693604707717896  valid_loss: 0.18908606682504928\n"
     ]
    },
    {
     "name": "stderr",
     "output_type": "stream",
     "text": [
      "100%|██████████| 25/25 [00:13<00:00,  1.84it/s]\n",
      "100%|██████████| 7/7 [00:02<00:00,  3.45it/s]\n"
     ]
    },
    {
     "name": "stdout",
     "output_type": "stream",
     "text": [
      "epoch: 127  train_loss: 0.0  valid_loss: 0.19330649077892303\n"
     ]
    },
    {
     "name": "stderr",
     "output_type": "stream",
     "text": [
      "100%|██████████| 25/25 [00:13<00:00,  1.79it/s]\n",
      "100%|██████████| 7/7 [00:02<00:00,  3.46it/s]\n"
     ]
    },
    {
     "name": "stdout",
     "output_type": "stream",
     "text": [
      "epoch: 128  train_loss: 0.0003774183988571167  valid_loss: 0.18429253356797354\n"
     ]
    },
    {
     "name": "stderr",
     "output_type": "stream",
     "text": [
      "100%|██████████| 25/25 [00:13<00:00,  1.85it/s]\n",
      "100%|██████████| 7/7 [00:02<00:00,  3.37it/s]\n"
     ]
    },
    {
     "name": "stdout",
     "output_type": "stream",
     "text": [
      "epoch: 129  train_loss: 0.0  valid_loss: 0.18197771055357798\n"
     ]
    },
    {
     "name": "stderr",
     "output_type": "stream",
     "text": [
      "100%|██████████| 25/25 [00:13<00:00,  1.80it/s]\n",
      "100%|██████████| 7/7 [00:02<00:00,  3.42it/s]\n"
     ]
    },
    {
     "name": "stdout",
     "output_type": "stream",
     "text": [
      "epoch: 130  train_loss: 0.0  valid_loss: 0.18021158980471746\n"
     ]
    },
    {
     "name": "stderr",
     "output_type": "stream",
     "text": [
      "100%|██████████| 25/25 [00:13<00:00,  1.85it/s]\n",
      "100%|██████████| 7/7 [00:02<00:00,  3.29it/s]\n"
     ]
    },
    {
     "name": "stdout",
     "output_type": "stream",
     "text": [
      "epoch: 131  train_loss: 0.00041711449623107913  valid_loss: 0.19379521001662528\n"
     ]
    },
    {
     "name": "stderr",
     "output_type": "stream",
     "text": [
      "100%|██████████| 25/25 [00:13<00:00,  1.80it/s]\n",
      "100%|██████████| 7/7 [00:02<00:00,  3.43it/s]\n"
     ]
    },
    {
     "name": "stdout",
     "output_type": "stream",
     "text": [
      "epoch: 132  train_loss: 0.0  valid_loss: 0.20077720656991005\n"
     ]
    },
    {
     "name": "stderr",
     "output_type": "stream",
     "text": [
      "100%|██████████| 25/25 [00:13<00:00,  1.85it/s]\n",
      "100%|██████████| 7/7 [00:02<00:00,  3.33it/s]\n"
     ]
    },
    {
     "name": "stdout",
     "output_type": "stream",
     "text": [
      "epoch: 133  train_loss: 0.0  valid_loss: 0.20654661368046487\n"
     ]
    },
    {
     "name": "stderr",
     "output_type": "stream",
     "text": [
      "100%|██████████| 25/25 [00:13<00:00,  1.80it/s]\n",
      "100%|██████████| 7/7 [00:02<00:00,  3.45it/s]\n"
     ]
    },
    {
     "name": "stdout",
     "output_type": "stream",
     "text": [
      "epoch: 134  train_loss: 0.0  valid_loss: 0.1971487126180104\n"
     ]
    },
    {
     "name": "stderr",
     "output_type": "stream",
     "text": [
      "100%|██████████| 25/25 [00:13<00:00,  1.84it/s]\n",
      "100%|██████████| 7/7 [00:02<00:00,  3.30it/s]\n"
     ]
    },
    {
     "name": "stdout",
     "output_type": "stream",
     "text": [
      "epoch: 135  train_loss: 0.00046749860048294066  valid_loss: 0.19629000765936716\n"
     ]
    },
    {
     "name": "stderr",
     "output_type": "stream",
     "text": [
      "100%|██████████| 25/25 [00:14<00:00,  1.78it/s]\n",
      "100%|██████████| 7/7 [00:02<00:00,  3.42it/s]\n"
     ]
    },
    {
     "name": "stdout",
     "output_type": "stream",
     "text": [
      "epoch: 136  train_loss: 0.0  valid_loss: 0.16614879348448344\n"
     ]
    },
    {
     "name": "stderr",
     "output_type": "stream",
     "text": [
      "100%|██████████| 25/25 [00:13<00:00,  1.85it/s]\n",
      "100%|██████████| 7/7 [00:02<00:00,  3.24it/s]\n"
     ]
    },
    {
     "name": "stdout",
     "output_type": "stream",
     "text": [
      "epoch: 137  train_loss: 0.0  valid_loss: 0.1625642968075616\n"
     ]
    },
    {
     "name": "stderr",
     "output_type": "stream",
     "text": [
      "100%|██████████| 25/25 [00:13<00:00,  1.81it/s]\n",
      "100%|██████████| 7/7 [00:02<00:00,  3.43it/s]\n"
     ]
    },
    {
     "name": "stdout",
     "output_type": "stream",
     "text": [
      "epoch: 138  train_loss: 0.0  valid_loss: 0.16954635669078147\n"
     ]
    },
    {
     "name": "stderr",
     "output_type": "stream",
     "text": [
      "100%|██████████| 25/25 [00:13<00:00,  1.84it/s]\n",
      "100%|██████████| 7/7 [00:02<00:00,  3.20it/s]\n"
     ]
    },
    {
     "name": "stdout",
     "output_type": "stream",
     "text": [
      "epoch: 139  train_loss: 0.0  valid_loss: 0.1586664728820324\n"
     ]
    },
    {
     "name": "stderr",
     "output_type": "stream",
     "text": [
      "100%|██████████| 25/25 [00:13<00:00,  1.81it/s]\n",
      "100%|██████████| 7/7 [00:02<00:00,  3.26it/s]\n"
     ]
    },
    {
     "name": "stdout",
     "output_type": "stream",
     "text": [
      "epoch: 140  train_loss: 0.0  valid_loss: 0.16773845893996103\n"
     ]
    },
    {
     "name": "stderr",
     "output_type": "stream",
     "text": [
      "100%|██████████| 25/25 [00:13<00:00,  1.85it/s]\n",
      "100%|██████████| 7/7 [00:02<00:00,  3.21it/s]\n"
     ]
    },
    {
     "name": "stdout",
     "output_type": "stream",
     "text": [
      "epoch: 141  train_loss: 0.0  valid_loss: 0.16189781576395035\n"
     ]
    },
    {
     "name": "stderr",
     "output_type": "stream",
     "text": [
      "100%|██████████| 25/25 [00:13<00:00,  1.82it/s]\n",
      "100%|██████████| 7/7 [00:02<00:00,  3.35it/s]\n"
     ]
    },
    {
     "name": "stdout",
     "output_type": "stream",
     "text": [
      "epoch: 142  train_loss: 0.0006619277596473694  valid_loss: 0.17076568518366134\n"
     ]
    },
    {
     "name": "stderr",
     "output_type": "stream",
     "text": [
      "100%|██████████| 25/25 [00:13<00:00,  1.79it/s]\n",
      "100%|██████████| 7/7 [00:02<00:00,  3.42it/s]\n"
     ]
    },
    {
     "name": "stdout",
     "output_type": "stream",
     "text": [
      "epoch: 143  train_loss: 0.0002236834168434143  valid_loss: 0.19769724032708577\n"
     ]
    },
    {
     "name": "stderr",
     "output_type": "stream",
     "text": [
      "100%|██████████| 25/25 [00:13<00:00,  1.82it/s]\n",
      "100%|██████████| 7/7 [00:02<00:00,  3.43it/s]\n"
     ]
    },
    {
     "name": "stdout",
     "output_type": "stream",
     "text": [
      "epoch: 144  train_loss: 0.005817945003509521  valid_loss: 0.20007478977952683\n"
     ]
    },
    {
     "name": "stderr",
     "output_type": "stream",
     "text": [
      "100%|██████████| 25/25 [00:13<00:00,  1.81it/s]\n",
      "100%|██████████| 7/7 [00:02<00:00,  3.36it/s]\n"
     ]
    },
    {
     "name": "stdout",
     "output_type": "stream",
     "text": [
      "epoch: 145  train_loss: 0.013329079002141952  valid_loss: 0.24852920749357768\n"
     ]
    },
    {
     "name": "stderr",
     "output_type": "stream",
     "text": [
      "100%|██████████| 25/25 [00:13<00:00,  1.81it/s]\n",
      "100%|██████████| 7/7 [00:02<00:00,  3.42it/s]\n"
     ]
    },
    {
     "name": "stdout",
     "output_type": "stream",
     "text": [
      "epoch: 146  train_loss: 0.01522406354546547  valid_loss: 0.2887105814048222\n"
     ]
    },
    {
     "name": "stderr",
     "output_type": "stream",
     "text": [
      "100%|██████████| 25/25 [00:13<00:00,  1.81it/s]\n",
      "100%|██████████| 7/7 [00:02<00:00,  3.43it/s]\n"
     ]
    },
    {
     "name": "stdout",
     "output_type": "stream",
     "text": [
      "epoch: 147  train_loss: 0.043556803613901136  valid_loss: 0.2745759742600577\n"
     ]
    },
    {
     "name": "stderr",
     "output_type": "stream",
     "text": [
      "100%|██████████| 25/25 [00:13<00:00,  1.82it/s]\n",
      "100%|██████████| 7/7 [00:02<00:00,  3.40it/s]\n"
     ]
    },
    {
     "name": "stdout",
     "output_type": "stream",
     "text": [
      "epoch: 148  train_loss: 0.07575135231018067  valid_loss: 0.2545616924762726\n"
     ]
    },
    {
     "name": "stderr",
     "output_type": "stream",
     "text": [
      "100%|██████████| 25/25 [00:13<00:00,  1.83it/s]\n",
      "100%|██████████| 7/7 [00:02<00:00,  3.37it/s]\n"
     ]
    },
    {
     "name": "stdout",
     "output_type": "stream",
     "text": [
      "epoch: 149  train_loss: 0.07609523892402649  valid_loss: 0.2689993700810841\n"
     ]
    },
    {
     "name": "stderr",
     "output_type": "stream",
     "text": [
      "100%|██████████| 25/25 [00:13<00:00,  1.82it/s]\n",
      "100%|██████████| 7/7 [00:02<00:00,  3.42it/s]\n"
     ]
    },
    {
     "name": "stdout",
     "output_type": "stream",
     "text": [
      "epoch: 150  train_loss: 0.016798790842294693  valid_loss: 0.22856422407286509\n"
     ]
    },
    {
     "name": "stderr",
     "output_type": "stream",
     "text": [
      "100%|██████████| 25/25 [00:13<00:00,  1.83it/s]\n",
      "100%|██████████| 7/7 [00:02<00:00,  3.42it/s]\n"
     ]
    },
    {
     "name": "stdout",
     "output_type": "stream",
     "text": [
      "epoch: 151  train_loss: 0.014525949656963348  valid_loss: 0.2203259574515479\n"
     ]
    },
    {
     "name": "stderr",
     "output_type": "stream",
     "text": [
      "100%|██████████| 25/25 [00:13<00:00,  1.84it/s]\n",
      "100%|██████████| 7/7 [00:02<00:00,  3.40it/s]\n"
     ]
    },
    {
     "name": "stdout",
     "output_type": "stream",
     "text": [
      "epoch: 152  train_loss: 0.00024664580821990965  valid_loss: 0.26928028357880457\n"
     ]
    },
    {
     "name": "stderr",
     "output_type": "stream",
     "text": [
      "100%|██████████| 25/25 [00:13<00:00,  1.82it/s]\n",
      "100%|██████████| 7/7 [00:02<00:00,  3.44it/s]\n"
     ]
    },
    {
     "name": "stdout",
     "output_type": "stream",
     "text": [
      "epoch: 153  train_loss: 0.0012906545400619507  valid_loss: 0.2642101677400725\n"
     ]
    },
    {
     "name": "stderr",
     "output_type": "stream",
     "text": [
      "100%|██████████| 25/25 [00:13<00:00,  1.83it/s]\n",
      "100%|██████████| 7/7 [00:01<00:00,  3.50it/s]\n"
     ]
    },
    {
     "name": "stdout",
     "output_type": "stream",
     "text": [
      "epoch: 154  train_loss: 0.0010190320014953614  valid_loss: 0.21041952871850558\n"
     ]
    },
    {
     "name": "stderr",
     "output_type": "stream",
     "text": [
      "100%|██████████| 25/25 [00:13<00:00,  1.83it/s]\n",
      "100%|██████████| 7/7 [00:02<00:00,  3.48it/s]\n"
     ]
    },
    {
     "name": "stdout",
     "output_type": "stream",
     "text": [
      "epoch: 155  train_loss: 0.0015809854865074158  valid_loss: 0.1866907546562808\n"
     ]
    },
    {
     "name": "stderr",
     "output_type": "stream",
     "text": [
      "100%|██████████| 25/25 [00:13<00:00,  1.83it/s]\n",
      "100%|██████████| 7/7 [00:02<00:00,  3.43it/s]\n"
     ]
    },
    {
     "name": "stdout",
     "output_type": "stream",
     "text": [
      "epoch: 156  train_loss: 0.0  valid_loss: 0.21299138558762415\n"
     ]
    },
    {
     "name": "stderr",
     "output_type": "stream",
     "text": [
      "100%|██████████| 25/25 [00:13<00:00,  1.82it/s]\n",
      "100%|██████████| 7/7 [00:01<00:00,  3.51it/s]\n"
     ]
    },
    {
     "name": "stdout",
     "output_type": "stream",
     "text": [
      "epoch: 157  train_loss: 0.0  valid_loss: 0.2197373073015894\n"
     ]
    },
    {
     "name": "stderr",
     "output_type": "stream",
     "text": [
      "100%|██████████| 25/25 [00:13<00:00,  1.83it/s]\n",
      "100%|██████████| 7/7 [00:02<00:00,  3.41it/s]\n"
     ]
    },
    {
     "name": "stdout",
     "output_type": "stream",
     "text": [
      "epoch: 158  train_loss: 0.050672357827425005  valid_loss: 0.1831449759857995\n"
     ]
    },
    {
     "name": "stderr",
     "output_type": "stream",
     "text": [
      "100%|██████████| 25/25 [00:13<00:00,  1.83it/s]\n",
      "100%|██████████| 7/7 [00:02<00:00,  3.42it/s]\n"
     ]
    },
    {
     "name": "stdout",
     "output_type": "stream",
     "text": [
      "epoch: 159  train_loss: 0.028206512704491614  valid_loss: 0.3089622216565268\n"
     ]
    },
    {
     "name": "stderr",
     "output_type": "stream",
     "text": [
      "100%|██████████| 25/25 [00:13<00:00,  1.82it/s]\n",
      "100%|██████████| 7/7 [00:02<00:00,  3.43it/s]\n"
     ]
    },
    {
     "name": "stdout",
     "output_type": "stream",
     "text": [
      "epoch: 160  train_loss: 0.014332134276628494  valid_loss: 0.19265984743833542\n"
     ]
    },
    {
     "name": "stderr",
     "output_type": "stream",
     "text": [
      "100%|██████████| 25/25 [00:13<00:00,  1.83it/s]\n",
      "100%|██████████| 7/7 [00:02<00:00,  3.42it/s]\n"
     ]
    },
    {
     "name": "stdout",
     "output_type": "stream",
     "text": [
      "epoch: 161  train_loss: 0.002032681852579117  valid_loss: 0.20491621323994227\n"
     ]
    },
    {
     "name": "stderr",
     "output_type": "stream",
     "text": [
      "100%|██████████| 25/25 [00:13<00:00,  1.82it/s]\n",
      "100%|██████████| 7/7 [00:01<00:00,  3.52it/s]\n"
     ]
    },
    {
     "name": "stdout",
     "output_type": "stream",
     "text": [
      "epoch: 162  train_loss: 0.005604589581489563  valid_loss: 0.3121083506516048\n"
     ]
    },
    {
     "name": "stderr",
     "output_type": "stream",
     "text": [
      "100%|██████████| 25/25 [00:13<00:00,  1.83it/s]\n",
      "100%|██████████| 7/7 [00:02<00:00,  3.36it/s]\n"
     ]
    },
    {
     "name": "stdout",
     "output_type": "stream",
     "text": [
      "epoch: 163  train_loss: 0.0011843468248844146  valid_loss: 0.16802758404186793\n"
     ]
    },
    {
     "name": "stderr",
     "output_type": "stream",
     "text": [
      "100%|██████████| 25/25 [00:13<00:00,  1.83it/s]\n",
      "100%|██████████| 7/7 [00:02<00:00,  3.49it/s]\n"
     ]
    },
    {
     "name": "stdout",
     "output_type": "stream",
     "text": [
      "epoch: 164  train_loss: 0.00047790110111236574  valid_loss: 0.17766680355582917\n"
     ]
    },
    {
     "name": "stderr",
     "output_type": "stream",
     "text": [
      "100%|██████████| 25/25 [00:13<00:00,  1.82it/s]\n",
      "100%|██████████| 7/7 [00:02<00:00,  3.40it/s]\n"
     ]
    },
    {
     "name": "stdout",
     "output_type": "stream",
     "text": [
      "epoch: 165  train_loss: 0.0006822460889816284  valid_loss: 0.1816141073192869\n"
     ]
    },
    {
     "name": "stderr",
     "output_type": "stream",
     "text": [
      "100%|██████████| 25/25 [00:13<00:00,  1.80it/s]\n",
      "100%|██████████| 7/7 [00:02<00:00,  3.43it/s]\n"
     ]
    },
    {
     "name": "stdout",
     "output_type": "stream",
     "text": [
      "epoch: 166  train_loss: 0.002981109917163849  valid_loss: 0.215007628181151\n"
     ]
    },
    {
     "name": "stderr",
     "output_type": "stream",
     "text": [
      "100%|██████████| 25/25 [00:13<00:00,  1.83it/s]\n",
      "100%|██████████| 7/7 [00:02<00:00,  3.50it/s]\n"
     ]
    },
    {
     "name": "stdout",
     "output_type": "stream",
     "text": [
      "epoch: 167  train_loss: 0.021995186656713486  valid_loss: 0.2267190915133272\n"
     ]
    },
    {
     "name": "stderr",
     "output_type": "stream",
     "text": [
      "100%|██████████| 25/25 [00:13<00:00,  1.83it/s]\n",
      "100%|██████████| 7/7 [00:02<00:00,  3.36it/s]\n"
     ]
    },
    {
     "name": "stdout",
     "output_type": "stream",
     "text": [
      "epoch: 168  train_loss: 0.016080158799886703  valid_loss: 0.13863895301307952\n"
     ]
    },
    {
     "name": "stderr",
     "output_type": "stream",
     "text": [
      "100%|██████████| 25/25 [00:13<00:00,  1.82it/s]\n",
      "100%|██████████| 7/7 [00:01<00:00,  3.52it/s]\n"
     ]
    },
    {
     "name": "stdout",
     "output_type": "stream",
     "text": [
      "epoch: 169  train_loss: 0.004064251184463501  valid_loss: 0.16339825838804245\n"
     ]
    },
    {
     "name": "stderr",
     "output_type": "stream",
     "text": [
      "100%|██████████| 25/25 [00:13<00:00,  1.83it/s]\n",
      "100%|██████████| 7/7 [00:02<00:00,  3.39it/s]\n"
     ]
    },
    {
     "name": "stdout",
     "output_type": "stream",
     "text": [
      "epoch: 170  train_loss: 0.0034026393294334413  valid_loss: 0.15568432424749648\n"
     ]
    },
    {
     "name": "stderr",
     "output_type": "stream",
     "text": [
      "100%|██████████| 25/25 [00:13<00:00,  1.82it/s]\n",
      "100%|██████████| 7/7 [00:02<00:00,  3.47it/s]\n"
     ]
    },
    {
     "name": "stdout",
     "output_type": "stream",
     "text": [
      "epoch: 171  train_loss: 0.002874419242143631  valid_loss: 0.21320493199995585\n"
     ]
    },
    {
     "name": "stderr",
     "output_type": "stream",
     "text": [
      "100%|██████████| 25/25 [00:13<00:00,  1.83it/s]\n",
      "100%|██████████| 7/7 [00:02<00:00,  3.33it/s]\n"
     ]
    },
    {
     "name": "stdout",
     "output_type": "stream",
     "text": [
      "epoch: 172  train_loss: 0.0024603545665740968  valid_loss: 0.2511846444436482\n"
     ]
    },
    {
     "name": "stderr",
     "output_type": "stream",
     "text": [
      "100%|██████████| 25/25 [00:13<00:00,  1.84it/s]\n",
      "100%|██████████| 7/7 [00:01<00:00,  3.51it/s]\n"
     ]
    },
    {
     "name": "stdout",
     "output_type": "stream",
     "text": [
      "epoch: 173  train_loss: 0.0004759630560874939  valid_loss: 0.22974854707717896\n"
     ]
    },
    {
     "name": "stderr",
     "output_type": "stream",
     "text": [
      "100%|██████████| 25/25 [00:13<00:00,  1.82it/s]\n",
      "100%|██████████| 7/7 [00:02<00:00,  3.45it/s]\n"
     ]
    },
    {
     "name": "stdout",
     "output_type": "stream",
     "text": [
      "epoch: 174  train_loss: 0.000527096688747406  valid_loss: 0.1857888666646821\n"
     ]
    },
    {
     "name": "stderr",
     "output_type": "stream",
     "text": [
      "100%|██████████| 25/25 [00:13<00:00,  1.83it/s]\n",
      "100%|██████████| 7/7 [00:02<00:00,  3.46it/s]\n"
     ]
    },
    {
     "name": "stdout",
     "output_type": "stream",
     "text": [
      "epoch: 175  train_loss: 0.002533208131790161  valid_loss: 0.25522088578769137\n"
     ]
    },
    {
     "name": "stderr",
     "output_type": "stream",
     "text": [
      "100%|██████████| 25/25 [00:13<00:00,  1.80it/s]\n",
      "100%|██████████| 7/7 [00:02<00:00,  3.47it/s]\n"
     ]
    },
    {
     "name": "stdout",
     "output_type": "stream",
     "text": [
      "epoch: 176  train_loss: 0.002645575702190399  valid_loss: 0.17603063317281858\n"
     ]
    },
    {
     "name": "stderr",
     "output_type": "stream",
     "text": [
      "100%|██████████| 25/25 [00:13<00:00,  1.83it/s]\n",
      "100%|██████████| 7/7 [00:02<00:00,  3.35it/s]\n"
     ]
    },
    {
     "name": "stdout",
     "output_type": "stream",
     "text": [
      "epoch: 177  train_loss: 0.004622908234596252  valid_loss: 0.25016154668160845\n"
     ]
    },
    {
     "name": "stderr",
     "output_type": "stream",
     "text": [
      "100%|██████████| 25/25 [00:13<00:00,  1.83it/s]\n",
      "100%|██████████| 7/7 [00:01<00:00,  3.51it/s]\n"
     ]
    },
    {
     "name": "stdout",
     "output_type": "stream",
     "text": [
      "epoch: 178  train_loss: 0.0010645371675491334  valid_loss: 0.27931639764990124\n"
     ]
    },
    {
     "name": "stderr",
     "output_type": "stream",
     "text": [
      "100%|██████████| 25/25 [00:13<00:00,  1.84it/s]\n",
      "100%|██████████| 7/7 [00:02<00:00,  3.39it/s]\n"
     ]
    },
    {
     "name": "stdout",
     "output_type": "stream",
     "text": [
      "epoch: 179  train_loss: 0.005036037862300873  valid_loss: 0.2839664412396295\n"
     ]
    },
    {
     "name": "stderr",
     "output_type": "stream",
     "text": [
      "100%|██████████| 25/25 [00:13<00:00,  1.81it/s]\n",
      "100%|██████████| 7/7 [00:01<00:00,  3.51it/s]\n"
     ]
    },
    {
     "name": "stdout",
     "output_type": "stream",
     "text": [
      "epoch: 180  train_loss: 0.0045838353037834165  valid_loss: 0.28153147867747713\n"
     ]
    },
    {
     "name": "stderr",
     "output_type": "stream",
     "text": [
      "100%|██████████| 25/25 [00:13<00:00,  1.83it/s]\n",
      "100%|██████████| 7/7 [00:02<00:00,  3.45it/s]\n"
     ]
    },
    {
     "name": "stdout",
     "output_type": "stream",
     "text": [
      "epoch: 181  train_loss: 0.002859591543674469  valid_loss: 0.2625082688672202\n"
     ]
    },
    {
     "name": "stderr",
     "output_type": "stream",
     "text": [
      "100%|██████████| 25/25 [00:13<00:00,  1.82it/s]\n",
      "100%|██████████| 7/7 [00:02<00:00,  3.44it/s]\n"
     ]
    },
    {
     "name": "stdout",
     "output_type": "stream",
     "text": [
      "epoch: 182  train_loss: 0.002557412385940552  valid_loss: 0.18946521143828118\n"
     ]
    },
    {
     "name": "stderr",
     "output_type": "stream",
     "text": [
      "100%|██████████| 25/25 [00:13<00:00,  1.83it/s]\n",
      "100%|██████████| 7/7 [00:02<00:00,  3.43it/s]\n"
     ]
    },
    {
     "name": "stdout",
     "output_type": "stream",
     "text": [
      "epoch: 183  train_loss: 0.0023702728748321534  valid_loss: 0.25419449912650244\n"
     ]
    },
    {
     "name": "stderr",
     "output_type": "stream",
     "text": [
      "100%|██████████| 25/25 [00:13<00:00,  1.81it/s]\n",
      "100%|██████████| 7/7 [00:02<00:00,  3.46it/s]\n"
     ]
    },
    {
     "name": "stdout",
     "output_type": "stream",
     "text": [
      "epoch: 184  train_loss: 0.0  valid_loss: 0.179125400526183\n"
     ]
    },
    {
     "name": "stderr",
     "output_type": "stream",
     "text": [
      "100%|██████████| 25/25 [00:13<00:00,  1.84it/s]\n",
      "100%|██████████| 7/7 [00:02<00:00,  3.46it/s]\n"
     ]
    },
    {
     "name": "stdout",
     "output_type": "stream",
     "text": [
      "epoch: 185  train_loss: 0.0  valid_loss: 0.18479602304952486\n"
     ]
    },
    {
     "name": "stderr",
     "output_type": "stream",
     "text": [
      "100%|██████████| 25/25 [00:13<00:00,  1.82it/s]\n",
      "100%|██████████| 7/7 [00:02<00:00,  3.36it/s]\n"
     ]
    },
    {
     "name": "stdout",
     "output_type": "stream",
     "text": [
      "epoch: 186  train_loss: 0.0  valid_loss: 0.18615676994834626\n"
     ]
    },
    {
     "name": "stderr",
     "output_type": "stream",
     "text": [
      "100%|██████████| 25/25 [00:13<00:00,  1.84it/s]\n",
      "100%|██████████| 7/7 [00:01<00:00,  3.55it/s]\n"
     ]
    },
    {
     "name": "stdout",
     "output_type": "stream",
     "text": [
      "epoch: 187  train_loss: 0.0  valid_loss: 0.20057432992117746\n"
     ]
    },
    {
     "name": "stderr",
     "output_type": "stream",
     "text": [
      "100%|██████████| 25/25 [00:13<00:00,  1.82it/s]\n",
      "100%|██████████| 7/7 [00:01<00:00,  3.53it/s]\n"
     ]
    },
    {
     "name": "stdout",
     "output_type": "stream",
     "text": [
      "epoch: 188  train_loss: 0.012024524360895157  valid_loss: 0.11798021889158658\n"
     ]
    },
    {
     "name": "stderr",
     "output_type": "stream",
     "text": [
      "100%|██████████| 25/25 [00:13<00:00,  1.83it/s]\n",
      "100%|██████████| 7/7 [00:01<00:00,  3.51it/s]\n"
     ]
    },
    {
     "name": "stdout",
     "output_type": "stream",
     "text": [
      "epoch: 189  train_loss: 0.0031340475380420684  valid_loss: 0.19859678936856134\n"
     ]
    },
    {
     "name": "stderr",
     "output_type": "stream",
     "text": [
      "100%|██████████| 25/25 [00:13<00:00,  1.81it/s]\n",
      "100%|██████████| 7/7 [00:02<00:00,  3.50it/s]\n"
     ]
    },
    {
     "name": "stdout",
     "output_type": "stream",
     "text": [
      "epoch: 190  train_loss: 0.00221655935049057  valid_loss: 0.1909090525337628\n"
     ]
    },
    {
     "name": "stderr",
     "output_type": "stream",
     "text": [
      "100%|██████████| 25/25 [00:13<00:00,  1.82it/s]\n",
      "100%|██████████| 7/7 [00:02<00:00,  3.42it/s]\n"
     ]
    },
    {
     "name": "stdout",
     "output_type": "stream",
     "text": [
      "epoch: 191  train_loss: 0.0017401999235153198  valid_loss: 0.30660790630749296\n"
     ]
    },
    {
     "name": "stderr",
     "output_type": "stream",
     "text": [
      "100%|██████████| 25/25 [00:13<00:00,  1.82it/s]\n",
      "100%|██████████| 7/7 [00:02<00:00,  3.29it/s]\n"
     ]
    },
    {
     "name": "stdout",
     "output_type": "stream",
     "text": [
      "epoch: 192  train_loss: 0.005254968702793121  valid_loss: 0.2084700603570257\n"
     ]
    },
    {
     "name": "stderr",
     "output_type": "stream",
     "text": [
      "100%|██████████| 25/25 [00:13<00:00,  1.85it/s]\n",
      "100%|██████████| 7/7 [00:02<00:00,  3.44it/s]\n"
     ]
    },
    {
     "name": "stdout",
     "output_type": "stream",
     "text": [
      "epoch: 193  train_loss: 0.0047746899724006656  valid_loss: 0.1822251927639757\n"
     ]
    },
    {
     "name": "stderr",
     "output_type": "stream",
     "text": [
      "100%|██████████| 25/25 [00:13<00:00,  1.83it/s]\n",
      "100%|██████████| 7/7 [00:02<00:00,  3.24it/s]\n"
     ]
    },
    {
     "name": "stdout",
     "output_type": "stream",
     "text": [
      "epoch: 194  train_loss: 0.0  valid_loss: 0.2114222619150366\n"
     ]
    },
    {
     "name": "stderr",
     "output_type": "stream",
     "text": [
      "100%|██████████| 25/25 [00:13<00:00,  1.85it/s]\n",
      "100%|██████████| 7/7 [00:01<00:00,  3.53it/s]\n"
     ]
    },
    {
     "name": "stdout",
     "output_type": "stream",
     "text": [
      "epoch: 195  train_loss: 0.0007851436734199524  valid_loss: 0.2367532817380769\n"
     ]
    },
    {
     "name": "stderr",
     "output_type": "stream",
     "text": [
      "100%|██████████| 25/25 [00:13<00:00,  1.81it/s]\n",
      "100%|██████████| 7/7 [00:02<00:00,  3.16it/s]\n"
     ]
    },
    {
     "name": "stdout",
     "output_type": "stream",
     "text": [
      "epoch: 196  train_loss: 0.04551627725362778  valid_loss: 0.3001548115696226\n"
     ]
    },
    {
     "name": "stderr",
     "output_type": "stream",
     "text": [
      "100%|██████████| 25/25 [00:13<00:00,  1.85it/s]\n",
      "100%|██████████| 7/7 [00:02<00:00,  3.50it/s]\n"
     ]
    },
    {
     "name": "stdout",
     "output_type": "stream",
     "text": [
      "epoch: 197  train_loss: 0.1207591188699007  valid_loss: 0.24175391984837397\n"
     ]
    },
    {
     "name": "stderr",
     "output_type": "stream",
     "text": [
      "100%|██████████| 25/25 [00:13<00:00,  1.81it/s]\n",
      "100%|██████████| 7/7 [00:02<00:00,  3.23it/s]\n"
     ]
    },
    {
     "name": "stdout",
     "output_type": "stream",
     "text": [
      "epoch: 198  train_loss: 0.04610712662339211  valid_loss: 0.1725946425327233\n"
     ]
    },
    {
     "name": "stderr",
     "output_type": "stream",
     "text": [
      "100%|██████████| 25/25 [00:13<00:00,  1.85it/s]\n",
      "100%|██████████| 7/7 [00:02<00:00,  3.43it/s]\n"
     ]
    },
    {
     "name": "stdout",
     "output_type": "stream",
     "text": [
      "epoch: 199  train_loss: 0.029479054808616637  valid_loss: 0.1594217031129769\n"
     ]
    },
    {
     "name": "stderr",
     "output_type": "stream",
     "text": [
      "100%|██████████| 25/25 [00:13<00:00,  1.81it/s]\n",
      "100%|██████████| 7/7 [00:02<00:00,  3.22it/s]\n"
     ]
    },
    {
     "name": "stdout",
     "output_type": "stream",
     "text": [
      "epoch: 200  train_loss: 0.008831694722175598  valid_loss: 0.1768888458609581\n"
     ]
    },
    {
     "name": "stderr",
     "output_type": "stream",
     "text": [
      "100%|██████████| 25/25 [00:13<00:00,  1.85it/s]\n",
      "100%|██████████| 7/7 [00:02<00:00,  3.48it/s]\n"
     ]
    },
    {
     "name": "stdout",
     "output_type": "stream",
     "text": [
      "epoch: 201  train_loss: 0.0036151735484600067  valid_loss: 0.20978851084198272\n"
     ]
    },
    {
     "name": "stderr",
     "output_type": "stream",
     "text": [
      "100%|██████████| 25/25 [00:14<00:00,  1.78it/s]\n",
      "100%|██████████| 7/7 [00:01<00:00,  3.51it/s]\n"
     ]
    },
    {
     "name": "stdout",
     "output_type": "stream",
     "text": [
      "epoch: 202  train_loss: 0.002220706641674042  valid_loss: 0.21665093515600478\n"
     ]
    },
    {
     "name": "stderr",
     "output_type": "stream",
     "text": [
      "100%|██████████| 25/25 [00:13<00:00,  1.83it/s]\n",
      "100%|██████████| 7/7 [00:01<00:00,  3.53it/s]\n"
     ]
    },
    {
     "name": "stdout",
     "output_type": "stream",
     "text": [
      "epoch: 203  train_loss: 0.0056321735680103305  valid_loss: 0.3555747057710375\n"
     ]
    },
    {
     "name": "stderr",
     "output_type": "stream",
     "text": [
      "100%|██████████| 25/25 [00:14<00:00,  1.77it/s]\n",
      "100%|██████████| 7/7 [00:02<00:00,  3.48it/s]\n"
     ]
    },
    {
     "name": "stdout",
     "output_type": "stream",
     "text": [
      "epoch: 204  train_loss: 0.014721889048814774  valid_loss: 0.20411005084003722\n"
     ]
    },
    {
     "name": "stderr",
     "output_type": "stream",
     "text": [
      "100%|██████████| 25/25 [00:13<00:00,  1.84it/s]\n",
      "100%|██████████| 7/7 [00:02<00:00,  3.48it/s]\n"
     ]
    },
    {
     "name": "stdout",
     "output_type": "stream",
     "text": [
      "epoch: 205  train_loss: 0.0053520694375038145  valid_loss: 0.2687121352979115\n"
     ]
    },
    {
     "name": "stderr",
     "output_type": "stream",
     "text": [
      "100%|██████████| 25/25 [00:14<00:00,  1.76it/s]\n",
      "100%|██████████| 7/7 [00:02<00:00,  3.45it/s]\n"
     ]
    },
    {
     "name": "stdout",
     "output_type": "stream",
     "text": [
      "epoch: 206  train_loss: 0.005990740954875946  valid_loss: 0.26893280552966253\n"
     ]
    },
    {
     "name": "stderr",
     "output_type": "stream",
     "text": [
      "100%|██████████| 25/25 [00:13<00:00,  1.85it/s]\n",
      "100%|██████████| 7/7 [00:02<00:00,  3.47it/s]\n"
     ]
    },
    {
     "name": "stdout",
     "output_type": "stream",
     "text": [
      "epoch: 207  train_loss: 0.04694842517375946  valid_loss: 0.36444698699883055\n"
     ]
    },
    {
     "name": "stderr",
     "output_type": "stream",
     "text": [
      "100%|██████████| 25/25 [00:14<00:00,  1.76it/s]\n",
      "100%|██████████| 7/7 [00:02<00:00,  3.48it/s]\n"
     ]
    },
    {
     "name": "stdout",
     "output_type": "stream",
     "text": [
      "epoch: 208  train_loss: 0.17209100648760794  valid_loss: 0.2216700634786061\n"
     ]
    },
    {
     "name": "stderr",
     "output_type": "stream",
     "text": [
      "100%|██████████| 25/25 [00:13<00:00,  1.85it/s]\n",
      "100%|██████████| 7/7 [00:02<00:00,  3.35it/s]\n"
     ]
    },
    {
     "name": "stdout",
     "output_type": "stream",
     "text": [
      "epoch: 209  train_loss: 0.0722939394414425  valid_loss: 0.1425955199769565\n"
     ]
    },
    {
     "name": "stderr",
     "output_type": "stream",
     "text": [
      "100%|██████████| 25/25 [00:14<00:00,  1.78it/s]\n",
      "100%|██████████| 7/7 [00:02<00:00,  3.46it/s]\n"
     ]
    },
    {
     "name": "stdout",
     "output_type": "stream",
     "text": [
      "epoch: 210  train_loss: 0.03095271110534668  valid_loss: 0.11703225012336459\n"
     ]
    },
    {
     "name": "stderr",
     "output_type": "stream",
     "text": [
      "100%|██████████| 25/25 [00:13<00:00,  1.85it/s]\n",
      "100%|██████████| 7/7 [00:02<00:00,  3.41it/s]\n"
     ]
    },
    {
     "name": "stdout",
     "output_type": "stream",
     "text": [
      "epoch: 211  train_loss: 0.005206276774406433  valid_loss: 0.13512378185987473\n"
     ]
    },
    {
     "name": "stderr",
     "output_type": "stream",
     "text": [
      "100%|██████████| 25/25 [00:14<00:00,  1.76it/s]\n",
      "100%|██████████| 7/7 [00:02<00:00,  3.50it/s]\n"
     ]
    },
    {
     "name": "stdout",
     "output_type": "stream",
     "text": [
      "epoch: 212  train_loss: 0.005077624171972275  valid_loss: 0.14047920810324804\n"
     ]
    },
    {
     "name": "stderr",
     "output_type": "stream",
     "text": [
      "100%|██████████| 25/25 [00:13<00:00,  1.85it/s]\n",
      "100%|██████████| 7/7 [00:02<00:00,  3.48it/s]\n"
     ]
    },
    {
     "name": "stdout",
     "output_type": "stream",
     "text": [
      "epoch: 213  train_loss: 0.00586264818906784  valid_loss: 0.1284931248852185\n"
     ]
    },
    {
     "name": "stderr",
     "output_type": "stream",
     "text": [
      "100%|██████████| 25/25 [00:14<00:00,  1.75it/s]\n",
      "100%|██████████| 7/7 [00:01<00:00,  3.51it/s]\n"
     ]
    },
    {
     "name": "stdout",
     "output_type": "stream",
     "text": [
      "epoch: 214  train_loss: 0.0014892058074474335  valid_loss: 0.12470577231475286\n"
     ]
    },
    {
     "name": "stderr",
     "output_type": "stream",
     "text": [
      "100%|██████████| 25/25 [00:13<00:00,  1.85it/s]\n",
      "100%|██████████| 7/7 [00:01<00:00,  3.51it/s]\n"
     ]
    },
    {
     "name": "stdout",
     "output_type": "stream",
     "text": [
      "epoch: 215  train_loss: 0.0014366389811038972  valid_loss: 0.12737745578799928\n"
     ]
    },
    {
     "name": "stderr",
     "output_type": "stream",
     "text": [
      "100%|██████████| 25/25 [00:14<00:00,  1.76it/s]\n",
      "100%|██████████| 7/7 [00:01<00:00,  3.50it/s]\n"
     ]
    },
    {
     "name": "stdout",
     "output_type": "stream",
     "text": [
      "epoch: 216  train_loss: 5.566775798797608e-05  valid_loss: 0.13710755854845047\n"
     ]
    },
    {
     "name": "stderr",
     "output_type": "stream",
     "text": [
      "100%|██████████| 25/25 [00:13<00:00,  1.84it/s]\n",
      "100%|██████████| 7/7 [00:01<00:00,  3.51it/s]\n"
     ]
    },
    {
     "name": "stdout",
     "output_type": "stream",
     "text": [
      "epoch: 217  train_loss: 0.002175808697938919  valid_loss: 0.12380704070840563\n"
     ]
    },
    {
     "name": "stderr",
     "output_type": "stream",
     "text": [
      "100%|██████████| 25/25 [00:14<00:00,  1.78it/s]\n",
      "100%|██████████| 7/7 [00:02<00:00,  3.37it/s]\n"
     ]
    },
    {
     "name": "stdout",
     "output_type": "stream",
     "text": [
      "Saved weights success\n",
      "epoch: 218  train_loss: 0.0019946296513080595  valid_loss: 0.11215408412473542\n"
     ]
    },
    {
     "name": "stderr",
     "output_type": "stream",
     "text": [
      "100%|██████████| 25/25 [00:13<00:00,  1.84it/s]\n",
      "100%|██████████| 7/7 [00:02<00:00,  3.48it/s]\n"
     ]
    },
    {
     "name": "stdout",
     "output_type": "stream",
     "text": [
      "epoch: 219  train_loss: 0.00013189911842346192  valid_loss: 0.11653269880584308\n"
     ]
    },
    {
     "name": "stderr",
     "output_type": "stream",
     "text": [
      "100%|██████████| 25/25 [00:14<00:00,  1.78it/s]\n",
      "100%|██████████| 7/7 [00:02<00:00,  3.46it/s]\n"
     ]
    },
    {
     "name": "stdout",
     "output_type": "stream",
     "text": [
      "epoch: 220  train_loss: 0.0  valid_loss: 0.11661694624594279\n"
     ]
    },
    {
     "name": "stderr",
     "output_type": "stream",
     "text": [
      "100%|██████████| 25/25 [00:13<00:00,  1.83it/s]\n",
      "100%|██████████| 7/7 [00:02<00:00,  3.39it/s]\n"
     ]
    },
    {
     "name": "stdout",
     "output_type": "stream",
     "text": [
      "epoch: 221  train_loss: 0.0  valid_loss: 0.11326431004064423\n"
     ]
    },
    {
     "name": "stderr",
     "output_type": "stream",
     "text": [
      "100%|██████████| 25/25 [00:14<00:00,  1.77it/s]\n",
      "100%|██████████| 7/7 [00:02<00:00,  3.42it/s]\n"
     ]
    },
    {
     "name": "stdout",
     "output_type": "stream",
     "text": [
      "epoch: 222  train_loss: 0.00019870772957801818  valid_loss: 0.12236086811338152\n"
     ]
    },
    {
     "name": "stderr",
     "output_type": "stream",
     "text": [
      "100%|██████████| 25/25 [00:13<00:00,  1.83it/s]\n",
      "100%|██████████| 7/7 [00:02<00:00,  3.43it/s]\n"
     ]
    },
    {
     "name": "stdout",
     "output_type": "stream",
     "text": [
      "epoch: 223  train_loss: 0.0  valid_loss: 0.12507755841527665\n"
     ]
    },
    {
     "name": "stderr",
     "output_type": "stream",
     "text": [
      "100%|██████████| 25/25 [00:14<00:00,  1.77it/s]\n",
      "100%|██████████| 7/7 [00:02<00:00,  3.41it/s]\n"
     ]
    },
    {
     "name": "stdout",
     "output_type": "stream",
     "text": [
      "epoch: 224  train_loss: 0.00012454241514205932  valid_loss: 0.13914466755730764\n"
     ]
    },
    {
     "name": "stderr",
     "output_type": "stream",
     "text": [
      "100%|██████████| 25/25 [00:13<00:00,  1.82it/s]\n",
      "100%|██████████| 7/7 [00:02<00:00,  3.32it/s]\n"
     ]
    },
    {
     "name": "stdout",
     "output_type": "stream",
     "text": [
      "epoch: 225  train_loss: 0.001161363422870636  valid_loss: 0.12200240418314934\n"
     ]
    },
    {
     "name": "stderr",
     "output_type": "stream",
     "text": [
      "100%|██████████| 25/25 [00:14<00:00,  1.77it/s]\n",
      "100%|██████████| 7/7 [00:02<00:00,  3.41it/s]\n"
     ]
    },
    {
     "name": "stdout",
     "output_type": "stream",
     "text": [
      "epoch: 226  train_loss: 0.002531597316265106  valid_loss: 0.11829494365624019\n"
     ]
    },
    {
     "name": "stderr",
     "output_type": "stream",
     "text": [
      "100%|██████████| 25/25 [00:13<00:00,  1.84it/s]\n",
      "100%|██████████| 7/7 [00:02<00:00,  3.34it/s]\n"
     ]
    },
    {
     "name": "stdout",
     "output_type": "stream",
     "text": [
      "Saved weights success\n",
      "epoch: 227  train_loss: 0.0003527919948101044  valid_loss: 0.10655678063631058\n"
     ]
    },
    {
     "name": "stderr",
     "output_type": "stream",
     "text": [
      "100%|██████████| 25/25 [00:14<00:00,  1.77it/s]\n",
      "100%|██████████| 7/7 [00:02<00:00,  3.39it/s]\n"
     ]
    },
    {
     "name": "stdout",
     "output_type": "stream",
     "text": [
      "epoch: 228  train_loss: 0.00011364817619323731  valid_loss: 0.11521208073411669\n"
     ]
    },
    {
     "name": "stderr",
     "output_type": "stream",
     "text": [
      "100%|██████████| 25/25 [00:13<00:00,  1.85it/s]\n",
      "100%|██████████| 7/7 [00:02<00:00,  3.36it/s]\n"
     ]
    },
    {
     "name": "stdout",
     "output_type": "stream",
     "text": [
      "epoch: 229  train_loss: 0.0  valid_loss: 0.12700766324996948\n"
     ]
    },
    {
     "name": "stderr",
     "output_type": "stream",
     "text": [
      "100%|██████████| 25/25 [00:14<00:00,  1.77it/s]\n",
      "100%|██████████| 7/7 [00:02<00:00,  3.43it/s]\n"
     ]
    },
    {
     "name": "stdout",
     "output_type": "stream",
     "text": [
      "epoch: 230  train_loss: 0.00043261826038360596  valid_loss: 0.14170849642583302\n"
     ]
    },
    {
     "name": "stderr",
     "output_type": "stream",
     "text": [
      "100%|██████████| 25/25 [00:13<00:00,  1.84it/s]\n",
      "100%|██████████| 7/7 [00:02<00:00,  3.41it/s]\n"
     ]
    },
    {
     "name": "stdout",
     "output_type": "stream",
     "text": [
      "epoch: 231  train_loss: 0.0  valid_loss: 0.14392270360674178\n"
     ]
    },
    {
     "name": "stderr",
     "output_type": "stream",
     "text": [
      "100%|██████████| 25/25 [00:14<00:00,  1.75it/s]\n",
      "100%|██████████| 7/7 [00:02<00:00,  3.40it/s]\n"
     ]
    },
    {
     "name": "stdout",
     "output_type": "stream",
     "text": [
      "epoch: 232  train_loss: 0.0005213925242424011  valid_loss: 0.14901706044163024\n"
     ]
    },
    {
     "name": "stderr",
     "output_type": "stream",
     "text": [
      "100%|██████████| 25/25 [00:13<00:00,  1.83it/s]\n",
      "100%|██████████| 7/7 [00:02<00:00,  3.45it/s]\n"
     ]
    },
    {
     "name": "stdout",
     "output_type": "stream",
     "text": [
      "epoch: 233  train_loss: 0.0  valid_loss: 0.15187413139002665\n"
     ]
    },
    {
     "name": "stderr",
     "output_type": "stream",
     "text": [
      "100%|██████████| 25/25 [00:14<00:00,  1.77it/s]\n",
      "100%|██████████| 7/7 [00:02<00:00,  3.38it/s]\n"
     ]
    },
    {
     "name": "stdout",
     "output_type": "stream",
     "text": [
      "epoch: 234  train_loss: 0.0001298469305038452  valid_loss: 0.15806858241558075\n"
     ]
    },
    {
     "name": "stderr",
     "output_type": "stream",
     "text": [
      "100%|██████████| 25/25 [00:13<00:00,  1.85it/s]\n",
      "100%|██████████| 7/7 [00:02<00:00,  3.39it/s]\n"
     ]
    },
    {
     "name": "stdout",
     "output_type": "stream",
     "text": [
      "epoch: 235  train_loss: 0.0007157482206821442  valid_loss: 0.13382754155567714\n"
     ]
    },
    {
     "name": "stderr",
     "output_type": "stream",
     "text": [
      "100%|██████████| 25/25 [00:14<00:00,  1.77it/s]\n",
      "100%|██████████| 7/7 [00:02<00:00,  3.27it/s]\n"
     ]
    },
    {
     "name": "stdout",
     "output_type": "stream",
     "text": [
      "epoch: 236  train_loss: 0.00016214102506637574  valid_loss: 0.12151740491390228\n"
     ]
    },
    {
     "name": "stderr",
     "output_type": "stream",
     "text": [
      "100%|██████████| 25/25 [00:13<00:00,  1.84it/s]\n",
      "100%|██████████| 7/7 [00:02<00:00,  3.36it/s]\n"
     ]
    },
    {
     "name": "stdout",
     "output_type": "stream",
     "text": [
      "epoch: 237  train_loss: 7.311820983886719e-05  valid_loss: 0.11595276743173599\n"
     ]
    },
    {
     "name": "stderr",
     "output_type": "stream",
     "text": [
      "100%|██████████| 25/25 [00:14<00:00,  1.76it/s]\n",
      "100%|██████████| 7/7 [00:02<00:00,  3.35it/s]\n"
     ]
    },
    {
     "name": "stdout",
     "output_type": "stream",
     "text": [
      "epoch: 238  train_loss: 0.0004995238780975342  valid_loss: 0.11949932788099561\n"
     ]
    },
    {
     "name": "stderr",
     "output_type": "stream",
     "text": [
      "100%|██████████| 25/25 [00:13<00:00,  1.85it/s]\n",
      "100%|██████████| 7/7 [00:02<00:00,  3.38it/s]\n"
     ]
    },
    {
     "name": "stdout",
     "output_type": "stream",
     "text": [
      "epoch: 239  train_loss: 0.0  valid_loss: 0.12237359583377838\n"
     ]
    },
    {
     "name": "stderr",
     "output_type": "stream",
     "text": [
      "100%|██████████| 25/25 [00:14<00:00,  1.76it/s]\n",
      "100%|██████████| 7/7 [00:02<00:00,  3.29it/s]\n"
     ]
    },
    {
     "name": "stdout",
     "output_type": "stream",
     "text": [
      "epoch: 240  train_loss: 0.00013185083866119386  valid_loss: 0.11377078933375222\n"
     ]
    },
    {
     "name": "stderr",
     "output_type": "stream",
     "text": [
      "100%|██████████| 25/25 [00:13<00:00,  1.85it/s]\n",
      "100%|██████████| 7/7 [00:02<00:00,  3.42it/s]\n"
     ]
    },
    {
     "name": "stdout",
     "output_type": "stream",
     "text": [
      "epoch: 241  train_loss: 0.000297381728887558  valid_loss: 0.11869246086903981\n"
     ]
    },
    {
     "name": "stderr",
     "output_type": "stream",
     "text": [
      "100%|██████████| 25/25 [00:14<00:00,  1.75it/s]\n",
      "100%|██████████| 7/7 [00:02<00:00,  3.41it/s]\n"
     ]
    },
    {
     "name": "stdout",
     "output_type": "stream",
     "text": [
      "epoch: 242  train_loss: 0.00013416528701782227  valid_loss: 0.13265391439199448\n"
     ]
    },
    {
     "name": "stderr",
     "output_type": "stream",
     "text": [
      "100%|██████████| 25/25 [00:13<00:00,  1.85it/s]\n",
      "100%|██████████| 7/7 [00:02<00:00,  3.42it/s]\n"
     ]
    },
    {
     "name": "stdout",
     "output_type": "stream",
     "text": [
      "epoch: 243  train_loss: 0.0  valid_loss: 0.13503029303891317\n"
     ]
    },
    {
     "name": "stderr",
     "output_type": "stream",
     "text": [
      "100%|██████████| 25/25 [00:14<00:00,  1.75it/s]\n",
      "100%|██████████| 7/7 [00:02<00:00,  3.45it/s]\n"
     ]
    },
    {
     "name": "stdout",
     "output_type": "stream",
     "text": [
      "epoch: 244  train_loss: 0.003425885885953903  valid_loss: 0.1296934804746083\n"
     ]
    },
    {
     "name": "stderr",
     "output_type": "stream",
     "text": [
      "100%|██████████| 25/25 [00:13<00:00,  1.85it/s]\n",
      "100%|██████████| 7/7 [00:02<00:00,  3.43it/s]\n"
     ]
    },
    {
     "name": "stdout",
     "output_type": "stream",
     "text": [
      "epoch: 245  train_loss: 0.0006446850299835205  valid_loss: 0.1213756405881473\n"
     ]
    },
    {
     "name": "stderr",
     "output_type": "stream",
     "text": [
      "100%|██████████| 25/25 [00:14<00:00,  1.76it/s]\n",
      "100%|██████████| 7/7 [00:02<00:00,  3.33it/s]\n"
     ]
    },
    {
     "name": "stdout",
     "output_type": "stream",
     "text": [
      "epoch: 246  train_loss: 0.0003479421138763428  valid_loss: 0.14440870497907912\n"
     ]
    },
    {
     "name": "stderr",
     "output_type": "stream",
     "text": [
      "100%|██████████| 25/25 [00:13<00:00,  1.84it/s]\n",
      "100%|██████████| 7/7 [00:02<00:00,  3.31it/s]\n"
     ]
    },
    {
     "name": "stdout",
     "output_type": "stream",
     "text": [
      "epoch: 247  train_loss: 0.0008957207202911377  valid_loss: 0.14914716993059432\n"
     ]
    },
    {
     "name": "stderr",
     "output_type": "stream",
     "text": [
      "100%|██████████| 25/25 [00:14<00:00,  1.77it/s]\n",
      "100%|██████████| 7/7 [00:02<00:00,  3.46it/s]\n"
     ]
    },
    {
     "name": "stdout",
     "output_type": "stream",
     "text": [
      "epoch: 248  train_loss: 0.0004254564642906189  valid_loss: 0.14496849051543645\n"
     ]
    },
    {
     "name": "stderr",
     "output_type": "stream",
     "text": [
      "100%|██████████| 25/25 [00:13<00:00,  1.86it/s]\n",
      "100%|██████████| 7/7 [00:02<00:00,  3.33it/s]\n"
     ]
    },
    {
     "name": "stdout",
     "output_type": "stream",
     "text": [
      "epoch: 249  train_loss: 0.0  valid_loss: 0.14611209396805083\n"
     ]
    },
    {
     "name": "stderr",
     "output_type": "stream",
     "text": [
      "100%|██████████| 25/25 [00:14<00:00,  1.77it/s]\n",
      "100%|██████████| 7/7 [00:02<00:00,  3.43it/s]\n"
     ]
    },
    {
     "name": "stdout",
     "output_type": "stream",
     "text": [
      "epoch: 250  train_loss: 8.040934801101685e-05  valid_loss: 0.16751900634595326\n"
     ]
    },
    {
     "name": "stderr",
     "output_type": "stream",
     "text": [
      "100%|██████████| 25/25 [00:13<00:00,  1.85it/s]\n",
      "100%|██████████| 7/7 [00:02<00:00,  3.32it/s]\n"
     ]
    },
    {
     "name": "stdout",
     "output_type": "stream",
     "text": [
      "epoch: 251  train_loss: 7.955580949783325e-05  valid_loss: 0.16181509835379465\n"
     ]
    },
    {
     "name": "stderr",
     "output_type": "stream",
     "text": [
      "100%|██████████| 25/25 [00:14<00:00,  1.74it/s]\n",
      "100%|██████████| 7/7 [00:02<00:00,  3.40it/s]\n"
     ]
    },
    {
     "name": "stdout",
     "output_type": "stream",
     "text": [
      "epoch: 252  train_loss: 0.0006084704399108887  valid_loss: 0.15199213368552073\n"
     ]
    },
    {
     "name": "stderr",
     "output_type": "stream",
     "text": [
      "100%|██████████| 25/25 [00:13<00:00,  1.81it/s]\n",
      "100%|██████████| 7/7 [00:02<00:00,  3.40it/s]\n"
     ]
    },
    {
     "name": "stdout",
     "output_type": "stream",
     "text": [
      "epoch: 253  train_loss: 0.0  valid_loss: 0.15350739657878876\n"
     ]
    },
    {
     "name": "stderr",
     "output_type": "stream",
     "text": [
      "100%|██████████| 25/25 [00:14<00:00,  1.75it/s]\n",
      "100%|██████████| 7/7 [00:02<00:00,  3.40it/s]\n"
     ]
    },
    {
     "name": "stdout",
     "output_type": "stream",
     "text": [
      "epoch: 254  train_loss: 0.003299214243888855  valid_loss: 0.17136762610503606\n"
     ]
    },
    {
     "name": "stderr",
     "output_type": "stream",
     "text": [
      "100%|██████████| 25/25 [00:13<00:00,  1.85it/s]\n",
      "100%|██████████| 7/7 [00:02<00:00,  3.44it/s]\n"
     ]
    },
    {
     "name": "stdout",
     "output_type": "stream",
     "text": [
      "epoch: 255  train_loss: 0.002011376917362213  valid_loss: 0.15052082815340587\n"
     ]
    },
    {
     "name": "stderr",
     "output_type": "stream",
     "text": [
      "100%|██████████| 25/25 [00:14<00:00,  1.74it/s]\n",
      "100%|██████████| 7/7 [00:02<00:00,  3.39it/s]\n"
     ]
    },
    {
     "name": "stdout",
     "output_type": "stream",
     "text": [
      "epoch: 256  train_loss: 0.0021837389469146727  valid_loss: 0.13500943779945374\n"
     ]
    },
    {
     "name": "stderr",
     "output_type": "stream",
     "text": [
      "100%|██████████| 25/25 [00:13<00:00,  1.85it/s]\n",
      "100%|██████████| 7/7 [00:02<00:00,  3.38it/s]\n"
     ]
    },
    {
     "name": "stdout",
     "output_type": "stream",
     "text": [
      "epoch: 257  train_loss: 0.0  valid_loss: 0.13604805724961416\n"
     ]
    },
    {
     "name": "stderr",
     "output_type": "stream",
     "text": [
      "100%|██████████| 25/25 [00:14<00:00,  1.76it/s]\n",
      "100%|██████████| 7/7 [00:02<00:00,  3.29it/s]\n"
     ]
    },
    {
     "name": "stdout",
     "output_type": "stream",
     "text": [
      "epoch: 258  train_loss: 0.0007722392678260803  valid_loss: 0.13582734603966987\n"
     ]
    },
    {
     "name": "stderr",
     "output_type": "stream",
     "text": [
      "100%|██████████| 25/25 [00:13<00:00,  1.84it/s]\n",
      "100%|██████████| 7/7 [00:02<00:00,  3.38it/s]\n"
     ]
    },
    {
     "name": "stdout",
     "output_type": "stream",
     "text": [
      "epoch: 259  train_loss: 0.00016862258315086364  valid_loss: 0.13847602531313896\n"
     ]
    },
    {
     "name": "stderr",
     "output_type": "stream",
     "text": [
      "100%|██████████| 25/25 [00:14<00:00,  1.78it/s]\n",
      "100%|██████████| 7/7 [00:02<00:00,  3.28it/s]\n"
     ]
    },
    {
     "name": "stdout",
     "output_type": "stream",
     "text": [
      "epoch: 260  train_loss: 4.9323439598083496e-05  valid_loss: 0.15112974175385066\n"
     ]
    },
    {
     "name": "stderr",
     "output_type": "stream",
     "text": [
      "100%|██████████| 25/25 [00:13<00:00,  1.86it/s]\n",
      "100%|██████████| 7/7 [00:02<00:00,  3.39it/s]\n"
     ]
    },
    {
     "name": "stdout",
     "output_type": "stream",
     "text": [
      "epoch: 261  train_loss: 0.0  valid_loss: 0.17630249368292944\n"
     ]
    },
    {
     "name": "stderr",
     "output_type": "stream",
     "text": [
      "100%|██████████| 25/25 [00:14<00:00,  1.76it/s]\n",
      "100%|██████████| 7/7 [00:02<00:00,  3.37it/s]\n"
     ]
    },
    {
     "name": "stdout",
     "output_type": "stream",
     "text": [
      "epoch: 262  train_loss: 0.002559962868690491  valid_loss: 0.17714699996369226\n"
     ]
    },
    {
     "name": "stderr",
     "output_type": "stream",
     "text": [
      "100%|██████████| 25/25 [00:13<00:00,  1.84it/s]\n",
      "100%|██████████| 7/7 [00:02<00:00,  3.27it/s]\n"
     ]
    },
    {
     "name": "stdout",
     "output_type": "stream",
     "text": [
      "epoch: 263  train_loss: 0.001143704354763031  valid_loss: 0.21033376774617604\n"
     ]
    },
    {
     "name": "stderr",
     "output_type": "stream",
     "text": [
      "100%|██████████| 25/25 [00:14<00:00,  1.77it/s]\n",
      "100%|██████████| 7/7 [00:02<00:00,  3.40it/s]\n"
     ]
    },
    {
     "name": "stdout",
     "output_type": "stream",
     "text": [
      "epoch: 264  train_loss: 0.01111276775598526  valid_loss: 0.29833547877413885\n"
     ]
    },
    {
     "name": "stderr",
     "output_type": "stream",
     "text": [
      "100%|██████████| 25/25 [00:13<00:00,  1.84it/s]\n",
      "100%|██████████| 7/7 [00:02<00:00,  3.41it/s]\n"
     ]
    },
    {
     "name": "stdout",
     "output_type": "stream",
     "text": [
      "epoch: 265  train_loss: 0.0043690225481987  valid_loss: 0.16561393014022283\n"
     ]
    },
    {
     "name": "stderr",
     "output_type": "stream",
     "text": [
      "100%|██████████| 25/25 [00:14<00:00,  1.77it/s]\n",
      "100%|██████████| 7/7 [00:02<00:00,  3.38it/s]\n"
     ]
    },
    {
     "name": "stdout",
     "output_type": "stream",
     "text": [
      "epoch: 266  train_loss: 0.0011544454097747803  valid_loss: 0.23082736134529114\n"
     ]
    },
    {
     "name": "stderr",
     "output_type": "stream",
     "text": [
      "100%|██████████| 25/25 [00:13<00:00,  1.84it/s]\n",
      "100%|██████████| 7/7 [00:02<00:00,  3.37it/s]\n"
     ]
    },
    {
     "name": "stdout",
     "output_type": "stream",
     "text": [
      "epoch: 267  train_loss: 0.005031332671642304  valid_loss: 0.19495461881160736\n"
     ]
    },
    {
     "name": "stderr",
     "output_type": "stream",
     "text": [
      "100%|██████████| 25/25 [00:14<00:00,  1.78it/s]\n",
      "100%|██████████| 7/7 [00:02<00:00,  3.47it/s]\n"
     ]
    },
    {
     "name": "stdout",
     "output_type": "stream",
     "text": [
      "epoch: 268  train_loss: 0.0021914634108543395  valid_loss: 0.23416728845664433\n"
     ]
    },
    {
     "name": "stderr",
     "output_type": "stream",
     "text": [
      "100%|██████████| 25/25 [00:13<00:00,  1.85it/s]\n",
      "100%|██████████| 7/7 [00:02<00:00,  3.31it/s]\n"
     ]
    },
    {
     "name": "stdout",
     "output_type": "stream",
     "text": [
      "epoch: 269  train_loss: 0.017628320753574372  valid_loss: 0.3121122952018465\n"
     ]
    },
    {
     "name": "stderr",
     "output_type": "stream",
     "text": [
      "100%|██████████| 25/25 [00:14<00:00,  1.78it/s]\n",
      "100%|██████████| 7/7 [00:02<00:00,  3.42it/s]\n"
     ]
    },
    {
     "name": "stdout",
     "output_type": "stream",
     "text": [
      "epoch: 270  train_loss: 0.01768502116203308  valid_loss: 0.2458360493183136\n"
     ]
    },
    {
     "name": "stderr",
     "output_type": "stream",
     "text": [
      "100%|██████████| 25/25 [00:13<00:00,  1.83it/s]\n",
      "100%|██████████| 7/7 [00:02<00:00,  3.44it/s]\n"
     ]
    },
    {
     "name": "stdout",
     "output_type": "stream",
     "text": [
      "epoch: 271  train_loss: 0.005079759806394577  valid_loss: 0.27921042272022795\n"
     ]
    },
    {
     "name": "stderr",
     "output_type": "stream",
     "text": [
      "100%|██████████| 25/25 [00:14<00:00,  1.78it/s]\n",
      "100%|██████████| 7/7 [00:02<00:00,  3.34it/s]\n"
     ]
    },
    {
     "name": "stdout",
     "output_type": "stream",
     "text": [
      "epoch: 272  train_loss: 0.0057109335064888  valid_loss: 0.18871617317199707\n"
     ]
    },
    {
     "name": "stderr",
     "output_type": "stream",
     "text": [
      "100%|██████████| 25/25 [00:13<00:00,  1.83it/s]\n",
      "100%|██████████| 7/7 [00:02<00:00,  3.44it/s]\n"
     ]
    },
    {
     "name": "stdout",
     "output_type": "stream",
     "text": [
      "epoch: 273  train_loss: 0.004262261986732483  valid_loss: 0.23323655554226466\n"
     ]
    },
    {
     "name": "stderr",
     "output_type": "stream",
     "text": [
      "100%|██████████| 25/25 [00:13<00:00,  1.79it/s]\n",
      "100%|██████████| 7/7 [00:02<00:00,  3.44it/s]\n"
     ]
    },
    {
     "name": "stdout",
     "output_type": "stream",
     "text": [
      "epoch: 274  train_loss: 0.012574854195117951  valid_loss: 0.3268989792891911\n"
     ]
    },
    {
     "name": "stderr",
     "output_type": "stream",
     "text": [
      "100%|██████████| 25/25 [00:13<00:00,  1.85it/s]\n",
      "100%|██████████| 7/7 [00:02<00:00,  3.42it/s]\n"
     ]
    },
    {
     "name": "stdout",
     "output_type": "stream",
     "text": [
      "epoch: 275  train_loss: 0.028966014683246614  valid_loss: 0.19367567556244986\n"
     ]
    },
    {
     "name": "stderr",
     "output_type": "stream",
     "text": [
      "100%|██████████| 25/25 [00:13<00:00,  1.79it/s]\n",
      "100%|██████████| 7/7 [00:02<00:00,  3.39it/s]\n"
     ]
    },
    {
     "name": "stdout",
     "output_type": "stream",
     "text": [
      "epoch: 276  train_loss: 0.002469533234834671  valid_loss: 0.2289979543004717\n"
     ]
    },
    {
     "name": "stderr",
     "output_type": "stream",
     "text": [
      "100%|██████████| 25/25 [00:13<00:00,  1.84it/s]\n",
      "100%|██████████| 7/7 [00:02<00:00,  3.35it/s]\n"
     ]
    },
    {
     "name": "stdout",
     "output_type": "stream",
     "text": [
      "epoch: 277  train_loss: 0.013876157104969025  valid_loss: 0.26361533999443054\n"
     ]
    },
    {
     "name": "stderr",
     "output_type": "stream",
     "text": [
      "100%|██████████| 25/25 [00:13<00:00,  1.80it/s]\n",
      "100%|██████████| 7/7 [00:02<00:00,  3.30it/s]\n"
     ]
    },
    {
     "name": "stdout",
     "output_type": "stream",
     "text": [
      "epoch: 278  train_loss: 0.008242807686328887  valid_loss: 0.22458131504910334\n"
     ]
    },
    {
     "name": "stderr",
     "output_type": "stream",
     "text": [
      "100%|██████████| 25/25 [00:13<00:00,  1.84it/s]\n",
      "100%|██████████| 7/7 [00:02<00:00,  3.42it/s]\n"
     ]
    },
    {
     "name": "stdout",
     "output_type": "stream",
     "text": [
      "epoch: 279  train_loss: 0.010466703474521636  valid_loss: 0.3304297604731151\n"
     ]
    },
    {
     "name": "stderr",
     "output_type": "stream",
     "text": [
      "100%|██████████| 25/25 [00:13<00:00,  1.79it/s]\n",
      "100%|██████████| 7/7 [00:02<00:00,  3.49it/s]\n"
     ]
    },
    {
     "name": "stdout",
     "output_type": "stream",
     "text": [
      "epoch: 280  train_loss: 0.006413654386997223  valid_loss: 0.35190033274037497\n"
     ]
    },
    {
     "name": "stderr",
     "output_type": "stream",
     "text": [
      "100%|██████████| 25/25 [00:13<00:00,  1.84it/s]\n",
      "100%|██████████| 7/7 [00:01<00:00,  3.52it/s]\n"
     ]
    },
    {
     "name": "stdout",
     "output_type": "stream",
     "text": [
      "epoch: 281  train_loss: 0.0014660462737083435  valid_loss: 0.22418040143592016\n"
     ]
    },
    {
     "name": "stderr",
     "output_type": "stream",
     "text": [
      "100%|██████████| 25/25 [00:13<00:00,  1.79it/s]\n",
      "100%|██████████| 7/7 [00:02<00:00,  3.47it/s]\n"
     ]
    },
    {
     "name": "stdout",
     "output_type": "stream",
     "text": [
      "epoch: 282  train_loss: 0.02567452356219292  valid_loss: 0.16036579651491983\n"
     ]
    },
    {
     "name": "stderr",
     "output_type": "stream",
     "text": [
      "100%|██████████| 25/25 [00:13<00:00,  1.82it/s]\n",
      "100%|██████████| 7/7 [00:02<00:00,  3.44it/s]\n"
     ]
    },
    {
     "name": "stdout",
     "output_type": "stream",
     "text": [
      "epoch: 283  train_loss: 0.007901249751448632  valid_loss: 0.13660079453672683\n"
     ]
    },
    {
     "name": "stderr",
     "output_type": "stream",
     "text": [
      "100%|██████████| 25/25 [00:14<00:00,  1.78it/s]\n",
      "100%|██████████| 7/7 [00:01<00:00,  3.50it/s]\n"
     ]
    },
    {
     "name": "stdout",
     "output_type": "stream",
     "text": [
      "epoch: 284  train_loss: 0.00619460716843605  valid_loss: 0.13512698773826873\n"
     ]
    },
    {
     "name": "stderr",
     "output_type": "stream",
     "text": [
      "100%|██████████| 25/25 [00:13<00:00,  1.84it/s]\n",
      "100%|██████████| 7/7 [00:02<00:00,  3.45it/s]\n"
     ]
    },
    {
     "name": "stdout",
     "output_type": "stream",
     "text": [
      "epoch: 285  train_loss: 0.0009549060463905335  valid_loss: 0.16895691837583268\n"
     ]
    },
    {
     "name": "stderr",
     "output_type": "stream",
     "text": [
      "100%|██████████| 25/25 [00:13<00:00,  1.79it/s]\n",
      "100%|██████████| 7/7 [00:01<00:00,  3.50it/s]\n"
     ]
    },
    {
     "name": "stdout",
     "output_type": "stream",
     "text": [
      "epoch: 286  train_loss: 0.002282157987356186  valid_loss: 0.16213696237121308\n"
     ]
    },
    {
     "name": "stderr",
     "output_type": "stream",
     "text": [
      "100%|██████████| 25/25 [00:13<00:00,  1.84it/s]\n",
      "100%|██████████| 7/7 [00:02<00:00,  3.38it/s]\n"
     ]
    },
    {
     "name": "stdout",
     "output_type": "stream",
     "text": [
      "epoch: 287  train_loss: 0.0010038793087005615  valid_loss: 0.15254528181893484\n"
     ]
    },
    {
     "name": "stderr",
     "output_type": "stream",
     "text": [
      "100%|██████████| 25/25 [00:14<00:00,  1.78it/s]\n",
      "100%|██████████| 7/7 [00:02<00:00,  3.49it/s]\n"
     ]
    },
    {
     "name": "stdout",
     "output_type": "stream",
     "text": [
      "epoch: 288  train_loss: 0.0007828161120414734  valid_loss: 0.1713669885482107\n"
     ]
    },
    {
     "name": "stderr",
     "output_type": "stream",
     "text": [
      "100%|██████████| 25/25 [00:13<00:00,  1.83it/s]\n",
      "100%|██████████| 7/7 [00:02<00:00,  3.41it/s]\n"
     ]
    },
    {
     "name": "stdout",
     "output_type": "stream",
     "text": [
      "epoch: 289  train_loss: 0.0008063173294067383  valid_loss: 0.1721985169819423\n"
     ]
    },
    {
     "name": "stderr",
     "output_type": "stream",
     "text": [
      "100%|██████████| 25/25 [00:13<00:00,  1.79it/s]\n",
      "100%|██████████| 7/7 [00:02<00:00,  3.45it/s]\n"
     ]
    },
    {
     "name": "stdout",
     "output_type": "stream",
     "text": [
      "epoch: 290  train_loss: 0.0  valid_loss: 0.17835968094212667\n"
     ]
    },
    {
     "name": "stderr",
     "output_type": "stream",
     "text": [
      "100%|██████████| 25/25 [00:13<00:00,  1.84it/s]\n",
      "100%|██████████| 7/7 [00:02<00:00,  3.42it/s]\n"
     ]
    },
    {
     "name": "stdout",
     "output_type": "stream",
     "text": [
      "epoch: 291  train_loss: 0.05937974646687508  valid_loss: 0.23947536945343018\n"
     ]
    },
    {
     "name": "stderr",
     "output_type": "stream",
     "text": [
      "100%|██████████| 25/25 [00:14<00:00,  1.78it/s]\n",
      "100%|██████████| 7/7 [00:02<00:00,  3.45it/s]\n"
     ]
    },
    {
     "name": "stdout",
     "output_type": "stream",
     "text": [
      "epoch: 292  train_loss: 0.029504098147153855  valid_loss: 0.21537272419248307\n"
     ]
    },
    {
     "name": "stderr",
     "output_type": "stream",
     "text": [
      "100%|██████████| 25/25 [00:13<00:00,  1.83it/s]\n",
      "100%|██████████| 7/7 [00:01<00:00,  3.50it/s]\n"
     ]
    },
    {
     "name": "stdout",
     "output_type": "stream",
     "text": [
      "epoch: 293  train_loss: 0.023577397018671037  valid_loss: 0.215415501168796\n"
     ]
    },
    {
     "name": "stderr",
     "output_type": "stream",
     "text": [
      "100%|██████████| 25/25 [00:13<00:00,  1.79it/s]\n",
      "100%|██████████| 7/7 [00:02<00:00,  3.27it/s]\n"
     ]
    },
    {
     "name": "stdout",
     "output_type": "stream",
     "text": [
      "epoch: 294  train_loss: 0.008030047416687012  valid_loss: 0.1865465178021363\n"
     ]
    },
    {
     "name": "stderr",
     "output_type": "stream",
     "text": [
      "100%|██████████| 25/25 [00:13<00:00,  1.84it/s]\n",
      "100%|██████████| 7/7 [00:01<00:00,  3.52it/s]\n"
     ]
    },
    {
     "name": "stdout",
     "output_type": "stream",
     "text": [
      "epoch: 295  train_loss: 0.005752323120832443  valid_loss: 0.19066408382994787\n"
     ]
    },
    {
     "name": "stderr",
     "output_type": "stream",
     "text": [
      "100%|██████████| 25/25 [00:13<00:00,  1.80it/s]\n",
      "100%|██████████| 7/7 [00:02<00:00,  3.24it/s]\n"
     ]
    },
    {
     "name": "stdout",
     "output_type": "stream",
     "text": [
      "epoch: 296  train_loss: 0.0015679658949375153  valid_loss: 0.223431619150298\n"
     ]
    },
    {
     "name": "stderr",
     "output_type": "stream",
     "text": [
      "100%|██████████| 25/25 [00:13<00:00,  1.85it/s]\n",
      "100%|██████████| 7/7 [00:02<00:00,  3.46it/s]\n"
     ]
    },
    {
     "name": "stdout",
     "output_type": "stream",
     "text": [
      "epoch: 297  train_loss: 0.0016602806746959687  valid_loss: 0.21548211468117578\n"
     ]
    },
    {
     "name": "stderr",
     "output_type": "stream",
     "text": [
      "100%|██████████| 25/25 [00:14<00:00,  1.78it/s]\n",
      "100%|██████████| 7/7 [00:02<00:00,  3.44it/s]\n"
     ]
    },
    {
     "name": "stdout",
     "output_type": "stream",
     "text": [
      "epoch: 298  train_loss: 0.00047390520572662356  valid_loss: 0.17442335401262557\n"
     ]
    },
    {
     "name": "stderr",
     "output_type": "stream",
     "text": [
      "100%|██████████| 25/25 [00:13<00:00,  1.85it/s]\n",
      "100%|██████████| 7/7 [00:02<00:00,  3.45it/s]\n"
     ]
    },
    {
     "name": "stdout",
     "output_type": "stream",
     "text": [
      "epoch: 299  train_loss: 7.235348224639893e-05  valid_loss: 0.1783465870789119\n"
     ]
    },
    {
     "name": "stderr",
     "output_type": "stream",
     "text": [
      "100%|██████████| 25/25 [00:14<00:00,  1.78it/s]\n",
      "100%|██████████| 7/7 [00:02<00:00,  3.44it/s]\n"
     ]
    },
    {
     "name": "stdout",
     "output_type": "stream",
     "text": [
      "epoch: 300  train_loss: 0.0  valid_loss: 0.1794131930385317\n"
     ]
    },
    {
     "name": "stderr",
     "output_type": "stream",
     "text": [
      "100%|██████████| 25/25 [00:13<00:00,  1.83it/s]\n",
      "100%|██████████| 7/7 [00:02<00:00,  3.42it/s]\n"
     ]
    },
    {
     "name": "stdout",
     "output_type": "stream",
     "text": [
      "epoch: 301  train_loss: 0.002614191174507141  valid_loss: 0.1816785005586488\n"
     ]
    },
    {
     "name": "stderr",
     "output_type": "stream",
     "text": [
      "100%|██████████| 25/25 [00:13<00:00,  1.79it/s]\n",
      "100%|██████████| 7/7 [00:02<00:00,  3.41it/s]\n"
     ]
    },
    {
     "name": "stdout",
     "output_type": "stream",
     "text": [
      "epoch: 302  train_loss: 0.000256962925195694  valid_loss: 0.18141400175435202\n"
     ]
    },
    {
     "name": "stderr",
     "output_type": "stream",
     "text": [
      "100%|██████████| 25/25 [00:13<00:00,  1.84it/s]\n",
      "100%|██████████| 7/7 [00:02<00:00,  3.29it/s]\n"
     ]
    },
    {
     "name": "stdout",
     "output_type": "stream",
     "text": [
      "epoch: 303  train_loss: 0.0  valid_loss: 0.1826269839491163\n"
     ]
    },
    {
     "name": "stderr",
     "output_type": "stream",
     "text": [
      "100%|██████████| 25/25 [00:14<00:00,  1.77it/s]\n",
      "100%|██████████| 7/7 [00:02<00:00,  3.42it/s]\n"
     ]
    },
    {
     "name": "stdout",
     "output_type": "stream",
     "text": [
      "epoch: 304  train_loss: 0.0009800271689891814  valid_loss: 0.17326109962803976\n"
     ]
    },
    {
     "name": "stderr",
     "output_type": "stream",
     "text": [
      "100%|██████████| 25/25 [00:13<00:00,  1.84it/s]\n",
      "100%|██████████| 7/7 [00:02<00:00,  3.32it/s]\n"
     ]
    },
    {
     "name": "stdout",
     "output_type": "stream",
     "text": [
      "epoch: 305  train_loss: 0.0012156686186790466  valid_loss: 0.17277993900435312\n"
     ]
    },
    {
     "name": "stderr",
     "output_type": "stream",
     "text": [
      "100%|██████████| 25/25 [00:13<00:00,  1.80it/s]\n",
      "100%|██████████| 7/7 [00:02<00:00,  3.42it/s]\n"
     ]
    },
    {
     "name": "stdout",
     "output_type": "stream",
     "text": [
      "epoch: 306  train_loss: 0.0  valid_loss: 0.17714061800922667\n"
     ]
    },
    {
     "name": "stderr",
     "output_type": "stream",
     "text": [
      "100%|██████████| 25/25 [00:13<00:00,  1.85it/s]\n",
      "100%|██████████| 7/7 [00:02<00:00,  3.44it/s]\n"
     ]
    },
    {
     "name": "stdout",
     "output_type": "stream",
     "text": [
      "epoch: 307  train_loss: 0.0  valid_loss: 0.17519408145121165\n"
     ]
    },
    {
     "name": "stderr",
     "output_type": "stream",
     "text": [
      "100%|██████████| 25/25 [00:14<00:00,  1.78it/s]\n",
      "100%|██████████| 7/7 [00:02<00:00,  3.33it/s]\n"
     ]
    },
    {
     "name": "stdout",
     "output_type": "stream",
     "text": [
      "epoch: 308  train_loss: 0.0  valid_loss: 0.17764821648597717\n"
     ]
    },
    {
     "name": "stderr",
     "output_type": "stream",
     "text": [
      "100%|██████████| 25/25 [00:13<00:00,  1.84it/s]\n",
      "100%|██████████| 7/7 [00:02<00:00,  3.41it/s]\n"
     ]
    },
    {
     "name": "stdout",
     "output_type": "stream",
     "text": [
      "epoch: 309  train_loss: 0.00020069390535354614  valid_loss: 0.19293321988412312\n"
     ]
    },
    {
     "name": "stderr",
     "output_type": "stream",
     "text": [
      "100%|██████████| 25/25 [00:14<00:00,  1.78it/s]\n",
      "100%|██████████| 7/7 [00:02<00:00,  3.41it/s]\n"
     ]
    },
    {
     "name": "stdout",
     "output_type": "stream",
     "text": [
      "epoch: 310  train_loss: 0.0  valid_loss: 0.2074102514556476\n"
     ]
    },
    {
     "name": "stderr",
     "output_type": "stream",
     "text": [
      "100%|██████████| 25/25 [00:13<00:00,  1.86it/s]\n",
      "100%|██████████| 7/7 [00:02<00:00,  3.42it/s]\n"
     ]
    },
    {
     "name": "stdout",
     "output_type": "stream",
     "text": [
      "epoch: 311  train_loss: 0.0008309236168861389  valid_loss: 0.21244560607842036\n"
     ]
    },
    {
     "name": "stderr",
     "output_type": "stream",
     "text": [
      "100%|██████████| 25/25 [00:14<00:00,  1.78it/s]\n",
      "100%|██████████| 7/7 [00:02<00:00,  3.30it/s]\n"
     ]
    },
    {
     "name": "stdout",
     "output_type": "stream",
     "text": [
      "epoch: 312  train_loss: 0.0  valid_loss: 0.22648281071867263\n"
     ]
    },
    {
     "name": "stderr",
     "output_type": "stream",
     "text": [
      "100%|██████████| 25/25 [00:13<00:00,  1.84it/s]\n",
      "100%|██████████| 7/7 [00:02<00:00,  3.38it/s]\n"
     ]
    },
    {
     "name": "stdout",
     "output_type": "stream",
     "text": [
      "epoch: 313  train_loss: 0.0006182077527046204  valid_loss: 0.18236140693937028\n"
     ]
    },
    {
     "name": "stderr",
     "output_type": "stream",
     "text": [
      "100%|██████████| 25/25 [00:14<00:00,  1.77it/s]\n",
      "100%|██████████| 7/7 [00:02<00:00,  3.30it/s]\n"
     ]
    },
    {
     "name": "stdout",
     "output_type": "stream",
     "text": [
      "epoch: 314  train_loss: 0.0  valid_loss: 0.17700126554284776\n"
     ]
    },
    {
     "name": "stderr",
     "output_type": "stream",
     "text": [
      "100%|██████████| 25/25 [00:13<00:00,  1.84it/s]\n",
      "100%|██████████| 7/7 [00:02<00:00,  3.42it/s]\n"
     ]
    },
    {
     "name": "stdout",
     "output_type": "stream",
     "text": [
      "epoch: 315  train_loss: 0.0  valid_loss: 0.17640273166554316\n"
     ]
    },
    {
     "name": "stderr",
     "output_type": "stream",
     "text": [
      "100%|██████████| 25/25 [00:13<00:00,  1.79it/s]\n",
      "100%|██████████| 7/7 [00:02<00:00,  3.42it/s]\n"
     ]
    },
    {
     "name": "stdout",
     "output_type": "stream",
     "text": [
      "epoch: 316  train_loss: 0.0  valid_loss: 0.17216784187725612\n"
     ]
    },
    {
     "name": "stderr",
     "output_type": "stream",
     "text": [
      "100%|██████████| 25/25 [00:13<00:00,  1.83it/s]\n",
      "100%|██████████| 7/7 [00:02<00:00,  3.38it/s]\n"
     ]
    },
    {
     "name": "stdout",
     "output_type": "stream",
     "text": [
      "epoch: 317  train_loss: 0.0  valid_loss: 0.16957486314432962\n"
     ]
    },
    {
     "name": "stderr",
     "output_type": "stream",
     "text": [
      "100%|██████████| 25/25 [00:13<00:00,  1.79it/s]\n",
      "100%|██████████| 7/7 [00:02<00:00,  3.45it/s]\n"
     ]
    },
    {
     "name": "stdout",
     "output_type": "stream",
     "text": [
      "epoch: 318  train_loss: 0.0  valid_loss: 0.17062426890645707\n"
     ]
    },
    {
     "name": "stderr",
     "output_type": "stream",
     "text": [
      "100%|██████████| 25/25 [00:13<00:00,  1.84it/s]\n",
      "100%|██████████| 7/7 [00:02<00:00,  3.47it/s]\n"
     ]
    },
    {
     "name": "stdout",
     "output_type": "stream",
     "text": [
      "epoch: 319  train_loss: 0.0  valid_loss: 0.16992059775761195\n"
     ]
    },
    {
     "name": "stderr",
     "output_type": "stream",
     "text": [
      "100%|██████████| 25/25 [00:13<00:00,  1.79it/s]\n",
      "100%|██████████| 7/7 [00:02<00:00,  3.48it/s]\n"
     ]
    },
    {
     "name": "stdout",
     "output_type": "stream",
     "text": [
      "epoch: 320  train_loss: 0.0  valid_loss: 0.16824082817350114\n"
     ]
    },
    {
     "name": "stderr",
     "output_type": "stream",
     "text": [
      "100%|██████████| 25/25 [00:13<00:00,  1.85it/s]\n",
      "100%|██████████| 7/7 [00:02<00:00,  3.36it/s]\n"
     ]
    },
    {
     "name": "stdout",
     "output_type": "stream",
     "text": [
      "epoch: 321  train_loss: 0.0003031390905380249  valid_loss: 0.23232260133538926\n"
     ]
    },
    {
     "name": "stderr",
     "output_type": "stream",
     "text": [
      "100%|██████████| 25/25 [00:14<00:00,  1.79it/s]\n",
      "100%|██████████| 7/7 [00:01<00:00,  3.52it/s]\n"
     ]
    },
    {
     "name": "stdout",
     "output_type": "stream",
     "text": [
      "epoch: 322  train_loss: 0.001582721471786499  valid_loss: 0.18350054323673248\n"
     ]
    },
    {
     "name": "stderr",
     "output_type": "stream",
     "text": [
      "100%|██████████| 25/25 [00:13<00:00,  1.84it/s]\n",
      "100%|██████████| 7/7 [00:02<00:00,  3.44it/s]\n"
     ]
    },
    {
     "name": "stdout",
     "output_type": "stream",
     "text": [
      "epoch: 323  train_loss: 0.0033270095288753508  valid_loss: 0.20218207793576376\n"
     ]
    },
    {
     "name": "stderr",
     "output_type": "stream",
     "text": [
      "100%|██████████| 25/25 [00:14<00:00,  1.78it/s]\n",
      "100%|██████████| 7/7 [00:01<00:00,  3.51it/s]\n"
     ]
    },
    {
     "name": "stdout",
     "output_type": "stream",
     "text": [
      "epoch: 324  train_loss: 0.0  valid_loss: 0.21280290825026377\n"
     ]
    },
    {
     "name": "stderr",
     "output_type": "stream",
     "text": [
      "100%|██████████| 25/25 [00:13<00:00,  1.86it/s]\n",
      "100%|██████████| 7/7 [00:02<00:00,  3.45it/s]\n"
     ]
    },
    {
     "name": "stdout",
     "output_type": "stream",
     "text": [
      "epoch: 325  train_loss: 0.0008511784672737122  valid_loss: 0.2574948115008218\n"
     ]
    },
    {
     "name": "stderr",
     "output_type": "stream",
     "text": [
      "100%|██████████| 25/25 [00:14<00:00,  1.78it/s]\n",
      "100%|██████████| 7/7 [00:01<00:00,  3.50it/s]\n"
     ]
    },
    {
     "name": "stdout",
     "output_type": "stream",
     "text": [
      "epoch: 326  train_loss: 0.002857629060745239  valid_loss: 0.22894873363631113\n"
     ]
    },
    {
     "name": "stderr",
     "output_type": "stream",
     "text": [
      "100%|██████████| 25/25 [00:13<00:00,  1.84it/s]\n",
      "100%|██████████| 7/7 [00:02<00:00,  3.36it/s]\n"
     ]
    },
    {
     "name": "stdout",
     "output_type": "stream",
     "text": [
      "epoch: 327  train_loss: 0.0  valid_loss: 0.21393754013947078\n"
     ]
    },
    {
     "name": "stderr",
     "output_type": "stream",
     "text": [
      "100%|██████████| 25/25 [00:13<00:00,  1.80it/s]\n",
      "100%|██████████| 7/7 [00:02<00:00,  3.39it/s]\n"
     ]
    },
    {
     "name": "stdout",
     "output_type": "stream",
     "text": [
      "epoch: 328  train_loss: 0.0007122564315795899  valid_loss: 0.29421074049813406\n"
     ]
    },
    {
     "name": "stderr",
     "output_type": "stream",
     "text": [
      "100%|██████████| 25/25 [00:13<00:00,  1.84it/s]\n",
      "100%|██████████| 7/7 [00:02<00:00,  3.43it/s]\n"
     ]
    },
    {
     "name": "stdout",
     "output_type": "stream",
     "text": [
      "epoch: 329  train_loss: 0.0  valid_loss: 0.47041480030332294\n"
     ]
    },
    {
     "name": "stderr",
     "output_type": "stream",
     "text": [
      "100%|██████████| 25/25 [00:13<00:00,  1.80it/s]\n",
      "100%|██████████| 7/7 [00:02<00:00,  3.35it/s]\n"
     ]
    },
    {
     "name": "stdout",
     "output_type": "stream",
     "text": [
      "epoch: 330  train_loss: 0.0  valid_loss: 0.4424492631639753\n"
     ]
    },
    {
     "name": "stderr",
     "output_type": "stream",
     "text": [
      "100%|██████████| 25/25 [00:13<00:00,  1.84it/s]\n",
      "100%|██████████| 7/7 [00:02<00:00,  3.43it/s]\n"
     ]
    },
    {
     "name": "stdout",
     "output_type": "stream",
     "text": [
      "epoch: 331  train_loss: 0.0  valid_loss: 0.4785289892128536\n"
     ]
    },
    {
     "name": "stderr",
     "output_type": "stream",
     "text": [
      "100%|██████████| 25/25 [00:13<00:00,  1.80it/s]\n",
      "100%|██████████| 7/7 [00:01<00:00,  3.51it/s]\n"
     ]
    },
    {
     "name": "stdout",
     "output_type": "stream",
     "text": [
      "epoch: 332  train_loss: 0.0  valid_loss: 0.4889755461897169\n"
     ]
    },
    {
     "name": "stderr",
     "output_type": "stream",
     "text": [
      "100%|██████████| 25/25 [00:13<00:00,  1.84it/s]\n",
      "100%|██████████| 7/7 [00:02<00:00,  3.48it/s]\n"
     ]
    },
    {
     "name": "stdout",
     "output_type": "stream",
     "text": [
      "epoch: 333  train_loss: 0.0  valid_loss: 0.47064437185014996\n"
     ]
    },
    {
     "name": "stderr",
     "output_type": "stream",
     "text": [
      "100%|██████████| 25/25 [00:13<00:00,  1.79it/s]\n",
      "100%|██████████| 7/7 [00:02<00:00,  3.49it/s]\n"
     ]
    },
    {
     "name": "stdout",
     "output_type": "stream",
     "text": [
      "epoch: 334  train_loss: 0.0014566656947135924  valid_loss: 0.3181287390845163\n"
     ]
    },
    {
     "name": "stderr",
     "output_type": "stream",
     "text": [
      "100%|██████████| 25/25 [00:13<00:00,  1.84it/s]\n",
      "100%|██████████| 7/7 [00:02<00:00,  3.48it/s]\n"
     ]
    },
    {
     "name": "stdout",
     "output_type": "stream",
     "text": [
      "epoch: 335  train_loss: 0.0  valid_loss: 0.25965558205332073\n"
     ]
    },
    {
     "name": "stderr",
     "output_type": "stream",
     "text": [
      "100%|██████████| 25/25 [00:14<00:00,  1.78it/s]\n",
      "100%|██████████| 7/7 [00:02<00:00,  3.48it/s]\n"
     ]
    },
    {
     "name": "stdout",
     "output_type": "stream",
     "text": [
      "epoch: 336  train_loss: 0.0013975228369235992  valid_loss: 0.21608378205980575\n"
     ]
    },
    {
     "name": "stderr",
     "output_type": "stream",
     "text": [
      "100%|██████████| 25/25 [00:13<00:00,  1.84it/s]\n",
      "100%|██████████| 7/7 [00:02<00:00,  3.35it/s]\n"
     ]
    },
    {
     "name": "stdout",
     "output_type": "stream",
     "text": [
      "epoch: 337  train_loss: 0.0  valid_loss: 0.2061308409486498\n"
     ]
    },
    {
     "name": "stderr",
     "output_type": "stream",
     "text": [
      "100%|██████████| 25/25 [00:14<00:00,  1.77it/s]\n",
      "100%|██████████| 7/7 [00:02<00:00,  3.50it/s]\n"
     ]
    },
    {
     "name": "stdout",
     "output_type": "stream",
     "text": [
      "epoch: 338  train_loss: 0.0  valid_loss: 0.2028315386601857\n"
     ]
    },
    {
     "name": "stderr",
     "output_type": "stream",
     "text": [
      "100%|██████████| 25/25 [00:13<00:00,  1.83it/s]\n",
      "100%|██████████| 7/7 [00:02<00:00,  3.49it/s]\n"
     ]
    },
    {
     "name": "stdout",
     "output_type": "stream",
     "text": [
      "epoch: 339  train_loss: 0.0  valid_loss: 0.19982984236308507\n"
     ]
    },
    {
     "name": "stderr",
     "output_type": "stream",
     "text": [
      "100%|██████████| 25/25 [00:14<00:00,  1.78it/s]\n",
      "100%|██████████| 7/7 [00:02<00:00,  3.48it/s]\n"
     ]
    },
    {
     "name": "stdout",
     "output_type": "stream",
     "text": [
      "epoch: 340  train_loss: 0.0  valid_loss: 0.2092140285032136\n"
     ]
    },
    {
     "name": "stderr",
     "output_type": "stream",
     "text": [
      "100%|██████████| 25/25 [00:13<00:00,  1.84it/s]\n",
      "100%|██████████| 7/7 [00:02<00:00,  3.42it/s]\n"
     ]
    },
    {
     "name": "stdout",
     "output_type": "stream",
     "text": [
      "epoch: 341  train_loss: 0.0  valid_loss: 0.2027670985886029\n"
     ]
    },
    {
     "name": "stderr",
     "output_type": "stream",
     "text": [
      "100%|██████████| 25/25 [00:13<00:00,  1.79it/s]\n",
      "100%|██████████| 7/7 [00:02<00:00,  3.45it/s]\n"
     ]
    },
    {
     "name": "stdout",
     "output_type": "stream",
     "text": [
      "epoch: 342  train_loss: 0.0  valid_loss: 0.19895604252815247\n"
     ]
    },
    {
     "name": "stderr",
     "output_type": "stream",
     "text": [
      "100%|██████████| 25/25 [00:13<00:00,  1.84it/s]\n",
      "100%|██████████| 7/7 [00:02<00:00,  3.48it/s]\n"
     ]
    },
    {
     "name": "stdout",
     "output_type": "stream",
     "text": [
      "epoch: 343  train_loss: 0.0  valid_loss: 0.20173455136162893\n"
     ]
    },
    {
     "name": "stderr",
     "output_type": "stream",
     "text": [
      "100%|██████████| 25/25 [00:13<00:00,  1.79it/s]\n",
      "100%|██████████| 7/7 [00:02<00:00,  3.36it/s]\n"
     ]
    },
    {
     "name": "stdout",
     "output_type": "stream",
     "text": [
      "epoch: 344  train_loss: 0.00012386590242385864  valid_loss: 0.20479634404182434\n"
     ]
    },
    {
     "name": "stderr",
     "output_type": "stream",
     "text": [
      "100%|██████████| 25/25 [00:13<00:00,  1.85it/s]\n",
      "100%|██████████| 7/7 [00:01<00:00,  3.52it/s]\n"
     ]
    },
    {
     "name": "stdout",
     "output_type": "stream",
     "text": [
      "epoch: 345  train_loss: 0.0  valid_loss: 0.19551673637969152\n"
     ]
    },
    {
     "name": "stderr",
     "output_type": "stream",
     "text": [
      "100%|██████████| 25/25 [00:14<00:00,  1.78it/s]\n",
      "100%|██████████| 7/7 [00:02<00:00,  3.35it/s]\n"
     ]
    },
    {
     "name": "stdout",
     "output_type": "stream",
     "text": [
      "epoch: 346  train_loss: 0.0014589092135429383  valid_loss: 0.19333215483597346\n"
     ]
    },
    {
     "name": "stderr",
     "output_type": "stream",
     "text": [
      "100%|██████████| 25/25 [00:13<00:00,  1.85it/s]\n",
      "100%|██████████| 7/7 [00:02<00:00,  3.49it/s]\n"
     ]
    },
    {
     "name": "stdout",
     "output_type": "stream",
     "text": [
      "epoch: 347  train_loss: 0.0  valid_loss: 0.18539755578551972\n"
     ]
    },
    {
     "name": "stderr",
     "output_type": "stream",
     "text": [
      "100%|██████████| 25/25 [00:13<00:00,  1.79it/s]\n",
      "100%|██████████| 7/7 [00:02<00:00,  3.48it/s]\n"
     ]
    },
    {
     "name": "stdout",
     "output_type": "stream",
     "text": [
      "epoch: 348  train_loss: 0.00023407645523548126  valid_loss: 0.21012805828026362\n"
     ]
    },
    {
     "name": "stderr",
     "output_type": "stream",
     "text": [
      "100%|██████████| 25/25 [00:13<00:00,  1.84it/s]\n",
      "100%|██████████| 7/7 [00:02<00:00,  3.48it/s]\n"
     ]
    },
    {
     "name": "stdout",
     "output_type": "stream",
     "text": [
      "epoch: 349  train_loss: 0.0  valid_loss: 0.23702906710760935\n"
     ]
    },
    {
     "name": "stderr",
     "output_type": "stream",
     "text": [
      "100%|██████████| 25/25 [00:14<00:00,  1.78it/s]\n",
      "100%|██████████| 7/7 [00:01<00:00,  3.50it/s]\n"
     ]
    },
    {
     "name": "stdout",
     "output_type": "stream",
     "text": [
      "epoch: 350  train_loss: 0.0  valid_loss: 0.2398080676794052\n"
     ]
    },
    {
     "name": "stderr",
     "output_type": "stream",
     "text": [
      "100%|██████████| 25/25 [00:13<00:00,  1.84it/s]\n",
      "100%|██████████| 7/7 [00:02<00:00,  3.49it/s]\n"
     ]
    },
    {
     "name": "stdout",
     "output_type": "stream",
     "text": [
      "epoch: 351  train_loss: 0.0  valid_loss: 0.240189505474908\n"
     ]
    },
    {
     "name": "stderr",
     "output_type": "stream",
     "text": [
      "100%|██████████| 25/25 [00:13<00:00,  1.79it/s]\n",
      "100%|██████████| 7/7 [00:02<00:00,  3.47it/s]\n"
     ]
    },
    {
     "name": "stdout",
     "output_type": "stream",
     "text": [
      "epoch: 352  train_loss: 0.0  valid_loss: 0.24277974239417485\n"
     ]
    },
    {
     "name": "stderr",
     "output_type": "stream",
     "text": [
      "100%|██████████| 25/25 [00:13<00:00,  1.84it/s]\n",
      "100%|██████████| 7/7 [00:02<00:00,  3.34it/s]\n"
     ]
    },
    {
     "name": "stdout",
     "output_type": "stream",
     "text": [
      "epoch: 353  train_loss: 0.0  valid_loss: 0.24968122584479197\n"
     ]
    },
    {
     "name": "stderr",
     "output_type": "stream",
     "text": [
      "100%|██████████| 25/25 [00:14<00:00,  1.77it/s]\n",
      "100%|██████████| 7/7 [00:02<00:00,  3.48it/s]\n"
     ]
    },
    {
     "name": "stdout",
     "output_type": "stream",
     "text": [
      "epoch: 354  train_loss: 0.0  valid_loss: 0.23586205499512808\n"
     ]
    },
    {
     "name": "stderr",
     "output_type": "stream",
     "text": [
      "100%|██████████| 25/25 [00:13<00:00,  1.83it/s]\n",
      "100%|██████████| 7/7 [00:02<00:00,  3.36it/s]\n"
     ]
    },
    {
     "name": "stdout",
     "output_type": "stream",
     "text": [
      "epoch: 355  train_loss: 0.0  valid_loss: 0.25240251209054676\n"
     ]
    },
    {
     "name": "stderr",
     "output_type": "stream",
     "text": [
      "100%|██████████| 25/25 [00:14<00:00,  1.78it/s]\n",
      "100%|██████████| 7/7 [00:02<00:00,  3.31it/s]\n"
     ]
    },
    {
     "name": "stdout",
     "output_type": "stream",
     "text": [
      "epoch: 356  train_loss: 0.0  valid_loss: 0.23454956071717398\n"
     ]
    },
    {
     "name": "stderr",
     "output_type": "stream",
     "text": [
      "100%|██████████| 25/25 [00:13<00:00,  1.84it/s]\n",
      "100%|██████████| 7/7 [00:02<00:00,  3.44it/s]\n"
     ]
    },
    {
     "name": "stdout",
     "output_type": "stream",
     "text": [
      "epoch: 357  train_loss: 0.0  valid_loss: 0.23037934941904886\n"
     ]
    },
    {
     "name": "stderr",
     "output_type": "stream",
     "text": [
      "100%|██████████| 25/25 [00:13<00:00,  1.79it/s]\n",
      "100%|██████████| 7/7 [00:02<00:00,  3.44it/s]\n"
     ]
    },
    {
     "name": "stdout",
     "output_type": "stream",
     "text": [
      "epoch: 358  train_loss: 0.0  valid_loss: 0.22613693135125296\n"
     ]
    },
    {
     "name": "stderr",
     "output_type": "stream",
     "text": [
      "100%|██████████| 25/25 [00:13<00:00,  1.84it/s]\n",
      "100%|██████████| 7/7 [00:02<00:00,  3.40it/s]\n"
     ]
    },
    {
     "name": "stdout",
     "output_type": "stream",
     "text": [
      "epoch: 359  train_loss: 0.0  valid_loss: 0.23693429146494185\n"
     ]
    },
    {
     "name": "stderr",
     "output_type": "stream",
     "text": [
      "100%|██████████| 25/25 [00:14<00:00,  1.78it/s]\n",
      "100%|██████████| 7/7 [00:02<00:00,  3.31it/s]\n"
     ]
    },
    {
     "name": "stdout",
     "output_type": "stream",
     "text": [
      "epoch: 360  train_loss: 0.0011850285530090332  valid_loss: 0.19377752606357848\n"
     ]
    },
    {
     "name": "stderr",
     "output_type": "stream",
     "text": [
      "100%|██████████| 25/25 [00:13<00:00,  1.84it/s]\n",
      "100%|██████████| 7/7 [00:02<00:00,  3.35it/s]\n"
     ]
    },
    {
     "name": "stdout",
     "output_type": "stream",
     "text": [
      "epoch: 361  train_loss: 0.0032097910344600676  valid_loss: 0.22795411944389343\n"
     ]
    },
    {
     "name": "stderr",
     "output_type": "stream",
     "text": [
      "100%|██████████| 25/25 [00:13<00:00,  1.79it/s]\n",
      "100%|██████████| 7/7 [00:02<00:00,  3.25it/s]\n"
     ]
    },
    {
     "name": "stdout",
     "output_type": "stream",
     "text": [
      "epoch: 362  train_loss: 0.0084053173661232  valid_loss: 0.18024336653096334\n"
     ]
    },
    {
     "name": "stderr",
     "output_type": "stream",
     "text": [
      "100%|██████████| 25/25 [00:13<00:00,  1.80it/s]\n",
      "100%|██████████| 7/7 [00:02<00:00,  3.44it/s]\n"
     ]
    },
    {
     "name": "stdout",
     "output_type": "stream",
     "text": [
      "epoch: 363  train_loss: 0.0031404733657836915  valid_loss: 0.32565607343401226\n"
     ]
    },
    {
     "name": "stderr",
     "output_type": "stream",
     "text": [
      "100%|██████████| 25/25 [00:14<00:00,  1.78it/s]\n",
      "100%|██████████| 7/7 [00:02<00:00,  3.27it/s]\n"
     ]
    },
    {
     "name": "stdout",
     "output_type": "stream",
     "text": [
      "epoch: 364  train_loss: 0.011625364422798157  valid_loss: 0.23742361153875077\n"
     ]
    },
    {
     "name": "stderr",
     "output_type": "stream",
     "text": [
      "100%|██████████| 25/25 [00:13<00:00,  1.84it/s]\n",
      "100%|██████████| 7/7 [00:02<00:00,  3.41it/s]\n"
     ]
    },
    {
     "name": "stdout",
     "output_type": "stream",
     "text": [
      "epoch: 365  train_loss: 0.0015529844164848328  valid_loss: 0.285808801651001\n"
     ]
    },
    {
     "name": "stderr",
     "output_type": "stream",
     "text": [
      "100%|██████████| 25/25 [00:14<00:00,  1.78it/s]\n",
      "100%|██████████| 7/7 [00:02<00:00,  3.40it/s]\n"
     ]
    },
    {
     "name": "stdout",
     "output_type": "stream",
     "text": [
      "epoch: 366  train_loss: 0.0021895472705364227  valid_loss: 0.26187876824821743\n"
     ]
    },
    {
     "name": "stderr",
     "output_type": "stream",
     "text": [
      "100%|██████████| 25/25 [00:13<00:00,  1.84it/s]\n",
      "100%|██████████| 7/7 [00:02<00:00,  3.42it/s]\n"
     ]
    },
    {
     "name": "stdout",
     "output_type": "stream",
     "text": [
      "epoch: 367  train_loss: 0.29738266438245775  valid_loss: 0.2846159487962723\n"
     ]
    },
    {
     "name": "stderr",
     "output_type": "stream",
     "text": [
      "100%|██████████| 25/25 [00:13<00:00,  1.79it/s]\n",
      "100%|██████████| 7/7 [00:02<00:00,  3.38it/s]\n"
     ]
    },
    {
     "name": "stdout",
     "output_type": "stream",
     "text": [
      "epoch: 368  train_loss: 0.08602140501141547  valid_loss: 0.22637823011193955\n"
     ]
    },
    {
     "name": "stderr",
     "output_type": "stream",
     "text": [
      "100%|██████████| 25/25 [00:13<00:00,  1.83it/s]\n",
      "100%|██████████| 7/7 [00:02<00:00,  3.41it/s]\n"
     ]
    },
    {
     "name": "stdout",
     "output_type": "stream",
     "text": [
      "epoch: 369  train_loss: 0.03443148002028465  valid_loss: 0.29058143496513367\n"
     ]
    },
    {
     "name": "stderr",
     "output_type": "stream",
     "text": [
      "100%|██████████| 25/25 [00:14<00:00,  1.78it/s]\n",
      "100%|██████████| 7/7 [00:02<00:00,  3.40it/s]\n"
     ]
    },
    {
     "name": "stdout",
     "output_type": "stream",
     "text": [
      "epoch: 370  train_loss: 0.017207306027412415  valid_loss: 0.21424370791230882\n"
     ]
    },
    {
     "name": "stderr",
     "output_type": "stream",
     "text": [
      "100%|██████████| 25/25 [00:13<00:00,  1.84it/s]\n",
      "100%|██████████| 7/7 [00:02<00:00,  3.31it/s]\n"
     ]
    },
    {
     "name": "stdout",
     "output_type": "stream",
     "text": [
      "epoch: 371  train_loss: 0.01956309422850609  valid_loss: 0.17580708861351013\n"
     ]
    },
    {
     "name": "stderr",
     "output_type": "stream",
     "text": [
      "100%|██████████| 25/25 [00:14<00:00,  1.77it/s]\n",
      "100%|██████████| 7/7 [00:02<00:00,  3.41it/s]\n"
     ]
    },
    {
     "name": "stdout",
     "output_type": "stream",
     "text": [
      "epoch: 372  train_loss: 0.005026483684778213  valid_loss: 0.2052689471415111\n"
     ]
    },
    {
     "name": "stderr",
     "output_type": "stream",
     "text": [
      "100%|██████████| 25/25 [00:13<00:00,  1.84it/s]\n",
      "100%|██████████| 7/7 [00:02<00:00,  3.32it/s]\n"
     ]
    },
    {
     "name": "stdout",
     "output_type": "stream",
     "text": [
      "epoch: 373  train_loss: 0.0026517562568187714  valid_loss: 0.2035261264869145\n"
     ]
    },
    {
     "name": "stderr",
     "output_type": "stream",
     "text": [
      "100%|██████████| 25/25 [00:14<00:00,  1.77it/s]\n",
      "100%|██████████| 7/7 [00:02<00:00,  3.39it/s]\n"
     ]
    },
    {
     "name": "stdout",
     "output_type": "stream",
     "text": [
      "epoch: 374  train_loss: 0.0014509783685207366  valid_loss: 0.1918082737496921\n"
     ]
    },
    {
     "name": "stderr",
     "output_type": "stream",
     "text": [
      "100%|██████████| 25/25 [00:13<00:00,  1.84it/s]\n",
      "100%|██████████| 7/7 [00:02<00:00,  3.44it/s]\n"
     ]
    },
    {
     "name": "stdout",
     "output_type": "stream",
     "text": [
      "epoch: 375  train_loss: 0.00048291683197021484  valid_loss: 0.21753962763718196\n"
     ]
    },
    {
     "name": "stderr",
     "output_type": "stream",
     "text": [
      "100%|██████████| 25/25 [00:14<00:00,  1.77it/s]\n",
      "100%|██████████| 7/7 [00:02<00:00,  3.37it/s]\n"
     ]
    },
    {
     "name": "stdout",
     "output_type": "stream",
     "text": [
      "epoch: 376  train_loss: 0.001290435642004013  valid_loss: 0.21532399100916727\n"
     ]
    },
    {
     "name": "stderr",
     "output_type": "stream",
     "text": [
      "100%|██████████| 25/25 [00:13<00:00,  1.84it/s]\n",
      "100%|██████████| 7/7 [00:02<00:00,  3.49it/s]\n"
     ]
    },
    {
     "name": "stdout",
     "output_type": "stream",
     "text": [
      "epoch: 377  train_loss: 0.0015392449498176574  valid_loss: 0.1985168606042862\n"
     ]
    },
    {
     "name": "stderr",
     "output_type": "stream",
     "text": [
      "100%|██████████| 25/25 [00:14<00:00,  1.76it/s]\n",
      "100%|██████████| 7/7 [00:02<00:00,  3.44it/s]\n"
     ]
    },
    {
     "name": "stdout",
     "output_type": "stream",
     "text": [
      "epoch: 378  train_loss: 0.0  valid_loss: 0.20384048351219722\n"
     ]
    },
    {
     "name": "stderr",
     "output_type": "stream",
     "text": [
      "100%|██████████| 25/25 [00:13<00:00,  1.85it/s]\n",
      "100%|██████████| 7/7 [00:02<00:00,  3.40it/s]\n"
     ]
    },
    {
     "name": "stdout",
     "output_type": "stream",
     "text": [
      "epoch: 379  train_loss: 0.0  valid_loss: 0.2066813622202192\n"
     ]
    },
    {
     "name": "stderr",
     "output_type": "stream",
     "text": [
      "100%|██████████| 25/25 [00:14<00:00,  1.77it/s]\n",
      "100%|██████████| 7/7 [00:02<00:00,  3.44it/s]\n"
     ]
    },
    {
     "name": "stdout",
     "output_type": "stream",
     "text": [
      "epoch: 380  train_loss: 0.0006201261281967163  valid_loss: 0.22221869656017848\n"
     ]
    },
    {
     "name": "stderr",
     "output_type": "stream",
     "text": [
      "100%|██████████| 25/25 [00:13<00:00,  1.85it/s]\n",
      "100%|██████████| 7/7 [00:02<00:00,  3.44it/s]\n"
     ]
    },
    {
     "name": "stdout",
     "output_type": "stream",
     "text": [
      "epoch: 381  train_loss: 0.000867941677570343  valid_loss: 0.20032556993620737\n"
     ]
    },
    {
     "name": "stderr",
     "output_type": "stream",
     "text": [
      "100%|██████████| 25/25 [00:14<00:00,  1.77it/s]\n",
      "100%|██████████| 7/7 [00:02<00:00,  3.31it/s]\n"
     ]
    },
    {
     "name": "stdout",
     "output_type": "stream",
     "text": [
      "epoch: 382  train_loss: 0.005400372296571731  valid_loss: 0.18201747323785508\n"
     ]
    },
    {
     "name": "stderr",
     "output_type": "stream",
     "text": [
      "100%|██████████| 25/25 [00:13<00:00,  1.84it/s]\n",
      "100%|██████████| 7/7 [00:02<00:00,  3.31it/s]\n"
     ]
    },
    {
     "name": "stdout",
     "output_type": "stream",
     "text": [
      "epoch: 383  train_loss: 0.0032782064378261565  valid_loss: 0.2293536173445838\n"
     ]
    },
    {
     "name": "stderr",
     "output_type": "stream",
     "text": [
      "100%|██████████| 25/25 [00:14<00:00,  1.76it/s]\n",
      "100%|██████████| 7/7 [00:02<00:00,  3.28it/s]\n"
     ]
    },
    {
     "name": "stdout",
     "output_type": "stream",
     "text": [
      "epoch: 384  train_loss: 0.0016733458638191223  valid_loss: 0.22551749114479339\n"
     ]
    },
    {
     "name": "stderr",
     "output_type": "stream",
     "text": [
      "100%|██████████| 25/25 [00:13<00:00,  1.85it/s]\n",
      "100%|██████████| 7/7 [00:02<00:00,  3.31it/s]\n"
     ]
    },
    {
     "name": "stdout",
     "output_type": "stream",
     "text": [
      "epoch: 385  train_loss: 0.0023998504877090453  valid_loss: 0.22322471652712142\n"
     ]
    },
    {
     "name": "stderr",
     "output_type": "stream",
     "text": [
      "100%|██████████| 25/25 [00:14<00:00,  1.79it/s]\n",
      "100%|██████████| 7/7 [00:02<00:00,  3.39it/s]\n"
     ]
    },
    {
     "name": "stdout",
     "output_type": "stream",
     "text": [
      "epoch: 386  train_loss: 0.0  valid_loss: 0.22896139749458858\n"
     ]
    },
    {
     "name": "stderr",
     "output_type": "stream",
     "text": [
      "100%|██████████| 25/25 [00:13<00:00,  1.84it/s]\n",
      "100%|██████████| 7/7 [00:02<00:00,  3.33it/s]\n"
     ]
    },
    {
     "name": "stdout",
     "output_type": "stream",
     "text": [
      "epoch: 387  train_loss: 0.0  valid_loss: 0.22413750844342367\n"
     ]
    },
    {
     "name": "stderr",
     "output_type": "stream",
     "text": [
      "100%|██████████| 25/25 [00:14<00:00,  1.78it/s]\n",
      "100%|██████████| 7/7 [00:02<00:00,  3.42it/s]\n"
     ]
    },
    {
     "name": "stdout",
     "output_type": "stream",
     "text": [
      "epoch: 388  train_loss: 0.0  valid_loss: 0.22451345196792058\n"
     ]
    },
    {
     "name": "stderr",
     "output_type": "stream",
     "text": [
      "100%|██████████| 25/25 [00:13<00:00,  1.84it/s]\n",
      "100%|██████████| 7/7 [00:02<00:00,  3.42it/s]\n"
     ]
    },
    {
     "name": "stdout",
     "output_type": "stream",
     "text": [
      "epoch: 389  train_loss: 0.0  valid_loss: 0.23762300184794835\n"
     ]
    },
    {
     "name": "stderr",
     "output_type": "stream",
     "text": [
      "100%|██████████| 25/25 [00:14<00:00,  1.78it/s]\n",
      "100%|██████████| 7/7 [00:02<00:00,  3.42it/s]\n"
     ]
    },
    {
     "name": "stdout",
     "output_type": "stream",
     "text": [
      "epoch: 390  train_loss: 0.00016291022300720214  valid_loss: 0.22657517663070134\n"
     ]
    },
    {
     "name": "stderr",
     "output_type": "stream",
     "text": [
      "100%|██████████| 25/25 [00:13<00:00,  1.84it/s]\n",
      "100%|██████████| 7/7 [00:02<00:00,  3.30it/s]\n"
     ]
    },
    {
     "name": "stdout",
     "output_type": "stream",
     "text": [
      "epoch: 391  train_loss: 0.00019082710146903992  valid_loss: 0.21382264899356024\n"
     ]
    },
    {
     "name": "stderr",
     "output_type": "stream",
     "text": [
      "100%|██████████| 25/25 [00:14<00:00,  1.78it/s]\n",
      "100%|██████████| 7/7 [00:02<00:00,  3.41it/s]\n"
     ]
    },
    {
     "name": "stdout",
     "output_type": "stream",
     "text": [
      "epoch: 392  train_loss: 0.0002469250559806824  valid_loss: 0.21299049577542714\n"
     ]
    },
    {
     "name": "stderr",
     "output_type": "stream",
     "text": [
      "100%|██████████| 25/25 [00:13<00:00,  1.84it/s]\n",
      "100%|██████████| 7/7 [00:02<00:00,  3.35it/s]\n"
     ]
    },
    {
     "name": "stdout",
     "output_type": "stream",
     "text": [
      "epoch: 393  train_loss: 0.0012175203859806061  valid_loss: 0.2185255459376744\n"
     ]
    },
    {
     "name": "stderr",
     "output_type": "stream",
     "text": [
      "100%|██████████| 25/25 [00:14<00:00,  1.78it/s]\n",
      "100%|██████████| 7/7 [00:02<00:00,  3.38it/s]\n"
     ]
    },
    {
     "name": "stdout",
     "output_type": "stream",
     "text": [
      "epoch: 394  train_loss: 0.00034804463386535646  valid_loss: 0.21623934486082622\n"
     ]
    },
    {
     "name": "stderr",
     "output_type": "stream",
     "text": [
      "100%|██████████| 25/25 [00:13<00:00,  1.83it/s]\n",
      "100%|██████████| 7/7 [00:02<00:00,  3.40it/s]\n"
     ]
    },
    {
     "name": "stdout",
     "output_type": "stream",
     "text": [
      "epoch: 395  train_loss: 0.00020835228264331817  valid_loss: 0.21082487595932825\n"
     ]
    },
    {
     "name": "stderr",
     "output_type": "stream",
     "text": [
      "100%|██████████| 25/25 [00:13<00:00,  1.79it/s]\n",
      "100%|██████████| 7/7 [00:02<00:00,  3.50it/s]\n"
     ]
    },
    {
     "name": "stdout",
     "output_type": "stream",
     "text": [
      "epoch: 396  train_loss: 0.0010327982902526855  valid_loss: 0.21530575145568168\n"
     ]
    },
    {
     "name": "stderr",
     "output_type": "stream",
     "text": [
      "100%|██████████| 25/25 [00:13<00:00,  1.85it/s]\n",
      "100%|██████████| 7/7 [00:02<00:00,  3.34it/s]\n"
     ]
    },
    {
     "name": "stdout",
     "output_type": "stream",
     "text": [
      "epoch: 397  train_loss: 0.0  valid_loss: 0.2060413115790912\n"
     ]
    },
    {
     "name": "stderr",
     "output_type": "stream",
     "text": [
      "100%|██████████| 25/25 [00:14<00:00,  1.78it/s]\n",
      "100%|██████████| 7/7 [00:02<00:00,  3.48it/s]\n"
     ]
    },
    {
     "name": "stdout",
     "output_type": "stream",
     "text": [
      "epoch: 398  train_loss: 0.0003159525990486145  valid_loss: 0.2181003593972751\n"
     ]
    },
    {
     "name": "stderr",
     "output_type": "stream",
     "text": [
      "100%|██████████| 25/25 [00:13<00:00,  1.84it/s]\n",
      "100%|██████████| 7/7 [00:02<00:00,  3.48it/s]\n"
     ]
    },
    {
     "name": "stdout",
     "output_type": "stream",
     "text": [
      "epoch: 399  train_loss: 6.0164034366607665e-05  valid_loss: 0.25940248529825893\n"
     ]
    },
    {
     "name": "stderr",
     "output_type": "stream",
     "text": [
      "100%|██████████| 25/25 [00:14<00:00,  1.78it/s]\n",
      "100%|██████████| 7/7 [00:02<00:00,  3.39it/s]"
     ]
    },
    {
     "name": "stdout",
     "output_type": "stream",
     "text": [
      "epoch: 400  train_loss: 0.0  valid_loss: 0.23081568947860173\n"
     ]
    },
    {
     "name": "stderr",
     "output_type": "stream",
     "text": [
      "\n"
     ]
    }
   ],
   "source": [
    "best_valid_loss=np.Inf\n",
    "train_losses,valid_losses=[],[]\n",
    "for i in range(epochs):\n",
    "    train_loss=train_model(model,trainLoad,optimizer,criterion)\n",
    "    valid_loss=eval_model(model,validLoad,criterion)\n",
    "    \n",
    "    if valid_loss<best_valid_loss:\n",
    "        torch.save(model.state_dict(),'best_model.pt') #save\n",
    "        best_valid_loss=valid_loss\n",
    "        print('Saved weights success')\n",
    "    train_losses.append(train_loss)\n",
    "    valid_losses.append(valid_loss)\n",
    "    print(f\"epoch: {i+1}  train_loss: {train_loss}  valid_loss: {valid_loss}\")"
   ]
  },
  {
   "cell_type": "markdown",
   "id": "56f2bbbc",
   "metadata": {
    "papermill": {
     "duration": 1.205287,
     "end_time": "2023-06-02T21:50:09.261228",
     "exception": false,
     "start_time": "2023-06-02T21:50:08.055941",
     "status": "completed"
    },
    "tags": []
   },
   "source": [
    "# Visualizing training by plotting losses"
   ]
  },
  {
   "cell_type": "code",
   "execution_count": 22,
   "id": "cfdb61c6",
   "metadata": {
    "execution": {
     "iopub.execute_input": "2023-06-02T21:50:11.598759Z",
     "iopub.status.busy": "2023-06-02T21:50:11.598384Z",
     "iopub.status.idle": "2023-06-02T21:50:11.880456Z",
     "shell.execute_reply": "2023-06-02T21:50:11.878289Z"
    },
    "papermill": {
     "duration": 1.493984,
     "end_time": "2023-06-02T21:50:11.882560",
     "exception": false,
     "start_time": "2023-06-02T21:50:10.388576",
     "status": "completed"
    },
    "tags": []
   },
   "outputs": [
    {
     "data": {
      "image/png": "[encoded data removed]",
      "text/plain": [
       "<Figure size 640x480 with 1 Axes>"
      ]
     },
     "metadata": {},
     "output_type": "display_data"
    }
   ],
   "source": [
    "plt.suptitle('Losses')\n",
    "plt.plot(range(1,1+epochs),train_losses, label='train_loss')\n",
    "plt.plot(range(1,1+epochs),valid_losses,label='valid_loss')\n",
    "plt.xlabel('Epochs')\n",
    "plt.ylabel('Loss')\n",
    "plt.legend()\n",
    "plt.show()"
   ]
  },
  {
   "cell_type": "markdown",
   "id": "0eb8787e",
   "metadata": {
    "papermill": {
     "duration": 1.132389,
     "end_time": "2023-06-02T21:50:14.141811",
     "exception": false,
     "start_time": "2023-06-02T21:50:13.009422",
     "status": "completed"
    },
    "tags": []
   },
   "source": [
    "# Getting anchor encodings"
   ]
  },
  {
   "cell_type": "code",
   "execution_count": 23,
   "id": "5cf79eb5",
   "metadata": {
    "execution": {
     "iopub.execute_input": "2023-06-02T21:50:16.666531Z",
     "iopub.status.busy": "2023-06-02T21:50:16.666125Z",
     "iopub.status.idle": "2023-06-02T21:50:16.674276Z",
     "shell.execute_reply": "2023-06-02T21:50:16.673212Z"
    },
    "papermill": {
     "duration": 1.284689,
     "end_time": "2023-06-02T21:50:16.676695",
     "exception": false,
     "start_time": "2023-06-02T21:50:15.392006",
     "status": "completed"
    },
    "tags": []
   },
   "outputs": [],
   "source": [
    "def get_encoding_csv(model,anc_img_names):\n",
    "    anc_img_names_arr=np.array(anc_img_names)\n",
    "    encodings=[]\n",
    "    \n",
    "    model.eval()\n",
    "    with torch.no_grad():\n",
    "        for i in tqdm(anc_img_names_arr):\n",
    "            A=io.imread(d_dir+i)\n",
    "            A=torch.from_numpy(A).permute(2,0,1)/255.0\n",
    "            A=A.to(device)\n",
    "            A_enc=model(A.unsqueeze(0)) # adding batchsize\n",
    "            encodings.append(A_enc.squeeze().cpu().detach().numpy())\n",
    "        encodings=np.array(encodings)\n",
    "        encodings=pd.DataFrame(encodings)\n",
    "        df_enc=pd.concat([anc_img_names,encodings],axis=1)\n",
    "    \n",
    "    return df_enc    "
   ]
  },
  {
   "cell_type": "code",
   "execution_count": 24,
   "id": "0d1c096b",
   "metadata": {
    "execution": {
     "iopub.execute_input": "2023-06-02T21:50:18.991382Z",
     "iopub.status.busy": "2023-06-02T21:50:18.990359Z",
     "iopub.status.idle": "2023-06-02T21:51:00.145025Z",
     "shell.execute_reply": "2023-06-02T21:51:00.143942Z"
    },
    "papermill": {
     "duration": 42.281674,
     "end_time": "2023-06-02T21:51:00.147700",
     "exception": false,
     "start_time": "2023-06-02T21:50:17.866026",
     "status": "completed"
    },
    "tags": []
   },
   "outputs": [
    {
     "name": "stderr",
     "output_type": "stream",
     "text": [
      "100%|██████████| 4000/4000 [00:41<00:00, 97.52it/s]\n"
     ]
    }
   ],
   "source": [
    "model.load_state_dict(torch.load('/kaggle/working/best_model.pt'))\n",
    "df_enc=get_encoding_csv(model,df['Anchor'])"
   ]
  },
  {
   "cell_type": "code",
   "execution_count": 25,
   "id": "91051334",
   "metadata": {
    "execution": {
     "iopub.execute_input": "2023-06-02T21:51:02.602970Z",
     "iopub.status.busy": "2023-06-02T21:51:02.602617Z",
     "iopub.status.idle": "2023-06-02T21:51:07.211744Z",
     "shell.execute_reply": "2023-06-02T21:51:07.210825Z"
    },
    "papermill": {
     "duration": 5.764048,
     "end_time": "2023-06-02T21:51:07.213858",
     "exception": false,
     "start_time": "2023-06-02T21:51:01.449810",
     "status": "completed"
    },
    "tags": []
   },
   "outputs": [
    {
     "data": {
      "text/html": [
       "<div>\n",
       "<style scoped>\n",
       "    .dataframe tbody tr th:only-of-type {\n",
       "        vertical-align: middle;\n",
       "    }\n",
       "\n",
       "    .dataframe tbody tr th {\n",
       "        vertical-align: top;\n",
       "    }\n",
       "\n",
       "    .dataframe thead th {\n",
       "        text-align: right;\n",
       "    }\n",
       "</style>\n",
       "<table border=\"1\" class=\"dataframe\">\n",
       "  <thead>\n",
       "    <tr style=\"text-align: right;\">\n",
       "      <th></th>\n",
       "      <th>Anchor</th>\n",
       "      <th>0</th>\n",
       "      <th>1</th>\n",
       "      <th>2</th>\n",
       "      <th>3</th>\n",
       "      <th>4</th>\n",
       "      <th>5</th>\n",
       "      <th>6</th>\n",
       "      <th>7</th>\n",
       "      <th>8</th>\n",
       "      <th>...</th>\n",
       "      <th>1014</th>\n",
       "      <th>1015</th>\n",
       "      <th>1016</th>\n",
       "      <th>1017</th>\n",
       "      <th>1018</th>\n",
       "      <th>1019</th>\n",
       "      <th>1020</th>\n",
       "      <th>1021</th>\n",
       "      <th>1022</th>\n",
       "      <th>1023</th>\n",
       "    </tr>\n",
       "  </thead>\n",
       "  <tbody>\n",
       "    <tr>\n",
       "      <th>0</th>\n",
       "      <td>1420_c5s3_052165_01.jpg</td>\n",
       "      <td>0.353541</td>\n",
       "      <td>1.592970</td>\n",
       "      <td>-0.901738</td>\n",
       "      <td>-0.687896</td>\n",
       "      <td>-1.241509</td>\n",
       "      <td>-0.502580</td>\n",
       "      <td>-0.561516</td>\n",
       "      <td>-0.511053</td>\n",
       "      <td>1.508046</td>\n",
       "      <td>...</td>\n",
       "      <td>1.651643</td>\n",
       "      <td>-0.786088</td>\n",
       "      <td>-0.889690</td>\n",
       "      <td>0.270894</td>\n",
       "      <td>-1.116461</td>\n",
       "      <td>-0.489876</td>\n",
       "      <td>-0.469201</td>\n",
       "      <td>0.421487</td>\n",
       "      <td>1.183205</td>\n",
       "      <td>-0.737541</td>\n",
       "    </tr>\n",
       "    <tr>\n",
       "      <th>1</th>\n",
       "      <td>1420_c3s3_061978_03.jpg</td>\n",
       "      <td>0.401743</td>\n",
       "      <td>1.500845</td>\n",
       "      <td>-0.784824</td>\n",
       "      <td>-0.578187</td>\n",
       "      <td>-1.257625</td>\n",
       "      <td>-0.555354</td>\n",
       "      <td>-0.513588</td>\n",
       "      <td>-0.593606</td>\n",
       "      <td>1.591613</td>\n",
       "      <td>...</td>\n",
       "      <td>1.369165</td>\n",
       "      <td>-0.729151</td>\n",
       "      <td>-0.805753</td>\n",
       "      <td>0.273625</td>\n",
       "      <td>-1.091748</td>\n",
       "      <td>-0.533459</td>\n",
       "      <td>-0.513586</td>\n",
       "      <td>0.530891</td>\n",
       "      <td>1.364749</td>\n",
       "      <td>-0.703484</td>\n",
       "    </tr>\n",
       "    <tr>\n",
       "      <th>2</th>\n",
       "      <td>1420_c5s3_062565_05.jpg</td>\n",
       "      <td>0.340855</td>\n",
       "      <td>1.445087</td>\n",
       "      <td>-0.845430</td>\n",
       "      <td>-0.466133</td>\n",
       "      <td>-1.163332</td>\n",
       "      <td>-0.587364</td>\n",
       "      <td>-0.583136</td>\n",
       "      <td>-0.678538</td>\n",
       "      <td>1.485753</td>\n",
       "      <td>...</td>\n",
       "      <td>1.228023</td>\n",
       "      <td>-0.709660</td>\n",
       "      <td>-0.768290</td>\n",
       "      <td>0.190412</td>\n",
       "      <td>-1.086650</td>\n",
       "      <td>-0.497321</td>\n",
       "      <td>-0.547982</td>\n",
       "      <td>0.469317</td>\n",
       "      <td>1.203297</td>\n",
       "      <td>-0.614335</td>\n",
       "    </tr>\n",
       "    <tr>\n",
       "      <th>3</th>\n",
       "      <td>1420_c6s3_085592_04.jpg</td>\n",
       "      <td>0.297546</td>\n",
       "      <td>1.342976</td>\n",
       "      <td>-0.953871</td>\n",
       "      <td>-0.337918</td>\n",
       "      <td>-0.950894</td>\n",
       "      <td>-0.456590</td>\n",
       "      <td>-0.636669</td>\n",
       "      <td>-0.440583</td>\n",
       "      <td>1.190457</td>\n",
       "      <td>...</td>\n",
       "      <td>1.361014</td>\n",
       "      <td>-0.902309</td>\n",
       "      <td>-0.714512</td>\n",
       "      <td>0.072969</td>\n",
       "      <td>-0.999895</td>\n",
       "      <td>-0.360414</td>\n",
       "      <td>-0.459160</td>\n",
       "      <td>0.277740</td>\n",
       "      <td>0.812119</td>\n",
       "      <td>-0.576957</td>\n",
       "    </tr>\n",
       "    <tr>\n",
       "      <th>4</th>\n",
       "      <td>0663_c5s3_085987_03.jpg</td>\n",
       "      <td>0.641517</td>\n",
       "      <td>0.555489</td>\n",
       "      <td>0.141757</td>\n",
       "      <td>0.115501</td>\n",
       "      <td>-1.124547</td>\n",
       "      <td>-0.846818</td>\n",
       "      <td>-0.933658</td>\n",
       "      <td>-1.253955</td>\n",
       "      <td>0.928510</td>\n",
       "      <td>...</td>\n",
       "      <td>0.920254</td>\n",
       "      <td>0.340387</td>\n",
       "      <td>-0.707310</td>\n",
       "      <td>0.922741</td>\n",
       "      <td>-0.559044</td>\n",
       "      <td>-0.411765</td>\n",
       "      <td>-0.965114</td>\n",
       "      <td>0.212658</td>\n",
       "      <td>0.954884</td>\n",
       "      <td>-0.342570</td>\n",
       "    </tr>\n",
       "  </tbody>\n",
       "</table>\n",
       "<p>5 rows × 1025 columns</p>\n",
       "</div>"
      ],
      "text/plain": [
       "                    Anchor         0         1         2         3         4  \\\n",
       "0  1420_c5s3_052165_01.jpg  0.353541  1.592970 -0.901738 -0.687896 -1.241509   \n",
       "1  1420_c3s3_061978_03.jpg  0.401743  1.500845 -0.784824 -0.578187 -1.257625   \n",
       "2  1420_c5s3_062565_05.jpg  0.340855  1.445087 -0.845430 -0.466133 -1.163332   \n",
       "3  1420_c6s3_085592_04.jpg  0.297546  1.342976 -0.953871 -0.337918 -0.950894   \n",
       "4  0663_c5s3_085987_03.jpg  0.641517  0.555489  0.141757  0.115501 -1.124547   \n",
       "\n",
       "          5         6         7         8  ...      1014      1015      1016  \\\n",
       "0 -0.502580 -0.561516 -0.511053  1.508046  ...  1.651643 -0.786088 -0.889690   \n",
       "1 -0.555354 -0.513588 -0.593606  1.591613  ...  1.369165 -0.729151 -0.805753   \n",
       "2 -0.587364 -0.583136 -0.678538  1.485753  ...  1.228023 -0.709660 -0.768290   \n",
       "3 -0.456590 -0.636669 -0.440583  1.190457  ...  1.361014 -0.902309 -0.714512   \n",
       "4 -0.846818 -0.933658 -1.253955  0.928510  ...  0.920254  0.340387 -0.707310   \n",
       "\n",
       "       1017      1018      1019      1020      1021      1022      1023  \n",
       "0  0.270894 -1.116461 -0.489876 -0.469201  0.421487  1.183205 -0.737541  \n",
       "1  0.273625 -1.091748 -0.533459 -0.513586  0.530891  1.364749 -0.703484  \n",
       "2  0.190412 -1.086650 -0.497321 -0.547982  0.469317  1.203297 -0.614335  \n",
       "3  0.072969 -0.999895 -0.360414 -0.459160  0.277740  0.812119 -0.576957  \n",
       "4  0.922741 -0.559044 -0.411765 -0.965114  0.212658  0.954884 -0.342570  \n",
       "\n",
       "[5 rows x 1025 columns]"
      ]
     },
     "execution_count": 25,
     "metadata": {},
     "output_type": "execute_result"
    }
   ],
   "source": [
    "df_enc.to_csv('database.csv',index=False)\n",
    "df_enc.head()"
   ]
  },
  {
   "cell_type": "markdown",
   "id": "20450b0b",
   "metadata": {
    "papermill": {
     "duration": 1.221412,
     "end_time": "2023-06-02T21:51:09.609693",
     "exception": false,
     "start_time": "2023-06-02T21:51:08.388281",
     "status": "completed"
    },
    "tags": []
   },
   "source": [
    "# Inference "
   ]
  },
  {
   "cell_type": "code",
   "execution_count": 26,
   "id": "0b5aabe2",
   "metadata": {
    "execution": {
     "iopub.execute_input": "2023-06-02T21:51:12.079275Z",
     "iopub.status.busy": "2023-06-02T21:51:12.078849Z",
     "iopub.status.idle": "2023-06-02T21:51:12.084127Z",
     "shell.execute_reply": "2023-06-02T21:51:12.083210Z"
    },
    "papermill": {
     "duration": 1.322461,
     "end_time": "2023-06-02T21:51:12.086572",
     "exception": false,
     "start_time": "2023-06-02T21:51:10.764111",
     "status": "completed"
    },
    "tags": []
   },
   "outputs": [],
   "source": [
    "def euclidean_dist(img_enc,anc_enc_arr):\n",
    "    dist=np.sqrt(np.dot(img_enc-anc_enc_arr,(img_enc-anc_enc_arr).T))\n",
    "    return dist"
   ]
  },
  {
   "cell_type": "code",
   "execution_count": 27,
   "id": "02ef77ee",
   "metadata": {
    "execution": {
     "iopub.execute_input": "2023-06-02T21:51:14.509339Z",
     "iopub.status.busy": "2023-06-02T21:51:14.508966Z",
     "iopub.status.idle": "2023-06-02T21:51:14.528846Z",
     "shell.execute_reply": "2023-06-02T21:51:14.528001Z"
    },
    "papermill": {
     "duration": 1.196985,
     "end_time": "2023-06-02T21:51:14.530784",
     "exception": false,
     "start_time": "2023-06-02T21:51:13.333799",
     "status": "completed"
    },
    "tags": []
   },
   "outputs": [],
   "source": [
    "idx=57\n",
    "img_name=df_enc['Anchor'].iloc[idx]\n",
    "img_path=d_dir+img_name\n",
    "\n",
    "img=io.imread(img_path)\n",
    "img=torch.from_numpy(img).permute(2,0,1)/255.0\n",
    "\n",
    "model.eval()\n",
    "with torch.no_grad():\n",
    "    img=img.to(device)\n",
    "    img_enc=model(img.unsqueeze(0))\n",
    "    img_enc=img_enc.detach().cpu().numpy()"
   ]
  },
  {
   "cell_type": "code",
   "execution_count": 28,
   "id": "4d594033",
   "metadata": {
    "execution": {
     "iopub.execute_input": "2023-06-02T21:51:16.937780Z",
     "iopub.status.busy": "2023-06-02T21:51:16.937414Z",
     "iopub.status.idle": "2023-06-02T21:51:16.946710Z",
     "shell.execute_reply": "2023-06-02T21:51:16.945763Z"
    },
    "papermill": {
     "duration": 1.259891,
     "end_time": "2023-06-02T21:51:16.948718",
     "exception": false,
     "start_time": "2023-06-02T21:51:15.688827",
     "status": "completed"
    },
    "tags": []
   },
   "outputs": [],
   "source": [
    "anc_enc_arr=df_enc.iloc[:,1:].to_numpy()\n",
    "anc_img_names=df_enc['Anchor']"
   ]
  },
  {
   "cell_type": "code",
   "execution_count": 29,
   "id": "02da6e75",
   "metadata": {
    "execution": {
     "iopub.execute_input": "2023-06-02T21:51:19.353109Z",
     "iopub.status.busy": "2023-06-02T21:51:19.352752Z",
     "iopub.status.idle": "2023-06-02T21:51:19.435611Z",
     "shell.execute_reply": "2023-06-02T21:51:19.434701Z"
    },
    "papermill": {
     "duration": 1.248503,
     "end_time": "2023-06-02T21:51:19.437878",
     "exception": false,
     "start_time": "2023-06-02T21:51:18.189375",
     "status": "completed"
    },
    "tags": []
   },
   "outputs": [],
   "source": [
    "distance=[]\n",
    "for i in range(anc_enc_arr.shape[0]):\n",
    "    dist=euclidean_dist(img_enc,anc_enc_arr[i:i+1,:])\n",
    "    distance=np.append(distance,dist)"
   ]
  },
  {
   "cell_type": "code",
   "execution_count": 30,
   "id": "88cb319e",
   "metadata": {
    "execution": {
     "iopub.execute_input": "2023-06-02T21:51:21.860031Z",
     "iopub.status.busy": "2023-06-02T21:51:21.859674Z",
     "iopub.status.idle": "2023-06-02T21:51:21.864174Z",
     "shell.execute_reply": "2023-06-02T21:51:21.863221Z"
    },
    "papermill": {
     "duration": 1.190306,
     "end_time": "2023-06-02T21:51:21.866117",
     "exception": false,
     "start_time": "2023-06-02T21:51:20.675811",
     "status": "completed"
    },
    "tags": []
   },
   "outputs": [],
   "source": [
    "closest_distance=np.argsort(distance)"
   ]
  },
  {
   "cell_type": "code",
   "execution_count": 31,
   "id": "f558ab4a",
   "metadata": {
    "execution": {
     "iopub.execute_input": "2023-06-02T21:51:24.319120Z",
     "iopub.status.busy": "2023-06-02T21:51:24.318038Z",
     "iopub.status.idle": "2023-06-02T21:51:25.742552Z",
     "shell.execute_reply": "2023-06-02T21:51:25.741683Z"
    },
    "papermill": {
     "duration": 2.655138,
     "end_time": "2023-06-02T21:51:25.746473",
     "exception": false,
     "start_time": "2023-06-02T21:51:23.091335",
     "status": "completed"
    },
    "tags": []
   },
   "outputs": [
    {
     "name": "stderr",
     "output_type": "stream",
     "text": [
      "/opt/conda/lib/python3.10/site-packages/networkx/drawing/layout.py:726: RuntimeWarning: divide by zero encountered in divide\n",
      "  costargs = (np, 1 / (dist_mtx + np.eye(dist_mtx.shape[0]) * 1e-3), meanwt, dim)\n"
     ]
    },
    {
     "data": {
      "image/png": "[encoded data removed]",
      "text/plain": [
       "<Figure size 2000x2000 with 7 Axes>"
      ]
     },
     "metadata": {},
     "output_type": "display_data"
    }
   ],
   "source": [
    "from utils import plot_closest_imgs\n",
    "\n",
    "plot_closest_imgs(anc_img_names,d_dir,img,img_path,closest_distance,distance,no_of_closest=5)"
   ]
  },
  {
   "cell_type": "code",
   "execution_count": null,
   "id": "f65fbfb4",
   "metadata": {
    "papermill": {
     "duration": 1.21657,
     "end_time": "2023-06-02T21:51:28.123748",
     "exception": false,
     "start_time": "2023-06-02T21:51:26.907178",
     "status": "completed"
    },
    "tags": []
   },
   "outputs": [],
   "source": []
  }
 ],
 "metadata": {
  "kernelspec": {
   "display_name": "Python 3",
   "language": "python",
   "name": "python3"
  },
  "language_info": {
   "codemirror_mode": {
    "name": "ipython",
    "version": 3
   },
   "file_extension": ".py",
   "mimetype": "text/x-python",
   "name": "python",
   "nbconvert_exporter": "python",
   "pygments_lexer": "ipython3",
   "version": "3.10.10"
  },
  "papermill": {
   "default_parameters": {},
   "duration": 6464.945515,
   "end_time": "2023-06-02T21:51:32.348603",
   "environment_variables": {},
   "exception": null,
   "input_path": "__notebook__.ipynb",
   "output_path": "__notebook__.ipynb",
   "parameters": {},
   "start_time": "2023-06-02T20:03:47.403088",
   "version": "2.4.0"
  },
  "widgets": {
   "application/vnd.jupyter.widget-state+json": {
    "state": {
     "11ed627e266444cdb7e70356ff97e0d3": {
      "model_module": "@jupyter-widgets/base",
      "model_module_version": "1.2.0",
      "model_name": "LayoutModel",
      "state": {
       "_model_module": "@jupyter-widgets/base",
       "_model_module_version": "1.2.0",
       "_model_name": "LayoutModel",
       "_view_count": null,
       "_view_module": "@jupyter-widgets/base",
       "_view_module_version": "1.2.0",
       "_view_name": "LayoutView",
       "align_content": null,
       "align_items": null,
       "align_self": null,
       "border": null,
       "bottom": null,
       "display": null,
       "flex": null,
       "flex_flow": null,
       "grid_area": null,
       "grid_auto_columns": null,
       "grid_auto_flow": null,
       "grid_auto_rows": null,
       "grid_column": null,
       "grid_gap": null,
       "grid_row": null,
       "grid_template_areas": null,
       "grid_template_columns": null,
       "grid_template_rows": null,
       "height": null,
       "justify_content": null,
       "justify_items": null,
       "left": null,
       "margin": null,
       "max_height": null,
       "max_width": null,
       "min_height": null,
       "min_width": null,
       "object_fit": null,
       "object_position": null,
       "order": null,
       "overflow": null,
       "overflow_x": null,
       "overflow_y": null,
       "padding": null,
       "right": null,
       "top": null,
       "visibility": null,
       "width": null
      }
     },
     "2a0a54cb9c954b81a1fc4d756a86b136": {
      "model_module": "@jupyter-widgets/base",
      "model_module_version": "1.2.0",
      "model_name": "LayoutModel",
      "state": {
       "_model_module": "@jupyter-widgets/base",
       "_model_module_version": "1.2.0",
       "_model_name": "LayoutModel",
       "_view_count": null,
       "_view_module": "@jupyter-widgets/base",
       "_view_module_version": "1.2.0",
       "_view_name": "LayoutView",
       "align_content": null,
       "align_items": null,
       "align_self": null,
       "border": null,
       "bottom": null,
       "display": null,
       "flex": null,
       "flex_flow": null,
       "grid_area": null,
       "grid_auto_columns": null,
       "grid_auto_flow": null,
       "grid_auto_rows": null,
       "grid_column": null,
       "grid_gap": null,
       "grid_row": null,
       "grid_template_areas": null,
       "grid_template_columns": null,
       "grid_template_rows": null,
       "height": null,
       "justify_content": null,
       "justify_items": null,
       "left": null,
       "margin": null,
       "max_height": null,
       "max_width": null,
       "min_height": null,
       "min_width": null,
       "object_fit": null,
       "object_position": null,
       "order": null,
       "overflow": null,
       "overflow_x": null,
       "overflow_y": null,
       "padding": null,
       "right": null,
       "top": null,
       "visibility": null,
       "width": null
      }
     },
     "346777c2a91144d4902f7c65566a6d6a": {
      "model_module": "@jupyter-widgets/controls",
      "model_module_version": "1.5.0",
      "model_name": "ProgressStyleModel",
      "state": {
       "_model_module": "@jupyter-widgets/controls",
       "_model_module_version": "1.5.0",
       "_model_name": "ProgressStyleModel",
       "_view_count": null,
       "_view_module": "@jupyter-widgets/base",
       "_view_module_version": "1.2.0",
       "_view_name": "StyleView",
       "bar_color": null,
       "description_width": ""
      }
     },
     "403f48da54b64ed78bce18c198db37cf": {
      "model_module": "@jupyter-widgets/controls",
      "model_module_version": "1.5.0",
      "model_name": "DescriptionStyleModel",
      "state": {
       "_model_module": "@jupyter-widgets/controls",
       "_model_module_version": "1.5.0",
       "_model_name": "DescriptionStyleModel",
       "_view_count": null,
       "_view_module": "@jupyter-widgets/base",
       "_view_module_version": "1.2.0",
       "_view_name": "StyleView",
       "description_width": ""
      }
     },
     "4c5a92ac6e79491ba243f14b7a14f8d8": {
      "model_module": "@jupyter-widgets/controls",
      "model_module_version": "1.5.0",
      "model_name": "HTMLModel",
      "state": {
       "_dom_classes": [],
       "_model_module": "@jupyter-widgets/controls",
       "_model_module_version": "1.5.0",
       "_model_name": "HTMLModel",
       "_view_count": null,
       "_view_module": "@jupyter-widgets/controls",
       "_view_module_version": "1.5.0",
       "_view_name": "HTMLView",
       "description": "",
       "description_tooltip": null,
       "layout": "IPY_MODEL_2a0a54cb9c954b81a1fc4d756a86b136",
       "placeholder": "​",
       "style": "IPY_MODEL_520314d556f54c758004d8f4bd0f1470",
       "value": "Downloading model.safetensors: 100%"
      }
     },
     "520314d556f54c758004d8f4bd0f1470": {
      "model_module": "@jupyter-widgets/controls",
      "model_module_version": "1.5.0",
      "model_name": "DescriptionStyleModel",
      "state": {
       "_model_module": "@jupyter-widgets/controls",
       "_model_module_version": "1.5.0",
       "_model_name": "DescriptionStyleModel",
       "_view_count": null,
       "_view_module": "@jupyter-widgets/base",
       "_view_module_version": "1.2.0",
       "_view_name": "StyleView",
       "description_width": ""
      }
     },
     "7893cf568e4d4ca7a799a594b306107f": {
      "model_module": "@jupyter-widgets/controls",
      "model_module_version": "1.5.0",
      "model_name": "FloatProgressModel",
      "state": {
       "_dom_classes": [],
       "_model_module": "@jupyter-widgets/controls",
       "_model_module_version": "1.5.0",
       "_model_name": "FloatProgressModel",
       "_view_count": null,
       "_view_module": "@jupyter-widgets/controls",
       "_view_module_version": "1.5.0",
       "_view_name": "ProgressView",
       "bar_style": "success",
       "description": "",
       "description_tooltip": null,
       "layout": "IPY_MODEL_11ed627e266444cdb7e70356ff97e0d3",
       "max": 21355344.0,
       "min": 0.0,
       "orientation": "horizontal",
       "style": "IPY_MODEL_346777c2a91144d4902f7c65566a6d6a",
       "value": 21355344.0
      }
     },
     "7fac6bd4d62346c9b4cabc616d63b38a": {
      "model_module": "@jupyter-widgets/controls",
      "model_module_version": "1.5.0",
      "model_name": "HTMLModel",
      "state": {
       "_dom_classes": [],
       "_model_module": "@jupyter-widgets/controls",
       "_model_module_version": "1.5.0",
       "_model_name": "HTMLModel",
       "_view_count": null,
       "_view_module": "@jupyter-widgets/controls",
       "_view_module_version": "1.5.0",
       "_view_name": "HTMLView",
       "description": "",
       "description_tooltip": null,
       "layout": "IPY_MODEL_8aa7ff30e5154976baf911d5fd4e2674",
       "placeholder": "​",
       "style": "IPY_MODEL_403f48da54b64ed78bce18c198db37cf",
       "value": " 21.4M/21.4M [00:00&lt;00:00, 166MB/s]"
      }
     },
     "8aa7ff30e5154976baf911d5fd4e2674": {
      "model_module": "@jupyter-widgets/base",
      "model_module_version": "1.2.0",
      "model_name": "LayoutModel",
      "state": {
       "_model_module": "@jupyter-widgets/base",
       "_model_module_version": "1.2.0",
       "_model_name": "LayoutModel",
       "_view_count": null,
       "_view_module": "@jupyter-widgets/base",
       "_view_module_version": "1.2.0",
       "_view_name": "LayoutView",
       "align_content": null,
       "align_items": null,
       "align_self": null,
       "border": null,
       "bottom": null,
       "display": null,
       "flex": null,
       "flex_flow": null,
       "grid_area": null,
       "grid_auto_columns": null,
       "grid_auto_flow": null,
       "grid_auto_rows": null,
       "grid_column": null,
       "grid_gap": null,
       "grid_row": null,
       "grid_template_areas": null,
       "grid_template_columns": null,
       "grid_template_rows": null,
       "height": null,
       "justify_content": null,
       "justify_items": null,
       "left": null,
       "margin": null,
       "max_height": null,
       "max_width": null,
       "min_height": null,
       "min_width": null,
       "object_fit": null,
       "object_position": null,
       "order": null,
       "overflow": null,
       "overflow_x": null,
       "overflow_y": null,
       "padding": null,
       "right": null,
       "top": null,
       "visibility": null,
       "width": null
      }
     },
     "a7ad23edc2774e7cb4ddf0235fa19cef": {
      "model_module": "@jupyter-widgets/base",
      "model_module_version": "1.2.0",
      "model_name": "LayoutModel",
      "state": {
       "_model_module": "@jupyter-widgets/base",
       "_model_module_version": "1.2.0",
       "_model_name": "LayoutModel",
       "_view_count": null,
       "_view_module": "@jupyter-widgets/base",
       "_view_module_version": "1.2.0",
       "_view_name": "LayoutView",
       "align_content": null,
       "align_items": null,
       "align_self": null,
       "border": null,
       "bottom": null,
       "display": null,
       "flex": null,
       "flex_flow": null,
       "grid_area": null,
       "grid_auto_columns": null,
       "grid_auto_flow": null,
       "grid_auto_rows": null,
       "grid_column": null,
       "grid_gap": null,
       "grid_row": null,
       "grid_template_areas": null,
       "grid_template_columns": null,
       "grid_template_rows": null,
       "height": null,
       "justify_content": null,
       "justify_items": null,
       "left": null,
       "margin": null,
       "max_height": null,
       "max_width": null,
       "min_height": null,
       "min_width": null,
       "object_fit": null,
       "object_position": null,
       "order": null,
       "overflow": null,
       "overflow_x": null,
       "overflow_y": null,
       "padding": null,
       "right": null,
       "top": null,
       "visibility": null,
       "width": null
      }
     },
     "c33aa5adb401466685bc12ddacac4a3d": {
      "model_module": "@jupyter-widgets/controls",
      "model_module_version": "1.5.0",
      "model_name": "HBoxModel",
      "state": {
       "_dom_classes": [],
       "_model_module": "@jupyter-widgets/controls",
       "_model_module_version": "1.5.0",
       "_model_name": "HBoxModel",
       "_view_count": null,
       "_view_module": "@jupyter-widgets/controls",
       "_view_module_version": "1.5.0",
       "_view_name": "HBoxView",
       "box_style": "",
       "children": [
        "IPY_MODEL_4c5a92ac6e79491ba243f14b7a14f8d8",
        "IPY_MODEL_7893cf568e4d4ca7a799a594b306107f",
        "IPY_MODEL_7fac6bd4d62346c9b4cabc616d63b38a"
       ],
       "layout": "IPY_MODEL_a7ad23edc2774e7cb4ddf0235fa19cef"
      }
     }
    },
    "version_major": 2,
    "version_minor": 0
   }
  }
 },
 "nbformat": 4,
 "nbformat_minor": 5
}
